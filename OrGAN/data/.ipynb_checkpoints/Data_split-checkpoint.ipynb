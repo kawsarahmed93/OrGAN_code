{
 "cells": [
  {
   "cell_type": "code",
   "execution_count": 1,
   "id": "952aa689",
   "metadata": {},
   "outputs": [],
   "source": [
    "import os\n",
    "import random\n",
    "import shutil\n",
    "import numpy as np"
   ]
  },
  {
   "cell_type": "code",
   "execution_count": 7,
   "id": "782a91fb",
   "metadata": {},
   "outputs": [],
   "source": [
    "path_train=\"./Xray\"\n",
    "X = os.listdir(path_train)\n",
    "random.shuffle(X)\n",
    "test_X = X[:155]\n",
    "train_X = X[155:]"
   ]
  },
  {
   "cell_type": "code",
   "execution_count": 9,
   "id": "baddc706",
   "metadata": {},
   "outputs": [],
   "source": [
    "train_X_path = \"./Train/Xray/\"\n",
    "for i in train_X:\n",
    "    source = \"./Xray/\"+i\n",
    "    dest = shutil.move(source, train_X_path)\n",
    "#dest = shutil.move(source, destination)"
   ]
  },
  {
   "cell_type": "code",
   "execution_count": 10,
   "id": "64906673",
   "metadata": {},
   "outputs": [
    {
     "data": {
      "text/plain": [
       "'./Lungs/Luna16_Lungs_660.npy'"
      ]
     },
     "execution_count": 10,
     "metadata": {},
     "output_type": "execute_result"
    }
   ],
   "source": [
    "temp = train_X\n",
    "\"./Lungs/Luna16_Lungs_\"+temp[0][12:]"
   ]
  },
  {
   "cell_type": "code",
   "execution_count": 8,
   "id": "d3724f6d",
   "metadata": {},
   "outputs": [],
   "source": [
    "train_S_path = \"./Test/Soft/\"\n",
    "for i in range(len(test_X)):\n",
    "    source = \"./Soft/Luna16_Soft_\"+test_X[i][12:]\n",
    "    dest = shutil.move(source, train_S_path)"
   ]
  },
  {
   "cell_type": "code",
   "execution_count": 14,
   "id": "900069d3",
   "metadata": {},
   "outputs": [],
   "source": [
    "train_L_path = \"./Test/Lungs/\"\n",
    "for i in range(len(test_X)):\n",
    "    source = \"./Lungs/Luna16_Lungs_\"+test_X[i][12:]\n",
    "    dest = shutil.move(source, train_L_path)"
   ]
  },
  {
   "cell_type": "code",
   "execution_count": 5,
   "id": "099f0ca6",
   "metadata": {},
   "outputs": [
    {
     "data": {
      "text/plain": [
       "154.4"
      ]
     },
     "execution_count": 5,
     "metadata": {},
     "output_type": "execute_result"
    }
   ],
   "source": [
    "772*.2"
   ]
  },
  {
   "cell_type": "code",
   "execution_count": null,
   "id": "d29ab51f",
   "metadata": {},
   "outputs": [],
   "source": []
  }
 ],
 "metadata": {
  "kernelspec": {
   "display_name": "Python 3 (ipykernel)",
   "language": "python",
   "name": "python3"
  },
  "language_info": {
   "codemirror_mode": {
    "name": "ipython",
    "version": 3
   },
   "file_extension": ".py",
   "mimetype": "text/x-python",
   "name": "python",
   "nbconvert_exporter": "python",
   "pygments_lexer": "ipython3",
   "version": "3.9.13"
  }
 },
 "nbformat": 4,
 "nbformat_minor": 5
}
