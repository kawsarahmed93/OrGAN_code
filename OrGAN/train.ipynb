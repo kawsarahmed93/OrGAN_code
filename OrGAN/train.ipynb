{
 "cells": [
  {
   "cell_type": "markdown",
   "metadata": {},
   "source": [
    "# Import Modules "
   ]
  },
  {
   "cell_type": "code",
   "execution_count": null,
   "metadata": {},
   "outputs": [],
   "source": [
    "from model.gen import OrGAN\n",
    "from model.dnet import CNN\n",
    "from utils.dataset import XrayDataset, TwoStreamBatchSampler, TXDataset\n",
    "from utils.evaluate import *\n",
    "from torch.utils.data import DataLoader \n",
    "from torch.utils.data import random_split \n",
    "from tqdm import tqdm \n",
    "import torch\n",
    "import torch.nn as nn\n",
    "import torch.nn.functional as F \n",
    "import albumentations as A \n",
    "from albumentations.pytorch import ToTensorV2\n",
    "from torch.autograd import Variable\n",
    "from pytorch_msssim import ssim, ms_ssim, SSIM, MS_SSIM\n",
    "import os\n",
    "os.environ[\"CUDA_VISIBLE_DEVICES\"] = \"0,1,2,3\"\n",
    "import numpy as np\n",
    "import math\n",
    "import cv2\n",
    "import matplotlib.pyplot as plt\n",
    "\n",
    "from torchinfo import summary\n",
    "import pandas as pd\n",
    "\n",
    "import torch.backends.cudnn as cudnn\n",
    "import random\n",
    "import gc\n",
    "\n",
    "cudnn.benchmark = False\n",
    "cudnn.deterministic = True\n",
    "torch.manual_seed(0)\n",
    "torch.cuda.manual_seed(0)\n",
    "random.seed(0)\n",
    "np.random.seed(0) "
   ]
  },
  {
   "cell_type": "markdown",
   "metadata": {},
   "source": [
    "# PSNR function"
   ]
  },
  {
   "cell_type": "code",
   "execution_count": null,
   "metadata": {},
   "outputs": [],
   "source": [
    "def PSNR(original, pred):\n",
    "    mse = np.mean((original - pred) ** 2)\n",
    "    if mse == 0:\n",
    "        return 100\n",
    "    PIXEL_MAX = 1.0\n",
    "    PSNR = 20 * math.log10(PIXEL_MAX / math.sqrt(mse))\n",
    "    return PSNR"
   ]
  },
  {
   "cell_type": "markdown",
   "metadata": {},
   "source": [
    "# Parameter Set"
   ]
  },
  {
   "cell_type": "code",
   "execution_count": null,
   "metadata": {},
   "outputs": [],
   "source": [
    "BATCH_SIZE_TRAIN = 12\n",
    "L_BATCH_SIZE_TRAIN = 6\n",
    "BATCH_SIZE_TEST = 6\n",
    "learning_rate = 0.0003\n",
    "dlearning_rate = 0.001\n",
    "epochs = 600\n",
    "model_iter = '1'\n",
    "os.makedirs('model_weights/'+model_iter, exist_ok=True)"
   ]
  },
  {
   "cell_type": "markdown",
   "metadata": {},
   "source": [
    "# DATASET Defining"
   ]
  },
  {
   "cell_type": "code",
   "execution_count": null,
   "metadata": {},
   "outputs": [],
   "source": [
    "\n",
    "train_transforms = A.Compose(\n",
    "    [\n",
    "        A.HorizontalFlip(p=0.5),\n",
    "        A.OneOf([\n",
    "            A.ShiftScaleRotate(shift_limit=0.07, scale_limit=0.1, rotate_limit=20, border_mode=cv2.BORDER_CONSTANT, value=(0, 0, 0), p=0.5),\n",
    "            A.ShiftScaleRotate(shift_limit=0.1, scale_limit=0.2, rotate_limit=30, border_mode=cv2.BORDER_CONSTANT, value=(0, 0, 0), p=0.5),\n",
    "        ], p=0.8),\n",
    "        A.OneOf([\n",
    "            A.RandomGamma(gamma_limit=(70.0, 160.0), p=0.6),\n",
    "            A.RandomBrightnessContrast(brightness_limit=0.2, contrast_limit=0.2, p=0.3),\n",
    "            A.Blur(blur_limit=(3, 7), p=0.1),\n",
    "            A.Sharpen(alpha=(0.2, 0.5), lightness=(0.5, 1.0), p=0.1)\n",
    "        ], p=0.6),\n",
    "        A.Resize(width=512, height=512, p=1.0)\n",
    "    ]\n",
    ")\n",
    "train_transforms_realx = A.Compose(\n",
    "    [\n",
    "        A.HorizontalFlip(p=0.5), \n",
    "        A.OneOf([\n",
    "            A.ShiftScaleRotate(shift_limit=0.07, scale_limit=0.1, rotate_limit=20, border_mode=cv2.BORDER_CONSTANT, value=(0, 0, 0), p=0.5),\n",
    "            A.ShiftScaleRotate(shift_limit=0.1, scale_limit=0.2, rotate_limit=30, border_mode=cv2.BORDER_CONSTANT, value=(0, 0, 0), p=0.5),\n",
    "        ], p=0.8),\n",
    "        A.Resize(width=512, height=512, p=1.0)\n",
    "    ] \n",
    ")"
   ]
  },
  {
   "cell_type": "code",
   "execution_count": null,
   "metadata": {},
   "outputs": [],
   "source": [
    "train_xray_directory = 'data/Train/Xray'\n",
    "train_xray_filenames = sorted(os.listdir(train_xray_directory))\n",
    "l_id = 624\n",
    "label_idx = list(range(l_id))\n",
    "unlabel_idx = list(range(l_id,len(train_xray_filenames)))\n",
    "\n",
    "test_xray_directory = 'data/Test/Xray'\n",
    "test_xray_filenames = os.listdir(test_xray_directory)\n",
    "\n",
    "dataset_train = XrayDataset(train_xray_filenames,train_xray_directory, l_id, transform=train_transforms, r_transform=train_transforms_realx)\n",
    "dataset_test = TXDataset(test_xray_filenames,test_xray_directory,transform = train_transforms)"
   ]
  },
  {
   "cell_type": "code",
   "execution_count": null,
   "metadata": {},
   "outputs": [],
   "source": [
    "batch_sampler = TwoStreamBatchSampler(label_idx, unlabel_idx, BATCH_SIZE_TRAIN, BATCH_SIZE_TRAIN - L_BATCH_SIZE_TRAIN)"
   ]
  },
  {
   "cell_type": "code",
   "execution_count": null,
   "metadata": {},
   "outputs": [],
   "source": [
    "Total_datalength = len(dataset_train)\n",
    "train_loader = DataLoader(dataset_train, batch_sampler=batch_sampler)\n",
    "test_loader = DataLoader(dataset_test, BATCH_SIZE_TEST, shuffle = True, drop_last=True)"
   ]
  },
  {
   "cell_type": "markdown",
   "metadata": {},
   "source": [
    "# Model Creation"
   ]
  },
  {
   "cell_type": "code",
   "execution_count": null,
   "metadata": {},
   "outputs": [],
   "source": [
    "model = OrGAN()\n",
    "dnet = CNN()"
   ]
  },
  {
   "cell_type": "markdown",
   "metadata": {},
   "source": [
    "# Training Phase"
   ]
  },
  {
   "cell_type": "code",
   "execution_count": null,
   "metadata": {},
   "outputs": [],
   "source": [
    "optimizer = torch.optim.AdamW(model.parameters(), lr = learning_rate)\n",
    "d_optimizer = torch.optim.AdamW(dnet.parameters(), lr = dlearning_rate)\n",
    "\n",
    "d_scheduler = torch.optim.lr_scheduler.ReduceLROnPlateau(d_optimizer, 'min', factor=0.5, patience= 5, verbose=True, min_lr=1e-7)\n",
    "scheduler = torch.optim.lr_scheduler.CosineAnnealingLR(optimizer, verbose=False, eta_min=1e-7, T_max=4*len(train_loader))\n",
    "\n",
    "#Loss functions\n",
    "mae = torch.nn.L1Loss()\n",
    "mse = torch.nn.MSELoss()\n",
    "bce = torch.nn.BCELoss()\n",
    "nll = torch.nn.NLLLoss()\n",
    "\n",
    "ssim = MS_SSIM(win_size=11, win_sigma=2, data_range=1, size_average=True, channel=1)"
   ]
  },
  {
   "cell_type": "code",
   "execution_count": null,
   "metadata": {
    "scrolled": true
   },
   "outputs": [],
   "source": [
    "device = 'cuda' if torch.cuda.is_available() else 'cpu'\n",
    "\n",
    "\n",
    "model= nn.DataParallel(model,device_ids = [0, 1, 2, 3])\n",
    "model = model.to(device)\n",
    "\n",
    "dnet= nn.DataParallel(dnet,device_ids = [0, 1, 2, 3])\n",
    "dnet = dnet.to(device)"
   ]
  },
  {
   "cell_type": "code",
   "execution_count": null,
   "metadata": {
    "scrolled": true
   },
   "outputs": [],
   "source": [
    "global_step = 0\n",
    "best_psnr_score = 0\n",
    "best_dloss = 100.0\n",
    "\n",
    "column_names = [\"TrPSNR\", \"TePSNR\", \"TrSSIM\", \"TeSSIM\", \"GTrloss\", \"GTrSuploss\", \"GTrAdloss\", \"GTrcloss\",\"DTrloss\"]\n",
    "df = pd.DataFrame(columns=column_names)\n",
    "\n",
    "for epoch in range(epochs):\n",
    "    model.train()\n",
    "    dnet.train()\n",
    "    \n",
    "    epoch_loss = 0\n",
    "    epoch_sloss = 0\n",
    "    epoch_closs = 0\n",
    "    epoch_aloss = 0\n",
    "    epoch_dloss=0\n",
    "    epoch_psnr = 0\n",
    "    epoch_ssim = 0\n",
    "    \n",
    "    count = 0\n",
    "    pbar = tqdm(train_loader, dynamic_ncols=True)\n",
    "    for batch, (images, masks) in enumerate(pbar):\n",
    "        \n",
    "        lungs = masks[:L_BATCH_SIZE_TRAIN]\n",
    "    \n",
    "        lungs = lungs.unsqueeze(1).to(device).float()\n",
    "        l_image = images[:L_BATCH_SIZE_TRAIN].to(device).float()\n",
    "        ul_image = images[L_BATCH_SIZE_TRAIN:].to(device).float()\n",
    "        \n",
    "        all_pred, _ = model(images.to(device).float())\n",
    "        ul_d = dnet(all_pred.detach())\n",
    "        ul_zero = torch.zeros_like(ul_d).float()\n",
    "        ul_dloss = bce(ul_d, ul_zero)\n",
    "        \n",
    "        l_d = dnet(lungs)\n",
    "        l_one = torch.ones_like(l_d).float()\n",
    "        l_dloss = bce(l_d, l_one)\n",
    "        \n",
    "        dloss = 0.5*(ul_dloss + l_dloss)\n",
    "        \n",
    "        \n",
    "        d_optimizer.zero_grad()\n",
    "        dloss.backward()\n",
    "        d_optimizer.step()\n",
    "        \n",
    "        del all_pred, ul_zero, ul_d, ul_dloss, l_d, l_one, l_dloss\n",
    "        \n",
    "        l_pred, l_log = model(l_image)\n",
    "        ul_pred, ul_log = model(ul_image)\n",
    "        \n",
    "        \n",
    "        all_pred, _ = model(images.to(device).float())\n",
    "        \n",
    "        l_domain = torch.zeros(L_BATCH_SIZE_TRAIN)\n",
    "        l_domain = l_domain.to(device).long()\n",
    "        \n",
    "        ul_domain = torch.ones(BATCH_SIZE_TRAIN-L_BATCH_SIZE_TRAIN)\n",
    "        ul_domain = ul_domain.to(device).long()\n",
    "        \n",
    "        l_nll_loss = nll(l_log, l_domain)\n",
    "        ul_nll_loss = nll(ul_log, ul_domain)\n",
    "        \n",
    "        sloss = mae(l_pred, lungs) + (1-ssim(l_pred, lungs))\n",
    "        \n",
    "        ul_d = dnet(all_pred)\n",
    "        ul_one = torch.ones_like(ul_d).float()\n",
    "        \n",
    "        aloss = bce(ul_d, ul_one)\n",
    "        \n",
    "        closs = 0.5*(l_nll_loss + ul_nll_loss)\n",
    " \n",
    "        loss = sloss + 0.01*(aloss + closs)\n",
    "        \n",
    "        optimizer.zero_grad()\n",
    "        loss.backward()\n",
    "        optimizer.step()\n",
    "        \n",
    "        del ul_d,ul_one\n",
    "    \n",
    "            \n",
    "        ssim = ssim(l_pred, lungs)\n",
    "        psnr =  PSNR(lungs.cpu().detach().numpy(), l_pred.cpu().detach().numpy())\n",
    "             \n",
    "        epoch_psnr += psnr\n",
    "        epoch_ssim += ssim.item()\n",
    "        epoch_loss += loss.item()\n",
    "        epoch_sloss += sloss.item()\n",
    "        epoch_aloss += aloss.item()\n",
    "        epoch_dloss += dloss.item()\n",
    "        epoch_closs += closs.item()\n",
    "                \n",
    "            \n",
    "        global_step +=1\n",
    "        count +=1\n",
    "        pbar.set_postfix({'epoch':epoch, 'bestVPSNR': best_psnr_score}) \n",
    "        \n",
    "        del l_pred, lungs, images, loss, ssim, all_pred, l_nll_loss, ul_nll_loss, aloss, sloss, dloss, closs\n",
    "        \n",
    "        gc.collect()\n",
    "        torch.cuda.empty_cache()\n",
    "        \n",
    "        scheduler.step()\n",
    "        \n",
    "        division_step = (len(train_loader)// (2))\n",
    "        if division_step >0:\n",
    "            if global_step % division_step ==0:\n",
    "           \n",
    "                psnr_score, ssim_score = evaluate(model, test_loader, device)\n",
    "                print('OrGAN | VPSNR(dB): ' + str(round(psnr_score,3)) + '| VSSIM: ' + str(round(ssim_score,3)))\n",
    "\n",
    "                if (psnr_score > best_psnr_score):\n",
    "                    model.psnr_score = psnr_score\n",
    "                    torch.save(model, 'model_weights/'+model_iter+'/best.ckpt')\n",
    "                    best_psnr_score = p\n",
    "                    \n",
    "\n",
    "    temp_dloss = round(((epoch_dloss)/count),3)\n",
    "    \n",
    "    if best_dloss>temp_dloss:\n",
    "        best_dloss = temp_dloss\n",
    "        \n",
    "    if d_scheduler is not None:\n",
    "        d_scheduler.step(best_dloss)\n",
    "\n",
    "    row = [round(((epoch_psnr)/count),3), psnr_score, round(((epoch_ssim)/count),3), ssim_score, round(((epoch_loss)/count),3), round(((epoch_sloss)/count),3),round(((epoch_aloss)/count),3),round(((epoch_closs)/count),3),round(((epoch_dloss)/count),3)]\n",
    "    df.loc[len(df)] = row\n",
    "    \n",
    "    print('Epoch '+str(epoch))\n",
    "    print(' TPsnr: '+str(round(((epoch_psnr)/count),3))+' TSsim: '+str(round(((epoch_ssim)/count),3))+' Tloss: '+str(round(((epoch_loss)/count),3))+ ' dloss: '+str(round(((epoch_dloss)/count),3))+ ' adv_loss: '+str(round(((epoch_aloss)/count),3))+ ' sloss: '+str(round(((epoch_sloss)/count),3))+ ' c_loss: '+str(round(((epoch_closs)/count),3)))    "
   ]
  },
  {
   "cell_type": "code",
   "execution_count": null,
   "metadata": {},
   "outputs": [],
   "source": [
    "# saving the dataframe\n",
    "df.to_csv('model_weights/'+model_iter+'epoch_data.csv')"
   ]
  }
 ],
 "metadata": {
  "kernelspec": {
   "display_name": "Python 3 (ipykernel)",
   "language": "python",
   "name": "python3"
  },
  "language_info": {
   "codemirror_mode": {
    "name": "ipython",
    "version": 3
   },
   "file_extension": ".py",
   "mimetype": "text/x-python",
   "name": "python",
   "nbconvert_exporter": "python",
   "pygments_lexer": "ipython3",
   "version": "3.9.13"
  }
 },
 "nbformat": 4,
 "nbformat_minor": 4
}
