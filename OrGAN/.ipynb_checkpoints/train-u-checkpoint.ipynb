{
 "cells": [
  {
   "cell_type": "markdown",
   "metadata": {},
   "source": [
    "# Import Modules "
   ]
  },
  {
   "cell_type": "code",
   "execution_count": 1,
   "metadata": {},
   "outputs": [],
   "source": [
    "from model.unet import Unet\n",
    "from model.cnn import CNN\n",
    "from utils.dataset import XrayDataset, TwoStreamBatchSampler, TXDataset\n",
    "from utils.evaluate import *\n",
    "from utils.ramps import *\n",
    "from torch.utils.data import DataLoader \n",
    "from torch.utils.data import random_split \n",
    "from tqdm import tqdm \n",
    "import torch\n",
    "import torch.nn as nn\n",
    "import torch.nn.functional as F \n",
    "import albumentations as A \n",
    "from albumentations.pytorch import ToTensorV2\n",
    "from torch.autograd import Variable\n",
    "from pytorch_msssim import ssim, ms_ssim, SSIM, MS_SSIM\n",
    "import os\n",
    "os.environ[\"CUDA_VISIBLE_DEVICES\"] = \"2,3\"\n",
    "import numpy as np\n",
    "import math\n",
    "\n",
    "import matplotlib.pyplot as plt\n",
    "\n",
    "from torchinfo import summary"
   ]
  },
  {
   "cell_type": "markdown",
   "metadata": {},
   "source": [
    "# PSNR function"
   ]
  },
  {
   "cell_type": "code",
   "execution_count": 2,
   "metadata": {},
   "outputs": [],
   "source": [
    "def PSNR(original, pred):\n",
    "    mse = np.mean((original - pred) ** 2)\n",
    "    if mse == 0:\n",
    "        return 100\n",
    "    PIXEL_MAX = 1.0\n",
    "    PSNR = 20 * math.log10(PIXEL_MAX / math.sqrt(mse))\n",
    "    return PSNR\n",
    "\n",
    "def normalize(img):\n",
    "    eps=1e-8\n",
    "    mn = img.min()\n",
    "    mx = img.max()\n",
    "    img = (img-mn+eps)/(mx-mn+eps)\n",
    "    return img"
   ]
  },
  {
   "cell_type": "code",
   "execution_count": 3,
   "metadata": {},
   "outputs": [],
   "source": [
    "# def dice_loss(pred, target):\n",
    "#     \"\"\"This definition generalize to real valued pred and target vector.\n",
    "# This should be differentiable.\n",
    "#     pred: tensor with first dimension as batch\n",
    "#     target: tensor with first dimension as batch\n",
    "#     \"\"\"\n",
    "\n",
    "#     smooth = 1.\n",
    "\n",
    "#     # have to use contiguous since they may from a torch.view op\n",
    "#     iflat = pred.contiguous().view(-1)\n",
    "#     tflat = target.contiguous().view(-1)\n",
    "#     intersection = torch.sum(iflat * iflat)\n",
    "\n",
    "#     A_sum = torch.sum(tflat * iflat)\n",
    "#     B_sum = torch.sum(tflat * tflat)\n",
    "    \n",
    "#     return 1 - ((2. * intersection + smooth) / (A_sum + B_sum + smooth) )\n",
    "\n",
    "# #criterion = dice_loss()\n",
    "# y = (torch.rand(2, 1, 256, 256)>0.5)*1\n",
    "# ground_truth = (torch.rand(2, 1, 256, 256)>0.5)*1\n",
    "# print(y)\n",
    "# dice_loss(y, ground_truth)"
   ]
  },
  {
   "cell_type": "markdown",
   "metadata": {},
   "source": [
    "# Parameter Set"
   ]
  },
  {
   "cell_type": "code",
   "execution_count": 4,
   "metadata": {},
   "outputs": [],
   "source": [
    "BATCH_SIZE_TRAIN = 2\n",
    "L_BATCH_SIZE_TRAIN = 1\n",
    "BATCH_SIZE_TEST = 1\n",
    "learning_rate = 0.001\n",
    "epochs = 600\n",
    "model_iter = '1st'\n",
    "os.makedirs('model_weights/'+model_iter, exist_ok=True)"
   ]
  },
  {
   "cell_type": "markdown",
   "metadata": {},
   "source": [
    "# DATASET Defining"
   ]
  },
  {
   "cell_type": "code",
   "execution_count": 5,
   "metadata": {},
   "outputs": [],
   "source": [
    "train_transforms = A.Compose(\n",
    "    [A.RandomCrop(width=800, height=800)] \n",
    ")"
   ]
  },
  {
   "cell_type": "code",
   "execution_count": 6,
   "metadata": {
    "scrolled": true
   },
   "outputs": [
    {
     "name": "stdout",
     "output_type": "stream",
     "text": [
      "Xray_184.npy\n"
     ]
    }
   ],
   "source": [
    "train_xray_directory = 'data/Train/Xray'\n",
    "train_xray_filenames = sorted(os.listdir(train_xray_directory))\n",
    "l_id = 624+200\n",
    "label_idx = list(range(l_id))\n",
    "unlabel_idx = list(range(l_id,len(train_xray_filenames)))\n",
    "print(train_xray_filenames[l_id])"
   ]
  },
  {
   "cell_type": "code",
   "execution_count": 7,
   "metadata": {},
   "outputs": [],
   "source": [
    "train_xray_csv = 'data/n_Xray_real_train.csv'\n",
    "\n",
    "test_xray_directory = 'data/Test/Xray'\n",
    "test_xray_filenames = os.listdir(test_xray_directory)\n",
    "test_xray_csv = 'data/n_Xray_real_test.csv'\n",
    "\n",
    "dataset_train = XrayDataset(train_xray_filenames,train_xray_directory,train_xray_csv, l_id, transform=train_transforms)\n",
    "#dataset_train = XrayDataset(train_xray_filenames,train_xray_directory,transform=train_transforms)\n",
    "dataset_test = TXDataset(test_xray_filenames,test_xray_directory,test_xray_csv,transform = None)"
   ]
  },
  {
   "cell_type": "code",
   "execution_count": 8,
   "metadata": {},
   "outputs": [],
   "source": [
    "batch_sampler = TwoStreamBatchSampler(label_idx, unlabel_idx, BATCH_SIZE_TRAIN, BATCH_SIZE_TRAIN - L_BATCH_SIZE_TRAIN)"
   ]
  },
  {
   "cell_type": "code",
   "execution_count": 9,
   "metadata": {},
   "outputs": [],
   "source": [
    "#dataset_train, dataset_test = random_split(dataset, [950, 50], generator = torch.Generator().manual_seed(0))\n",
    "#dataset_train.dataset.transforms= train_transforms\n",
    "Total_datalength = len(dataset_train)\n",
    "train_loader = DataLoader(dataset_train, batch_sampler=batch_sampler)\n",
    "test_loader = DataLoader(dataset_test, BATCH_SIZE_TEST, shuffle = False, drop_last=True)"
   ]
  },
  {
   "cell_type": "code",
   "execution_count": 10,
   "metadata": {},
   "outputs": [],
   "source": [
    "# model.train()\n",
    "# for images, masks  in train_loader:\n",
    "#     images = images.to(device).float()\n",
    "#     lungs = masks[0].to(device).float()\n",
    "#     soft = masks[1].to(device).float()\n",
    "    \n",
    "#     lungs = lungs.unsqueeze(1)\n",
    "#     soft = soft.unsqueeze(1)\n",
    "#     pred_masks = model(images)\n",
    "#     pred_xray = pred_masks + soft\n",
    "\n",
    "#     t_mask = (lungs>0)*1.0\n",
    "\n",
    "#     plt.imshow(t_mask.squeeze(0).squeeze(0).cpu().detach().numpy(), cmap=plt.cm.bone)\n",
    "#     plt.imshow(pred_masks.squeeze(0).squeeze(0).cpu().detach().numpy(),cmap=plt.cm.bone)\n",
    "#     break"
   ]
  },
  {
   "cell_type": "code",
   "execution_count": 11,
   "metadata": {},
   "outputs": [],
   "source": [
    "# #plt.imshow(t_mask.squeeze(0).squeeze(0).cpu().detach().numpy(), cmap=plt.cm.bone)\n",
    "# p_mask = (pred_masks>0.001)*1.0\n",
    "# plt.imshow(p_mask.squeeze(0).squeeze(0).cpu().detach().numpy(),cmap=plt.cm.bone)"
   ]
  },
  {
   "cell_type": "code",
   "execution_count": 12,
   "metadata": {},
   "outputs": [],
   "source": [
    "# # p_mask = (pred_masks>0.001)*1.0\n",
    "# # bce_loss = bce(p_mask.squeeze(1),t_mask.squeeze(1))\n",
    "# # bce_loss\n",
    "# p_mask = torch.zeros([1,2,1024,1024]).to(device)\n",
    "# p_mask[:,0,:,:]=1-pred_masks\n",
    "# p_mask[:,1,:,:]=pred_masks\n",
    "# bce = torch.nn.CrossEntropyLoss()\n",
    "# bce_loss = bce(p_mask,t_mask.squeeze(1))\n",
    "# bce_loss "
   ]
  },
  {
   "cell_type": "code",
   "execution_count": 13,
   "metadata": {},
   "outputs": [],
   "source": [
    "# plt.imshow(p_mask.squeeze(0).squeeze(0).cpu().detach().numpy(), cmap=plt.cm.bone)"
   ]
  },
  {
   "cell_type": "markdown",
   "metadata": {},
   "source": [
    "# Model Creation"
   ]
  },
  {
   "cell_type": "code",
   "execution_count": 14,
   "metadata": {},
   "outputs": [
    {
     "name": "stderr",
     "output_type": "stream",
     "text": [
      "Using cache found in /home/m-health/.cache/torch/hub/milesial_Pytorch-UNet_master\n",
      "Using cache found in /home/m-health/.cache/torch/hub/milesial_Pytorch-UNet_master\n"
     ]
    }
   ],
   "source": [
    "model1 = Unet()\n",
    "model2 = Unet()\n",
    "critic1 = CNN()\n",
    "critic2 = CNN()\n",
    "# model = Unet()\n",
    "#model  = torch.load('best.ckpt')\n",
    "#print(model)"
   ]
  },
  {
   "cell_type": "markdown",
   "metadata": {},
   "source": [
    "# Training Phase"
   ]
  },
  {
   "cell_type": "code",
   "execution_count": 15,
   "metadata": {},
   "outputs": [],
   "source": [
    "#optimizer = torch.optim.RMSprop(model.parameters(), lr = learning_rate, weight_decay = 1e-5, momentum = 0.9)\n",
    "\n",
    "optimizer1 = torch.optim.AdamW(model1.parameters(), lr = learning_rate)\n",
    "optimizer2 = torch.optim.AdamW(model2.parameters(), lr = learning_rate)\n",
    "c_optimizer1 = torch.optim.AdamW(critic1.parameters(), lr = learning_rate)\n",
    "c_optimizer2 = torch.optim.AdamW(critic2.parameters(), lr = learning_rate)\n",
    "# scheduler1 = torch.optim.lr_scheduler.ReduceLROnPlateau(optimizer1, 'max', factor=0.8, patience= 5, verbose=True)\n",
    "scheduler1 = torch.optim.lr_scheduler.CosineAnnealingLR(optimizer1, T_max=epochs)\n",
    "scheduler2 = torch.optim.lr_scheduler.CosineAnnealingLR(optimizer2, T_max=epochs)\n",
    "c_scheduler1 = torch.optim.lr_scheduler.CosineAnnealingLR(c_optimizer1, T_max=epochs)\n",
    "c_scheduler2 = torch.optim.lr_scheduler.CosineAnnealingLR(c_optimizer2, T_max=epochs)\n",
    "\n",
    "mae = torch.nn.L1Loss()\n",
    "# mae = torch.nn.MSELoss()\n",
    "bce = torch.nn.BCELoss()\n",
    "\n",
    "ssim = MS_SSIM(win_size=11, win_sigma=2, data_range=1, size_average=True, channel=1)"
   ]
  },
  {
   "cell_type": "code",
   "execution_count": 16,
   "metadata": {
    "scrolled": true
   },
   "outputs": [],
   "source": [
    "device = 'cuda' if torch.cuda.is_available() else 'cpu'\n",
    "#device = 'cpu'\n",
    "# model1= nn.DataParallel(model1,device_ids = [0, 1, 2, 3])\n",
    "model1= nn.DataParallel(model1,device_ids=[0, 1])\n",
    "model1 = model1.to(device)\n",
    "# model2= nn.DataParallel(model2,device_ids = [0, 1, 2, 3])\n",
    "model2= nn.DataParallel(model2,device_ids=[0, 1])\n",
    "model2 = model2.to(device)\n",
    "# critic1= nn.DataParallel(critic1,device_ids = [0, 1, 2, 3])\n",
    "critic1= nn.DataParallel(critic1,device_ids=[0, 1])\n",
    "critic1 = critic1.to(device)\n",
    "# critic2= nn.DataParallel(critic2,device_ids = [0, 1, 2, 3])\n",
    "critic2= nn.DataParallel(critic2,device_ids=[0, 1])\n",
    "critic2 = critic2.to(device)\n",
    "\n",
    "# model1 = torch.load('model_weights/1st/model1.ckpt')\n",
    "# model2 = torch.load('model_weights/1st/model2.ckpt')\n",
    "# critic1 = torch.load('model_weights/1st/critic1.ckpt')\n",
    "# critic2 = torch.load('model_weights/1st/critic2.ckpt')\n",
    "\n",
    "# summary(model, (1, 1, 1024, 1024))\n",
    "#summary(model, (1, 3, 1024, 1024))\n",
    "# for name, param in model2.named_parameters():\n",
    "#     if param.requires_grad:\n",
    "#         print(f\"Parameter '{name}' requires gradients.\")\n",
    "#     else:\n",
    "#         print(f\"Parameter '{name}' does not require gradients.\")"
   ]
  },
  {
   "cell_type": "code",
   "execution_count": 17,
   "metadata": {
    "scrolled": true
   },
   "outputs": [],
   "source": [
    "# # Assume `model` is your deep learning model\n",
    "\n",
    "# # Freeze layers up to a certain index\n",
    "# freeze_up_to_index = 3\n",
    "\n",
    "# # Freeze the layers by settinpg requires_grad to False\n",
    "# for idx, param in enumerate(model2.parameters()):\n",
    "# #     if idx < freeze_up_to_index:\n",
    "#     param.requires_grad = False\n",
    "# #     else:\n",
    "# #         param.requires_grad = True\n",
    "\n",
    "# # Verify the parameters and their requires_grad values\n",
    "# # for name, param in model2.named_parameters():\n",
    "# #     print(f\"{name}: requires_grad={param.requires_grad}\")\n",
    "\n",
    "# # Now you can train the model, and only the unfrozen layers will be updated\n"
   ]
  },
  {
   "cell_type": "code",
   "execution_count": 18,
   "metadata": {},
   "outputs": [],
   "source": [
    "import torch.backends.cudnn as cudnn\n",
    "import random\n",
    "import gc\n",
    "\n",
    "cudnn.benchmark = False\n",
    "cudnn.deterministic = True\n",
    "torch.manual_seed(0)\n",
    "torch.cuda.manual_seed(0)\n",
    "random.seed(0)\n",
    "np.random.seed(0)"
   ]
  },
  {
   "cell_type": "code",
   "execution_count": 19,
   "metadata": {
    "scrolled": true
   },
   "outputs": [
    {
     "name": "stderr",
     "output_type": "stream",
     "text": [
      " 49%|██▉   | 405/824 [12:15<12:09,  1.74s/it, epoch=0, psnr1=8.76, B_PSNR=0]"
     ]
    },
    {
     "name": "stdout",
     "output_type": "stream",
     "text": [
      "Model-1 | PSNR(dB): 8.483| SSIM: 0.731\n",
      "Model-2 | PSNR(dB): 8.459| SSIM: 0.73\n"
     ]
    },
    {
     "name": "stderr",
     "output_type": "stream",
     "text": [
      " 98%|██▉| 811/824 [25:31<00:22,  1.70s/it, epoch=0, psnr1=9.13, B_PSNR=8.48]"
     ]
    },
    {
     "name": "stdout",
     "output_type": "stream",
     "text": [
      "Model-1 | PSNR(dB): 9.051| SSIM: 0.753\n",
      "Model-2 | PSNR(dB): 8.982| SSIM: 0.745\n"
     ]
    },
    {
     "name": "stderr",
     "output_type": "stream",
     "text": [
      "100%|███| 824/824 [27:27<00:00,  2.00s/it, epoch=0, psnr1=9.25, B_PSNR=9.05]\n"
     ]
    },
    {
     "name": "stdout",
     "output_type": "stream",
     "text": [
      "Epoch 0\n",
      " Psnr1: 9.375 Ssim1: 0.781 loss-1: 0.541 closs-1: 0.721\n",
      " Psnr2: 9.338 Ssim2: 0.765 loss-2: 0.562 closs-2: 0.725\n"
     ]
    },
    {
     "name": "stderr",
     "output_type": "stream",
     "text": [
      " 48%|█▍ | 393/824 [11:18<12:11,  1.70s/it, epoch=1, psnr1=12.1, B_PSNR=9.05]"
     ]
    },
    {
     "name": "stdout",
     "output_type": "stream",
     "text": [
      "Model-1 | PSNR(dB): 9.91| SSIM: 0.76\n",
      "Model-2 | PSNR(dB): 9.916| SSIM: 0.755\n"
     ]
    },
    {
     "name": "stderr",
     "output_type": "stream",
     "text": [
      " 97%|██▉| 799/824 [24:39<00:44,  1.79s/it, epoch=1, psnr1=12.4, B_PSNR=9.91]"
     ]
    },
    {
     "name": "stdout",
     "output_type": "stream",
     "text": [
      "Model-1 | PSNR(dB): 13.367| SSIM: 0.812\n",
      "Model-2 | PSNR(dB): 12.061| SSIM: 0.78\n"
     ]
    },
    {
     "name": "stderr",
     "output_type": "stream",
     "text": [
      "100%|███| 824/824 [26:57<00:00,  1.96s/it, epoch=1, psnr1=13.8, B_PSNR=13.4]\n"
     ]
    },
    {
     "name": "stdout",
     "output_type": "stream",
     "text": [
      "Epoch 1\n",
      " Psnr1: 11.658 Ssim1: 0.816 loss-1: 0.424 closs-1: 0.752\n",
      " Psnr2: 11.625 Ssim2: 0.798 loss-2: 0.451 closs-2: 0.753\n"
     ]
    },
    {
     "name": "stderr",
     "output_type": "stream",
     "text": [
      " 46%|█▍ | 381/824 [10:59<12:40,  1.72s/it, epoch=2, psnr1=15.4, B_PSNR=13.4]"
     ]
    },
    {
     "name": "stdout",
     "output_type": "stream",
     "text": [
      "Model-1 | PSNR(dB): 12.64| SSIM: 0.804\n"
     ]
    },
    {
     "name": "stderr",
     "output_type": "stream",
     "text": [
      "\r",
      " 46%|▍| 382/824 [12:33<3:41:13, 30.03s/it, epoch=2, psnr1=15.4, B_PSNR=13.4]"
     ]
    },
    {
     "name": "stdout",
     "output_type": "stream",
     "text": [
      "Model-2 | PSNR(dB): 11.075| SSIM: 0.737\n"
     ]
    },
    {
     "name": "stderr",
     "output_type": "stream",
     "text": [
      " 96%|██▊| 787/824 [24:13<01:07,  1.81s/it, epoch=2, psnr1=14.1, B_PSNR=13.4]"
     ]
    },
    {
     "name": "stdout",
     "output_type": "stream",
     "text": [
      "Model-1 | PSNR(dB): 12.955| SSIM: 0.792\n",
      "Model-2 | PSNR(dB): 14.668| SSIM: 0.807\n"
     ]
    },
    {
     "name": "stderr",
     "output_type": "stream",
     "text": [
      "100%|███| 824/824 [26:50<00:00,  1.95s/it, epoch=2, psnr1=16.9, B_PSNR=13.4]\n"
     ]
    },
    {
     "name": "stdout",
     "output_type": "stream",
     "text": [
      "Epoch 2\n",
      " Psnr1: 13.937 Ssim1: 0.85 loss-1: 0.33 closs-1: 0.797\n",
      " Psnr2: 14.094 Ssim2: 0.829 loss-2: 0.358 closs-2: 0.797\n"
     ]
    },
    {
     "name": "stderr",
     "output_type": "stream",
     "text": [
      " 45%|█▎ | 369/824 [10:37<13:25,  1.77s/it, epoch=3, psnr1=17.1, B_PSNR=13.4]"
     ]
    },
    {
     "name": "stdout",
     "output_type": "stream",
     "text": [
      "Model-1 | PSNR(dB): 17.752| SSIM: 0.852\n",
      "Model-2 | PSNR(dB): 16.673| SSIM: 0.833\n"
     ]
    },
    {
     "name": "stderr",
     "output_type": "stream",
     "text": [
      " 94%|██▊| 775/824 [23:55<01:26,  1.77s/it, epoch=3, psnr1=16.4, B_PSNR=17.8]"
     ]
    },
    {
     "name": "stdout",
     "output_type": "stream",
     "text": [
      "Model-1 | PSNR(dB): 16.214| SSIM: 0.841\n"
     ]
    },
    {
     "name": "stderr",
     "output_type": "stream",
     "text": [
      "\r",
      " 94%|██▊| 776/824 [25:32<24:32, 30.68s/it, epoch=3, psnr1=16.4, B_PSNR=17.8]"
     ]
    },
    {
     "name": "stdout",
     "output_type": "stream",
     "text": [
      "Model-2 | PSNR(dB): 16.455| SSIM: 0.831\n"
     ]
    },
    {
     "name": "stderr",
     "output_type": "stream",
     "text": [
      "100%|███| 824/824 [26:54<00:00,  1.96s/it, epoch=3, psnr1=18.4, B_PSNR=17.8]\n"
     ]
    },
    {
     "name": "stdout",
     "output_type": "stream",
     "text": [
      "Epoch 3\n",
      " Psnr1: 17.0 Ssim1: 0.877 loss-1: 0.249 closs-1: 0.878\n",
      " Psnr2: 17.222 Ssim2: 0.861 loss-2: 0.266 closs-2: 0.878\n"
     ]
    },
    {
     "name": "stderr",
     "output_type": "stream",
     "text": [
      " 43%|█▎ | 357/824 [10:17<13:27,  1.73s/it, epoch=4, psnr1=18.7, B_PSNR=17.8]"
     ]
    },
    {
     "name": "stdout",
     "output_type": "stream",
     "text": [
      "Model-1 | PSNR(dB): 19.636| SSIM: 0.832\n",
      "Model-2 | PSNR(dB): 17.624| SSIM: 0.81\n"
     ]
    },
    {
     "name": "stderr",
     "output_type": "stream",
     "text": [
      " 93%|██▊| 763/824 [23:34<01:43,  1.69s/it, epoch=4, psnr1=20.5, B_PSNR=19.6]"
     ]
    },
    {
     "name": "stdout",
     "output_type": "stream",
     "text": [
      "Model-1 | PSNR(dB): 20.262| SSIM: 0.862\n",
      "Model-2 | PSNR(dB): 19.94| SSIM: 0.861\n"
     ]
    },
    {
     "name": "stderr",
     "output_type": "stream",
     "text": [
      "100%|███| 824/824 [26:54<00:00,  1.96s/it, epoch=4, psnr1=19.7, B_PSNR=20.3]\n"
     ]
    },
    {
     "name": "stdout",
     "output_type": "stream",
     "text": [
      "Epoch 4\n",
      " Psnr1: 19.315 Ssim1: 0.889 loss-1: 0.206 closs-1: 0.97\n",
      " Psnr2: 19.383 Ssim2: 0.879 loss-2: 0.215 closs-2: 0.969\n"
     ]
    },
    {
     "name": "stderr",
     "output_type": "stream",
     "text": [
      " 42%|██   | 345/824 [09:58<13:58,  1.75s/it, epoch=5, psnr1=23, B_PSNR=20.3]"
     ]
    },
    {
     "name": "stdout",
     "output_type": "stream",
     "text": [
      "Model-1 | PSNR(dB): 21.386| SSIM: 0.868\n",
      "Model-2 | PSNR(dB): 20.208| SSIM: 0.858\n"
     ]
    },
    {
     "name": "stderr",
     "output_type": "stream",
     "text": [
      " 91%|██▋| 751/824 [23:14<02:05,  1.72s/it, epoch=5, psnr1=21.1, B_PSNR=21.4]"
     ]
    },
    {
     "name": "stdout",
     "output_type": "stream",
     "text": [
      "Model-1 | PSNR(dB): 21.224| SSIM: 0.864\n",
      "Model-2 | PSNR(dB): 20.429| SSIM: 0.859\n"
     ]
    },
    {
     "name": "stderr",
     "output_type": "stream",
     "text": [
      "100%|███| 824/824 [26:53<00:00,  1.96s/it, epoch=5, psnr1=23.6, B_PSNR=21.4]\n"
     ]
    },
    {
     "name": "stdout",
     "output_type": "stream",
     "text": [
      "Epoch 5\n",
      " Psnr1: 21.105 Ssim1: 0.903 loss-1: 0.173 closs-1: 1.054\n",
      " Psnr2: 20.859 Ssim2: 0.894 loss-2: 0.18 closs-2: 1.053\n"
     ]
    },
    {
     "name": "stderr",
     "output_type": "stream",
     "text": [
      " 40%|█▏ | 333/824 [09:37<14:18,  1.75s/it, epoch=6, psnr1=18.6, B_PSNR=21.4]"
     ]
    },
    {
     "name": "stdout",
     "output_type": "stream",
     "text": [
      "Model-1 | PSNR(dB): 21.382| SSIM: 0.863\n",
      "Model-2 | PSNR(dB): 21.276| SSIM: 0.862\n"
     ]
    },
    {
     "name": "stderr",
     "output_type": "stream",
     "text": [
      " 90%|██▋| 739/824 [22:50<02:20,  1.65s/it, epoch=6, psnr1=20.7, B_PSNR=21.4]"
     ]
    },
    {
     "name": "stdout",
     "output_type": "stream",
     "text": [
      "Model-1 | PSNR(dB): 19.081| SSIM: 0.837\n",
      "Model-2 | PSNR(dB): 21.463| SSIM: 0.867\n"
     ]
    },
    {
     "name": "stderr",
     "output_type": "stream",
     "text": [
      "100%|███| 824/824 [26:49<00:00,  1.95s/it, epoch=6, psnr1=17.9, B_PSNR=21.4]\n"
     ]
    },
    {
     "name": "stdout",
     "output_type": "stream",
     "text": [
      "Epoch 6\n",
      " Psnr1: 22.484 Ssim1: 0.907 loss-1: 0.154 closs-1: 1.168\n",
      " Psnr2: 22.31 Ssim2: 0.909 loss-2: 0.15 closs-2: 1.167\n"
     ]
    },
    {
     "name": "stderr",
     "output_type": "stream",
     "text": [
      " 39%|█▏ | 321/824 [09:10<14:00,  1.67s/it, epoch=7, psnr1=23.9, B_PSNR=21.4]"
     ]
    },
    {
     "name": "stdout",
     "output_type": "stream",
     "text": [
      "Model-1 | PSNR(dB): 20.855| SSIM: 0.862\n",
      "Model-2 | PSNR(dB): 22.337| SSIM: 0.879\n"
     ]
    },
    {
     "name": "stderr",
     "output_type": "stream",
     "text": [
      " 88%|████▍| 727/824 [22:19<02:40,  1.66s/it, epoch=7, psnr1=11, B_PSNR=21.4]"
     ]
    },
    {
     "name": "stdout",
     "output_type": "stream",
     "text": [
      "Model-1 | PSNR(dB): 24.617| SSIM: 0.9\n",
      "Model-2 | PSNR(dB): 23.688| SSIM: 0.887\n"
     ]
    },
    {
     "name": "stderr",
     "output_type": "stream",
     "text": [
      "100%|███| 824/824 [26:39<00:00,  1.94s/it, epoch=7, psnr1=25.5, B_PSNR=24.6]\n"
     ]
    },
    {
     "name": "stdout",
     "output_type": "stream",
     "text": [
      "Epoch 7\n",
      " Psnr1: 23.911 Ssim1: 0.912 loss-1: 0.141 closs-1: 1.284\n",
      " Psnr2: 23.729 Ssim2: 0.916 loss-2: 0.135 closs-2: 1.283\n"
     ]
    },
    {
     "name": "stderr",
     "output_type": "stream",
     "text": [
      " 38%|█▏ | 309/824 [08:48<14:27,  1.69s/it, epoch=8, psnr1=25.4, B_PSNR=24.6]"
     ]
    },
    {
     "name": "stdout",
     "output_type": "stream",
     "text": [
      "Model-1 | PSNR(dB): 25.09| SSIM: 0.898\n",
      "Model-2 | PSNR(dB): 23.95| SSIM: 0.88\n"
     ]
    },
    {
     "name": "stderr",
     "output_type": "stream",
     "text": [
      " 87%|██▌| 715/824 [21:57<02:59,  1.65s/it, epoch=8, psnr1=27.4, B_PSNR=25.1]"
     ]
    },
    {
     "name": "stdout",
     "output_type": "stream",
     "text": [
      "Model-1 | PSNR(dB): 25.815| SSIM: 0.899\n",
      "Model-2 | PSNR(dB): 24.395| SSIM: 0.892\n"
     ]
    },
    {
     "name": "stderr",
     "output_type": "stream",
     "text": [
      "100%|███| 824/824 [26:35<00:00,  1.94s/it, epoch=8, psnr1=26.7, B_PSNR=25.8]\n"
     ]
    },
    {
     "name": "stdout",
     "output_type": "stream",
     "text": [
      "Epoch 8\n",
      " Psnr1: 25.103 Ssim1: 0.923 loss-1: 0.123 closs-1: 1.379\n",
      " Psnr2: 24.358 Ssim2: 0.92 loss-2: 0.126 closs-2: 1.378\n"
     ]
    },
    {
     "name": "stderr",
     "output_type": "stream",
     "text": [
      " 36%|█▊   | 297/824 [08:27<15:17,  1.74s/it, epoch=9, psnr1=27, B_PSNR=25.8]"
     ]
    },
    {
     "name": "stdout",
     "output_type": "stream",
     "text": [
      "Model-1 | PSNR(dB): 26.058| SSIM: 0.896\n",
      "Model-2 | PSNR(dB): 24.831| SSIM: 0.895\n"
     ]
    },
    {
     "name": "stderr",
     "output_type": "stream",
     "text": [
      " 85%|██▌| 703/824 [21:34<03:30,  1.74s/it, epoch=9, psnr1=26.3, B_PSNR=26.1]"
     ]
    },
    {
     "name": "stdout",
     "output_type": "stream",
     "text": [
      "Model-1 | PSNR(dB): 24.899| SSIM: 0.892\n"
     ]
    },
    {
     "name": "stderr",
     "output_type": "stream",
     "text": [
      "\r",
      " 85%|██▌| 704/824 [23:08<59:40, 29.84s/it, epoch=9, psnr1=26.3, B_PSNR=26.1]"
     ]
    },
    {
     "name": "stdout",
     "output_type": "stream",
     "text": [
      "Model-2 | PSNR(dB): 24.629| SSIM: 0.902\n"
     ]
    },
    {
     "name": "stderr",
     "output_type": "stream",
     "text": [
      "100%|███| 824/824 [26:32<00:00,  1.93s/it, epoch=9, psnr1=24.5, B_PSNR=26.1]\n"
     ]
    },
    {
     "name": "stdout",
     "output_type": "stream",
     "text": [
      "Epoch 9\n",
      " Psnr1: 26.232 Ssim1: 0.934 loss-1: 0.107 closs-1: 1.499\n",
      " Psnr2: 25.359 Ssim2: 0.932 loss-2: 0.109 closs-2: 1.498\n"
     ]
    },
    {
     "name": "stderr",
     "output_type": "stream",
     "text": [
      " 35%|▋ | 285/824 [08:07<14:57,  1.67s/it, epoch=10, psnr1=22.1, B_PSNR=26.1]"
     ]
    },
    {
     "name": "stdout",
     "output_type": "stream",
     "text": [
      "Model-1 | PSNR(dB): 23.44| SSIM: 0.889\n"
     ]
    },
    {
     "name": "stderr",
     "output_type": "stream",
     "text": [
      "\r",
      " 35%|▎| 286/824 [09:41<4:28:35, 29.95s/it, epoch=10, psnr1=22.1, B_PSNR=26.1"
     ]
    },
    {
     "name": "stdout",
     "output_type": "stream",
     "text": [
      "Model-2 | PSNR(dB): 23.51| SSIM: 0.876\n"
     ]
    },
    {
     "name": "stderr",
     "output_type": "stream",
     "text": [
      " 84%|█▋| 691/824 [21:13<04:06,  1.85s/it, epoch=10, psnr1=29.2, B_PSNR=26.1]"
     ]
    },
    {
     "name": "stdout",
     "output_type": "stream",
     "text": [
      "Model-1 | PSNR(dB): 27.301| SSIM: 0.908\n",
      "Model-2 | PSNR(dB): 25.565| SSIM: 0.902\n"
     ]
    },
    {
     "name": "stderr",
     "output_type": "stream",
     "text": [
      "100%|██| 824/824 [26:33<00:00,  1.93s/it, epoch=10, psnr1=20.6, B_PSNR=27.3]\n"
     ]
    },
    {
     "name": "stdout",
     "output_type": "stream",
     "text": [
      "Epoch 10\n",
      " Psnr1: 25.582 Ssim1: 0.924 loss-1: 0.118 closs-1: 1.628\n",
      " Psnr2: 25.81 Ssim2: 0.932 loss-2: 0.107 closs-2: 1.627\n"
     ]
    },
    {
     "name": "stderr",
     "output_type": "stream",
     "text": [
      " 33%|▋ | 273/824 [07:45<15:28,  1.69s/it, epoch=11, psnr1=30.7, B_PSNR=27.3]"
     ]
    },
    {
     "name": "stdout",
     "output_type": "stream",
     "text": [
      "Model-1 | PSNR(dB): 26.912| SSIM: 0.905\n"
     ]
    },
    {
     "name": "stderr",
     "output_type": "stream",
     "text": [
      "\r",
      " 33%|▎| 274/824 [09:20<4:34:04, 29.90s/it, epoch=11, psnr1=30.7, B_PSNR=27.3"
     ]
    },
    {
     "name": "stdout",
     "output_type": "stream",
     "text": [
      "Model-2 | PSNR(dB): 25.487| SSIM: 0.903\n"
     ]
    },
    {
     "name": "stderr",
     "output_type": "stream",
     "text": [
      " 82%|█▋| 679/824 [20:51<03:58,  1.64s/it, epoch=11, psnr1=18.2, B_PSNR=27.3]"
     ]
    },
    {
     "name": "stdout",
     "output_type": "stream",
     "text": [
      "Model-1 | PSNR(dB): 25.293| SSIM: 0.894\n",
      "Model-2 | PSNR(dB): 25.832| SSIM: 0.895\n"
     ]
    },
    {
     "name": "stderr",
     "output_type": "stream",
     "text": [
      "100%|██| 824/824 [26:34<00:00,  1.94s/it, epoch=11, psnr1=28.3, B_PSNR=27.3]\n"
     ]
    },
    {
     "name": "stdout",
     "output_type": "stream",
     "text": [
      "Epoch 11\n",
      " Psnr1: 26.266 Ssim1: 0.932 loss-1: 0.107 closs-1: 1.729\n",
      " Psnr2: 26.465 Ssim2: 0.936 loss-2: 0.102 closs-2: 1.728\n"
     ]
    },
    {
     "name": "stderr",
     "output_type": "stream",
     "text": [
      " 32%|▋ | 261/824 [07:25<15:54,  1.70s/it, epoch=12, psnr1=32.6, B_PSNR=27.3]"
     ]
    },
    {
     "name": "stdout",
     "output_type": "stream",
     "text": [
      "Model-1 | PSNR(dB): 27.758| SSIM: 0.919\n",
      "Model-2 | PSNR(dB): 26.507| SSIM: 0.919\n"
     ]
    },
    {
     "name": "stderr",
     "output_type": "stream",
     "text": [
      " 81%|█▌| 667/824 [20:32<04:26,  1.70s/it, epoch=12, psnr1=29.9, B_PSNR=27.8]"
     ]
    },
    {
     "name": "stdout",
     "output_type": "stream",
     "text": [
      "Model-1 | PSNR(dB): 26.057| SSIM: 0.89\n"
     ]
    },
    {
     "name": "stderr",
     "output_type": "stream",
     "text": [
      "\r",
      " 81%|▊| 668/824 [22:07<1:17:51, 29.95s/it, epoch=12, psnr1=29.9, B_PSNR=27.8"
     ]
    },
    {
     "name": "stdout",
     "output_type": "stream",
     "text": [
      "Model-2 | PSNR(dB): 25.518| SSIM: 0.874\n"
     ]
    },
    {
     "name": "stderr",
     "output_type": "stream",
     "text": [
      "100%|██| 824/824 [26:34<00:00,  1.94s/it, epoch=12, psnr1=27.8, B_PSNR=27.8]\n"
     ]
    },
    {
     "name": "stdout",
     "output_type": "stream",
     "text": [
      "Epoch 12\n",
      " Psnr1: 27.344 Ssim1: 0.94 loss-1: 0.095 closs-1: 1.848\n",
      " Psnr2: 27.404 Ssim2: 0.941 loss-2: 0.094 closs-2: 1.846\n"
     ]
    },
    {
     "name": "stderr",
     "output_type": "stream",
     "text": [
      " 30%|▌ | 249/824 [07:05<17:14,  1.80s/it, epoch=13, psnr1=32.8, B_PSNR=27.8]"
     ]
    },
    {
     "name": "stdout",
     "output_type": "stream",
     "text": [
      "Model-1 | PSNR(dB): 26.701| SSIM: 0.898\n"
     ]
    },
    {
     "name": "stderr",
     "output_type": "stream",
     "text": [
      "\r",
      " 30%|▎| 250/824 [08:39<4:45:18, 29.82s/it, epoch=13, psnr1=32.8, B_PSNR=27.8"
     ]
    },
    {
     "name": "stdout",
     "output_type": "stream",
     "text": [
      "Model-2 | PSNR(dB): 24.684| SSIM: 0.874\n"
     ]
    },
    {
     "name": "stderr",
     "output_type": "stream",
     "text": [
      " 79%|█▌| 655/824 [20:08<04:38,  1.65s/it, epoch=13, psnr1=27.2, B_PSNR=27.8]"
     ]
    },
    {
     "name": "stdout",
     "output_type": "stream",
     "text": [
      "Model-1 | PSNR(dB): 25.658| SSIM: 0.906\n"
     ]
    },
    {
     "name": "stderr",
     "output_type": "stream",
     "text": [
      "\r",
      " 80%|▊| 656/824 [21:44<1:24:35, 30.21s/it, epoch=13, psnr1=27.2, B_PSNR=27.8"
     ]
    },
    {
     "name": "stdout",
     "output_type": "stream",
     "text": [
      "Model-2 | PSNR(dB): 26.402| SSIM: 0.91\n"
     ]
    },
    {
     "name": "stderr",
     "output_type": "stream",
     "text": [
      "100%|██| 824/824 [26:31<00:00,  1.93s/it, epoch=13, psnr1=19.4, B_PSNR=27.8]\n"
     ]
    },
    {
     "name": "stdout",
     "output_type": "stream",
     "text": [
      "Epoch 13\n",
      " Psnr1: 27.694 Ssim1: 0.937 loss-1: 0.101 closs-1: 1.983\n",
      " Psnr2: 27.742 Ssim2: 0.942 loss-2: 0.093 closs-2: 1.982\n"
     ]
    },
    {
     "name": "stderr",
     "output_type": "stream",
     "text": [
      " 29%|▌ | 237/824 [06:43<16:46,  1.71s/it, epoch=14, psnr1=27.7, B_PSNR=27.8]"
     ]
    },
    {
     "name": "stdout",
     "output_type": "stream",
     "text": [
      "Model-1 | PSNR(dB): 26.514| SSIM: 0.908\n",
      "Model-2 | PSNR(dB): 27.081| SSIM: 0.92\n"
     ]
    },
    {
     "name": "stderr",
     "output_type": "stream",
     "text": [
      " 78%|█▌| 643/824 [19:51<05:14,  1.74s/it, epoch=14, psnr1=27.8, B_PSNR=27.8]"
     ]
    },
    {
     "name": "stdout",
     "output_type": "stream",
     "text": [
      "Model-1 | PSNR(dB): 26.56| SSIM: 0.9\n"
     ]
    },
    {
     "name": "stderr",
     "output_type": "stream",
     "text": [
      "\r",
      " 78%|▊| 644/824 [21:25<1:29:48, 29.94s/it, epoch=14, psnr1=27.8, B_PSNR=27.8"
     ]
    },
    {
     "name": "stdout",
     "output_type": "stream",
     "text": [
      "Model-2 | PSNR(dB): 26.41| SSIM: 0.912\n"
     ]
    },
    {
     "name": "stderr",
     "output_type": "stream",
     "text": [
      "100%|██| 824/824 [26:31<00:00,  1.93s/it, epoch=14, psnr1=35.6, B_PSNR=27.8]\n"
     ]
    },
    {
     "name": "stdout",
     "output_type": "stream",
     "text": [
      "Epoch 14\n",
      " Psnr1: 28.268 Ssim1: 0.939 loss-1: 0.098 closs-1: 2.09\n",
      " Psnr2: 28.246 Ssim2: 0.942 loss-2: 0.092 closs-2: 2.089\n"
     ]
    },
    {
     "name": "stderr",
     "output_type": "stream",
     "text": [
      " 27%|█   | 225/824 [06:23<16:30,  1.65s/it, epoch=15, psnr1=35, B_PSNR=27.8]"
     ]
    },
    {
     "name": "stdout",
     "output_type": "stream",
     "text": [
      "Model-1 | PSNR(dB): 27.761| SSIM: 0.909\n",
      "Model-2 | PSNR(dB): 28.414| SSIM: 0.92\n"
     ]
    },
    {
     "name": "stderr",
     "output_type": "stream",
     "text": [
      " 77%|█▌| 631/824 [19:27<05:12,  1.62s/it, epoch=15, psnr1=34.6, B_PSNR=27.8]"
     ]
    },
    {
     "name": "stdout",
     "output_type": "stream",
     "text": [
      "Model-1 | PSNR(dB): 26.513| SSIM: 0.894\n"
     ]
    },
    {
     "name": "stderr",
     "output_type": "stream",
     "text": [
      "\r",
      " 77%|▊| 632/824 [21:01<1:35:00, 29.69s/it, epoch=15, psnr1=34.6, B_PSNR=27.8"
     ]
    },
    {
     "name": "stdout",
     "output_type": "stream",
     "text": [
      "Model-2 | PSNR(dB): 27.328| SSIM: 0.908\n"
     ]
    },
    {
     "name": "stderr",
     "output_type": "stream",
     "text": [
      "100%|██| 824/824 [26:26<00:00,  1.93s/it, epoch=15, psnr1=30.5, B_PSNR=27.8]\n"
     ]
    },
    {
     "name": "stdout",
     "output_type": "stream",
     "text": [
      "Epoch 15\n",
      " Psnr1: 29.522 Ssim1: 0.945 loss-1: 0.088 closs-1: 2.204\n",
      " Psnr2: 29.133 Ssim2: 0.947 loss-2: 0.086 closs-2: 2.202\n"
     ]
    },
    {
     "name": "stderr",
     "output_type": "stream",
     "text": [
      " 26%|█   | 213/824 [06:00<17:39,  1.73s/it, epoch=16, psnr1=29, B_PSNR=27.8]"
     ]
    },
    {
     "name": "stdout",
     "output_type": "stream",
     "text": [
      "Model-1 | PSNR(dB): 26.62| SSIM: 0.914\n"
     ]
    },
    {
     "name": "stderr",
     "output_type": "stream",
     "text": [
      "\r",
      " 26%|▌ | 214/824 [07:34<5:05:23, 30.04s/it, epoch=16, psnr1=29, B_PSNR=27.8]"
     ]
    },
    {
     "name": "stdout",
     "output_type": "stream",
     "text": [
      "Model-2 | PSNR(dB): 27.149| SSIM: 0.917\n"
     ]
    },
    {
     "name": "stderr",
     "output_type": "stream",
     "text": [
      " 75%|█▌| 619/824 [19:00<05:53,  1.72s/it, epoch=16, psnr1=36.1, B_PSNR=27.8]"
     ]
    },
    {
     "name": "stdout",
     "output_type": "stream",
     "text": [
      "Model-1 | PSNR(dB): 28.289| SSIM: 0.922\n",
      "Model-2 | PSNR(dB): 28.508| SSIM: 0.923\n"
     ]
    },
    {
     "name": "stderr",
     "output_type": "stream",
     "text": [
      "100%|██| 824/824 [26:20<00:00,  1.92s/it, epoch=16, psnr1=33.7, B_PSNR=28.3]\n"
     ]
    },
    {
     "name": "stdout",
     "output_type": "stream",
     "text": [
      "Epoch 16\n",
      " Psnr1: 29.858 Ssim1: 0.947 loss-1: 0.085 closs-1: 2.341\n",
      " Psnr2: 29.832 Ssim2: 0.949 loss-2: 0.082 closs-2: 2.34\n"
     ]
    },
    {
     "name": "stderr",
     "output_type": "stream",
     "text": [
      " 24%|▍ | 201/824 [05:40<17:01,  1.64s/it, epoch=17, psnr1=35.1, B_PSNR=28.3]"
     ]
    },
    {
     "name": "stdout",
     "output_type": "stream",
     "text": [
      "Model-1 | PSNR(dB): 27.548| SSIM: 0.896\n"
     ]
    },
    {
     "name": "stderr",
     "output_type": "stream",
     "text": [
      "\r",
      " 25%|▏| 202/824 [07:13<5:06:55, 29.61s/it, epoch=17, psnr1=35.1, B_PSNR=28.3"
     ]
    },
    {
     "name": "stdout",
     "output_type": "stream",
     "text": [
      "Model-2 | PSNR(dB): 26.338| SSIM: 0.888\n"
     ]
    },
    {
     "name": "stderr",
     "output_type": "stream",
     "text": [
      " 74%|█▍| 607/824 [18:36<06:03,  1.67s/it, epoch=17, psnr1=28.1, B_PSNR=28.3]"
     ]
    },
    {
     "name": "stdout",
     "output_type": "stream",
     "text": [
      "Model-1 | PSNR(dB): 27.594| SSIM: 0.909\n",
      "Model-2 | PSNR(dB): 28.674| SSIM: 0.925\n"
     ]
    },
    {
     "name": "stderr",
     "output_type": "stream",
     "text": [
      "100%|██| 824/824 [26:14<00:00,  1.91s/it, epoch=17, psnr1=37.7, B_PSNR=28.3]\n"
     ]
    },
    {
     "name": "stdout",
     "output_type": "stream",
     "text": [
      "Epoch 17\n",
      " Psnr1: 29.499 Ssim1: 0.944 loss-1: 0.089 closs-1: 2.454\n",
      " Psnr2: 29.356 Ssim2: 0.947 loss-2: 0.085 closs-2: 2.453\n"
     ]
    },
    {
     "name": "stderr",
     "output_type": "stream",
     "text": [
      " 23%|▍ | 189/824 [05:20<18:19,  1.73s/it, epoch=18, psnr1=30.1, B_PSNR=28.3]"
     ]
    },
    {
     "name": "stdout",
     "output_type": "stream",
     "text": [
      "Model-1 | PSNR(dB): 28.177| SSIM: 0.914\n"
     ]
    },
    {
     "name": "stderr",
     "output_type": "stream",
     "text": [
      "\r",
      " 23%|▏| 190/824 [06:54<5:14:17, 29.74s/it, epoch=18, psnr1=30.1, B_PSNR=28.3"
     ]
    },
    {
     "name": "stdout",
     "output_type": "stream",
     "text": [
      "Model-2 | PSNR(dB): 28.651| SSIM: 0.922\n"
     ]
    },
    {
     "name": "stderr",
     "output_type": "stream",
     "text": [
      " 72%|█▍| 595/824 [18:15<06:37,  1.74s/it, epoch=18, psnr1=34.1, B_PSNR=28.3]"
     ]
    },
    {
     "name": "stdout",
     "output_type": "stream",
     "text": [
      "Model-1 | PSNR(dB): 27.78| SSIM: 0.908\n"
     ]
    },
    {
     "name": "stderr",
     "output_type": "stream",
     "text": [
      "\r",
      " 72%|▋| 596/824 [19:48<1:52:50, 29.70s/it, epoch=18, psnr1=34.1, B_PSNR=28.3"
     ]
    },
    {
     "name": "stdout",
     "output_type": "stream",
     "text": [
      "Model-2 | PSNR(dB): 26.834| SSIM: 0.903\n"
     ]
    },
    {
     "name": "stderr",
     "output_type": "stream",
     "text": [
      "100%|████| 824/824 [26:11<00:00,  1.91s/it, epoch=18, psnr1=33, B_PSNR=28.3]\n"
     ]
    },
    {
     "name": "stdout",
     "output_type": "stream",
     "text": [
      "Epoch 18\n",
      " Psnr1: 30.219 Ssim1: 0.949 loss-1: 0.082 closs-1: 2.562\n",
      " Psnr2: 29.667 Ssim2: 0.951 loss-2: 0.08 closs-2: 2.561\n"
     ]
    },
    {
     "name": "stderr",
     "output_type": "stream",
     "text": [
      " 21%|▍ | 177/824 [04:59<18:16,  1.69s/it, epoch=19, psnr1=36.5, B_PSNR=28.3]"
     ]
    },
    {
     "name": "stdout",
     "output_type": "stream",
     "text": [
      "Model-1 | PSNR(dB): 27.043| SSIM: 0.896\n"
     ]
    },
    {
     "name": "stderr",
     "output_type": "stream",
     "text": [
      "\r",
      " 22%|▏| 178/824 [06:33<5:18:59, 29.63s/it, epoch=19, psnr1=36.5, B_PSNR=28.3"
     ]
    },
    {
     "name": "stdout",
     "output_type": "stream",
     "text": [
      "Model-2 | PSNR(dB): 27.664| SSIM: 0.906\n"
     ]
    },
    {
     "name": "stderr",
     "output_type": "stream",
     "text": [
      " 71%|█▍| 583/824 [17:57<06:36,  1.64s/it, epoch=19, psnr1=34.4, B_PSNR=28.3]"
     ]
    },
    {
     "name": "stdout",
     "output_type": "stream",
     "text": [
      "Model-1 | PSNR(dB): 29.073| SSIM: 0.925\n",
      "Model-2 | PSNR(dB): 29.392| SSIM: 0.928\n"
     ]
    },
    {
     "name": "stderr",
     "output_type": "stream",
     "text": [
      "100%|██| 824/824 [26:15<00:00,  1.91s/it, epoch=19, psnr1=28.4, B_PSNR=29.1]\n"
     ]
    },
    {
     "name": "stdout",
     "output_type": "stream",
     "text": [
      "Epoch 19\n",
      " Psnr1: 30.35 Ssim1: 0.949 loss-1: 0.081 closs-1: 2.699\n",
      " Psnr2: 29.815 Ssim2: 0.952 loss-2: 0.077 closs-2: 2.698\n"
     ]
    },
    {
     "name": "stderr",
     "output_type": "stream",
     "text": [
      " 20%|▍ | 165/824 [04:38<18:22,  1.67s/it, epoch=20, psnr1=32.1, B_PSNR=29.1]"
     ]
    },
    {
     "name": "stdout",
     "output_type": "stream",
     "text": [
      "Model-1 | PSNR(dB): 27.115| SSIM: 0.91\n"
     ]
    },
    {
     "name": "stderr",
     "output_type": "stream",
     "text": [
      "\r",
      " 20%|▏| 166/824 [06:13<5:29:57, 30.09s/it, epoch=20, psnr1=32.1, B_PSNR=29.1"
     ]
    },
    {
     "name": "stdout",
     "output_type": "stream",
     "text": [
      "Model-2 | PSNR(dB): 26.597| SSIM: 0.906\n"
     ]
    },
    {
     "name": "stderr",
     "output_type": "stream",
     "text": [
      " 69%|██▊ | 571/824 [17:35<06:59,  1.66s/it, epoch=20, psnr1=38, B_PSNR=29.1]"
     ]
    },
    {
     "name": "stdout",
     "output_type": "stream",
     "text": [
      "Model-1 | PSNR(dB): 27.279| SSIM: 0.902\n"
     ]
    },
    {
     "name": "stderr",
     "output_type": "stream",
     "text": [
      "\r",
      " 69%|█▍| 572/824 [19:08<2:04:15, 29.59s/it, epoch=20, psnr1=38, B_PSNR=29.1]"
     ]
    },
    {
     "name": "stdout",
     "output_type": "stream",
     "text": [
      "Model-2 | PSNR(dB): 27.964| SSIM: 0.92\n"
     ]
    },
    {
     "name": "stderr",
     "output_type": "stream",
     "text": [
      "100%|██| 824/824 [26:30<00:00,  1.93s/it, epoch=20, psnr1=16.7, B_PSNR=29.1]\n"
     ]
    },
    {
     "name": "stdout",
     "output_type": "stream",
     "text": [
      "Epoch 20\n",
      " Psnr1: 29.856 Ssim1: 0.947 loss-1: 0.085 closs-1: 2.818\n",
      " Psnr2: 28.926 Ssim2: 0.949 loss-2: 0.082 closs-2: 2.817\n"
     ]
    },
    {
     "name": "stderr",
     "output_type": "stream",
     "text": [
      " 19%|▎ | 153/824 [04:18<19:14,  1.72s/it, epoch=21, psnr1=32.3, B_PSNR=29.1]"
     ]
    },
    {
     "name": "stdout",
     "output_type": "stream",
     "text": [
      "Model-1 | PSNR(dB): 27.341| SSIM: 0.91\n"
     ]
    },
    {
     "name": "stderr",
     "output_type": "stream",
     "text": [
      "\r",
      " 19%|▏| 154/824 [05:53<5:39:04, 30.37s/it, epoch=21, psnr1=32.3, B_PSNR=29.1"
     ]
    },
    {
     "name": "stdout",
     "output_type": "stream",
     "text": [
      "Model-2 | PSNR(dB): 27.236| SSIM: 0.917\n"
     ]
    },
    {
     "name": "stderr",
     "output_type": "stream",
     "text": [
      " 68%|█▎| 559/824 [18:30<07:34,  1.72s/it, epoch=21, psnr1=36.1, B_PSNR=29.1]"
     ]
    },
    {
     "name": "stdout",
     "output_type": "stream",
     "text": [
      "Model-1 | PSNR(dB): 27.527| SSIM: 0.908\n"
     ]
    },
    {
     "name": "stderr",
     "output_type": "stream",
     "text": [
      "\r",
      " 68%|▋| 560/824 [20:05<2:13:05, 30.25s/it, epoch=21, psnr1=36.1, B_PSNR=29.1"
     ]
    },
    {
     "name": "stdout",
     "output_type": "stream",
     "text": [
      "Model-2 | PSNR(dB): 28.293| SSIM: 0.922\n"
     ]
    },
    {
     "name": "stderr",
     "output_type": "stream",
     "text": [
      "100%|██| 824/824 [28:13<00:00,  2.06s/it, epoch=21, psnr1=36.6, B_PSNR=29.1]\n"
     ]
    },
    {
     "name": "stdout",
     "output_type": "stream",
     "text": [
      "Epoch 21\n",
      " Psnr1: 30.389 Ssim1: 0.95 loss-1: 0.08 closs-1: 2.922\n",
      " Psnr2: 29.342 Ssim2: 0.953 loss-2: 0.075 closs-2: 2.921\n"
     ]
    },
    {
     "name": "stderr",
     "output_type": "stream",
     "text": [
      " 17%|▎ | 141/824 [04:24<19:46,  1.74s/it, epoch=22, psnr1=14.1, B_PSNR=29.1]"
     ]
    },
    {
     "name": "stdout",
     "output_type": "stream",
     "text": [
      "Model-1 | PSNR(dB): 27.884| SSIM: 0.906\n"
     ]
    },
    {
     "name": "stderr",
     "output_type": "stream",
     "text": [
      "\r",
      " 17%|▏| 142/824 [06:02<5:53:02, 31.06s/it, epoch=22, psnr1=14.1, B_PSNR=29.1"
     ]
    },
    {
     "name": "stdout",
     "output_type": "stream",
     "text": [
      "Model-2 | PSNR(dB): 28.746| SSIM: 0.922\n"
     ]
    },
    {
     "name": "stderr",
     "output_type": "stream",
     "text": [
      " 66%|█▎| 547/824 [18:10<08:10,  1.77s/it, epoch=22, psnr1=32.6, B_PSNR=29.1]"
     ]
    },
    {
     "name": "stdout",
     "output_type": "stream",
     "text": [
      "Model-1 | PSNR(dB): 27.697| SSIM: 0.911\n"
     ]
    },
    {
     "name": "stderr",
     "output_type": "stream",
     "text": [
      "\r",
      " 67%|▋| 548/824 [19:51<2:28:04, 32.19s/it, epoch=22, psnr1=32.6, B_PSNR=29.1"
     ]
    },
    {
     "name": "stdout",
     "output_type": "stream",
     "text": [
      "Model-2 | PSNR(dB): 28.548| SSIM: 0.926\n"
     ]
    },
    {
     "name": "stderr",
     "output_type": "stream",
     "text": [
      "100%|██| 824/824 [28:09<00:00,  2.05s/it, epoch=22, psnr1=30.8, B_PSNR=29.1]\n"
     ]
    },
    {
     "name": "stdout",
     "output_type": "stream",
     "text": [
      "Epoch 22\n",
      " Psnr1: 30.712 Ssim1: 0.952 loss-1: 0.077 closs-1: 3.055\n",
      " Psnr2: 30.071 Ssim2: 0.956 loss-2: 0.071 closs-2: 3.054\n"
     ]
    },
    {
     "name": "stderr",
     "output_type": "stream",
     "text": [
      " 16%|▎ | 129/824 [03:52<20:28,  1.77s/it, epoch=23, psnr1=23.7, B_PSNR=29.1]"
     ]
    },
    {
     "name": "stdout",
     "output_type": "stream",
     "text": [
      "Model-1 | PSNR(dB): 26.674| SSIM: 0.895\n"
     ]
    },
    {
     "name": "stderr",
     "output_type": "stream",
     "text": [
      "\r",
      " 16%|▏| 130/824 [05:29<5:59:25, 31.07s/it, epoch=23, psnr1=23.7, B_PSNR=29.1"
     ]
    },
    {
     "name": "stdout",
     "output_type": "stream",
     "text": [
      "Model-2 | PSNR(dB): 27.083| SSIM: 0.904\n"
     ]
    },
    {
     "name": "stderr",
     "output_type": "stream",
     "text": [
      " 65%|█▎| 535/824 [18:20<10:10,  2.11s/it, epoch=23, psnr1=29.6, B_PSNR=29.1]"
     ]
    },
    {
     "name": "stdout",
     "output_type": "stream",
     "text": [
      "Model-1 | PSNR(dB): 27.984| SSIM: 0.913\n"
     ]
    },
    {
     "name": "stderr",
     "output_type": "stream",
     "text": [
      "\r",
      " 65%|▋| 536/824 [19:58<2:29:57, 31.24s/it, epoch=23, psnr1=29.6, B_PSNR=29.1"
     ]
    },
    {
     "name": "stdout",
     "output_type": "stream",
     "text": [
      "Model-2 | PSNR(dB): 27.81| SSIM: 0.917\n"
     ]
    },
    {
     "name": "stderr",
     "output_type": "stream",
     "text": [
      "100%|██| 824/824 [29:00<00:00,  2.11s/it, epoch=23, psnr1=16.7, B_PSNR=29.1]\n"
     ]
    },
    {
     "name": "stdout",
     "output_type": "stream",
     "text": [
      "Epoch 23\n",
      " Psnr1: 30.353 Ssim1: 0.95 loss-1: 0.08 closs-1: 3.18\n",
      " Psnr2: 29.791 Ssim2: 0.953 loss-2: 0.075 closs-2: 3.179\n"
     ]
    },
    {
     "name": "stderr",
     "output_type": "stream",
     "text": [
      " 14%|▎ | 117/824 [03:41<20:39,  1.75s/it, epoch=24, psnr1=34.9, B_PSNR=29.1]"
     ]
    },
    {
     "name": "stdout",
     "output_type": "stream",
     "text": [
      "Model-1 | PSNR(dB): 29.01| SSIM: 0.92\n"
     ]
    },
    {
     "name": "stderr",
     "output_type": "stream",
     "text": [
      "\r",
      " 14%|▏| 118/824 [05:18<6:01:23, 30.71s/it, epoch=24, psnr1=34.9, B_PSNR=29.1"
     ]
    },
    {
     "name": "stdout",
     "output_type": "stream",
     "text": [
      "Model-2 | PSNR(dB): 28.822| SSIM: 0.923\n"
     ]
    },
    {
     "name": "stderr",
     "output_type": "stream",
     "text": [
      " 63%|█▎| 523/824 [17:16<08:42,  1.74s/it, epoch=24, psnr1=33.4, B_PSNR=29.1]"
     ]
    },
    {
     "name": "stdout",
     "output_type": "stream",
     "text": [
      "Model-1 | PSNR(dB): 27.879| SSIM: 0.905\n"
     ]
    },
    {
     "name": "stderr",
     "output_type": "stream",
     "text": [
      "\r",
      " 64%|▋| 524/824 [18:57<2:39:35, 31.92s/it, epoch=24, psnr1=33.4, B_PSNR=29.1"
     ]
    },
    {
     "name": "stdout",
     "output_type": "stream",
     "text": [
      "Model-2 | PSNR(dB): 26.376| SSIM: 0.91\n"
     ]
    },
    {
     "name": "stderr",
     "output_type": "stream",
     "text": [
      "100%|████| 824/824 [27:42<00:00,  2.02s/it, epoch=24, psnr1=31, B_PSNR=29.1]\n"
     ]
    },
    {
     "name": "stdout",
     "output_type": "stream",
     "text": [
      "Epoch 24\n",
      " Psnr1: 30.467 Ssim1: 0.951 loss-1: 0.08 closs-1: 3.282\n",
      " Psnr2: 30.036 Ssim2: 0.955 loss-2: 0.073 closs-2: 3.281\n"
     ]
    },
    {
     "name": "stderr",
     "output_type": "stream",
     "text": [
      " 13%|▎ | 105/824 [03:24<23:35,  1.97s/it, epoch=25, psnr1=25.9, B_PSNR=29.1]"
     ]
    },
    {
     "name": "stdout",
     "output_type": "stream",
     "text": [
      "Model-1 | PSNR(dB): 27.57| SSIM: 0.916\n"
     ]
    },
    {
     "name": "stderr",
     "output_type": "stream",
     "text": [
      "\r",
      " 13%|▏| 106/824 [05:02<6:14:21, 31.28s/it, epoch=25, psnr1=25.9, B_PSNR=29.1"
     ]
    },
    {
     "name": "stdout",
     "output_type": "stream",
     "text": [
      "Model-2 | PSNR(dB): 27.238| SSIM: 0.924\n"
     ]
    },
    {
     "name": "stderr",
     "output_type": "stream",
     "text": [
      " 17%|▋   | 137/824 [06:03<30:22,  2.65s/it, epoch=25, psnr1=31, B_PSNR=29.1]\n"
     ]
    },
    {
     "ename": "KeyboardInterrupt",
     "evalue": "",
     "output_type": "error",
     "traceback": [
      "\u001b[0;31m---------------------------------------------------------------------------\u001b[0m",
      "\u001b[0;31mKeyboardInterrupt\u001b[0m                         Traceback (most recent call last)",
      "\u001b[0;32m/tmp/ipykernel_3652707/2351170151.py\u001b[0m in \u001b[0;36m<module>\u001b[0;34m\u001b[0m\n\u001b[1;32m    138\u001b[0m         \u001b[0;32mdel\u001b[0m \u001b[0msup_loss2\u001b[0m\u001b[0;34m,\u001b[0m \u001b[0musup_loss2\u001b[0m\u001b[0;34m,\u001b[0m \u001b[0ml_pred2\u001b[0m\u001b[0;34m,\u001b[0m \u001b[0mul_pred1\u001b[0m\u001b[0;34m,\u001b[0m \u001b[0mul_pred2\u001b[0m\u001b[0;34m,\u001b[0m \u001b[0mul_c_map1\u001b[0m\u001b[0;34m,\u001b[0m \u001b[0mmask_loss2\u001b[0m\u001b[0;34m,\u001b[0m \u001b[0ml_image\u001b[0m\u001b[0;34m,\u001b[0m \u001b[0mall_one\u001b[0m\u001b[0;34m,\u001b[0m \u001b[0mall_pred2\u001b[0m\u001b[0;34m,\u001b[0m \u001b[0mc_loss2\u001b[0m\u001b[0;34m,\u001b[0m \u001b[0mul_image\u001b[0m\u001b[0;34m,\u001b[0m \u001b[0msup_loss1\u001b[0m\u001b[0;34m,\u001b[0m \u001b[0munsup_loss1\u001b[0m\u001b[0;34m,\u001b[0m \u001b[0ml_pred1\u001b[0m\u001b[0;34m,\u001b[0m \u001b[0mall_pred1\u001b[0m\u001b[0;34m,\u001b[0m \u001b[0mc_loss1\u001b[0m\u001b[0;34m,\u001b[0m \u001b[0mul_c_map2\u001b[0m\u001b[0;34m,\u001b[0m \u001b[0mgen_mask\u001b[0m\u001b[0;34m,\u001b[0m \u001b[0mmask_loss1\u001b[0m\u001b[0;34m,\u001b[0m \u001b[0ml_one\u001b[0m\u001b[0;34m,\u001b[0m \u001b[0mall_zero\u001b[0m\u001b[0;34m,\u001b[0m \u001b[0ml_c_val1\u001b[0m\u001b[0;34m,\u001b[0m \u001b[0ml_c_loss1\u001b[0m\u001b[0;34m,\u001b[0m \u001b[0mul_c_loss1\u001b[0m\u001b[0;34m,\u001b[0m \u001b[0ml_c_val2\u001b[0m\u001b[0;34m,\u001b[0m \u001b[0ml_c_loss2\u001b[0m\u001b[0;34m,\u001b[0m \u001b[0mul_c_loss2\u001b[0m\u001b[0;34m,\u001b[0m \u001b[0mlungs\u001b[0m\u001b[0;34m,\u001b[0m \u001b[0mimages\u001b[0m\u001b[0;34m\u001b[0m\u001b[0;34m\u001b[0m\u001b[0m\n\u001b[1;32m    139\u001b[0m         \u001b[0mgc\u001b[0m\u001b[0;34m.\u001b[0m\u001b[0mcollect\u001b[0m\u001b[0;34m(\u001b[0m\u001b[0;34m)\u001b[0m\u001b[0;34m\u001b[0m\u001b[0;34m\u001b[0m\u001b[0m\n\u001b[0;32m--> 140\u001b[0;31m         \u001b[0mtorch\u001b[0m\u001b[0;34m.\u001b[0m\u001b[0mcuda\u001b[0m\u001b[0;34m.\u001b[0m\u001b[0mempty_cache\u001b[0m\u001b[0;34m(\u001b[0m\u001b[0;34m)\u001b[0m\u001b[0;34m\u001b[0m\u001b[0;34m\u001b[0m\u001b[0m\n\u001b[0m\u001b[1;32m    141\u001b[0m \u001b[0;31m#         print(global_step)\u001b[0m\u001b[0;34m\u001b[0m\u001b[0;34m\u001b[0m\u001b[0m\n\u001b[1;32m    142\u001b[0m         \u001b[0mdivision_step\u001b[0m \u001b[0;34m=\u001b[0m \u001b[0;34m(\u001b[0m\u001b[0mTotal_datalength\u001b[0m \u001b[0;34m//\u001b[0m \u001b[0;34m(\u001b[0m\u001b[0;36m2\u001b[0m \u001b[0;34m*\u001b[0m \u001b[0mBATCH_SIZE_TRAIN\u001b[0m\u001b[0;34m)\u001b[0m\u001b[0;34m)\u001b[0m\u001b[0;34m\u001b[0m\u001b[0;34m\u001b[0m\u001b[0m\n",
      "\u001b[0;32m~/anaconda3/envs/pythonK/lib/python3.9/site-packages/torch/cuda/memory.py\u001b[0m in \u001b[0;36mempty_cache\u001b[0;34m()\u001b[0m\n\u001b[1;32m    123\u001b[0m     \"\"\"\n\u001b[1;32m    124\u001b[0m     \u001b[0;32mif\u001b[0m \u001b[0mis_initialized\u001b[0m\u001b[0;34m(\u001b[0m\u001b[0;34m)\u001b[0m\u001b[0;34m:\u001b[0m\u001b[0;34m\u001b[0m\u001b[0;34m\u001b[0m\u001b[0m\n\u001b[0;32m--> 125\u001b[0;31m         \u001b[0mtorch\u001b[0m\u001b[0;34m.\u001b[0m\u001b[0m_C\u001b[0m\u001b[0;34m.\u001b[0m\u001b[0m_cuda_emptyCache\u001b[0m\u001b[0;34m(\u001b[0m\u001b[0;34m)\u001b[0m\u001b[0;34m\u001b[0m\u001b[0;34m\u001b[0m\u001b[0m\n\u001b[0m\u001b[1;32m    126\u001b[0m \u001b[0;34m\u001b[0m\u001b[0m\n\u001b[1;32m    127\u001b[0m \u001b[0;34m\u001b[0m\u001b[0m\n",
      "\u001b[0;31mKeyboardInterrupt\u001b[0m: "
     ]
    }
   ],
   "source": [
    "global_step = 0\n",
    "best_psnr_score1 = 0\n",
    "best_psnr_score2 = 0\n",
    "T = 0.1\n",
    "cw=1.0\n",
    "cw_rampup = 40.0\n",
    "mu=0.01\n",
    "ld=1.0\n",
    "for epoch in range(epochs):\n",
    "    model1.train()\n",
    "    model2.train()\n",
    "    critic1.train()\n",
    "    critic2.train()\n",
    "    cw = cw * sigmoid_rampup(epoch, cw_rampup)\n",
    "    epoch_loss1 = 0\n",
    "    epoch_loss2 = 0\n",
    "    epoch_closs1 = 0\n",
    "    epoch_closs2 = 0\n",
    "    epoch_psnr1 = 0\n",
    "    epoch_psnr2 = 0\n",
    "    epoch_ssim1 = 0\n",
    "    epoch_ssim2 = 0\n",
    "    count = 0\n",
    "    pbar = tqdm(train_loader, dynamic_ncols=True)\n",
    "    for batch, (images, masks) in enumerate(pbar):\n",
    "        \n",
    "        lungs = masks[:L_BATCH_SIZE_TRAIN]\n",
    "    \n",
    "        lungs = lungs.unsqueeze(1).to(device).float()\n",
    "        l_image = images[:L_BATCH_SIZE_TRAIN].to(device).float()\n",
    "        ul_image = images[L_BATCH_SIZE_TRAIN:].to(device).float()\n",
    "        \n",
    "        \n",
    "        \n",
    "        l_pred1 = model1(l_image)\n",
    "        ul_pred1 = model1(ul_image)\n",
    "        ul_pred2 = model2(ul_image)\n",
    "#             \n",
    "        sup_loss1 = ld*(mae(l_pred1, lungs) + (1-ssim(l_pred1, lungs)))\n",
    "        unsup_loss1 = (mae(ul_pred1,  Variable(ul_pred2, requires_grad=False)) + (1-ssim(ul_pred1, Variable(ul_pred2, requires_grad=False))))\n",
    "        \n",
    "        all_one = torch.ones_like(images).to(device).float()\n",
    "        all_pred1 = model1(images.to(device).float())\n",
    "        all_c_map1 = critic1(all_pred1)\n",
    "        c_loss1 = bce(all_c_map1, all_one)\n",
    "#         print(c_loss1)\n",
    "\n",
    "        ul_c_map2 = critic2(ul_pred2)\n",
    "        gen_mask = (ul_c_map2 > T).float()\n",
    "        mask_loss1 = mae(ul_pred1, gen_mask*Variable(ul_pred2, requires_grad=False))\n",
    "        \n",
    "        loss1 = sup_loss1 + cw*(unsup_loss1 + mu*c_loss1 + mask_loss1)\n",
    "        \n",
    "        optimizer1.zero_grad()\n",
    "        loss1.backward()\n",
    "        optimizer1.step()\n",
    "#         print(loss1)\n",
    "        \n",
    "        l_pred2 = model2(l_image)\n",
    "#             \n",
    "        sup_loss2 = ld*(mae(l_pred2, lungs) + (1-ssim(l_pred2, lungs)))\n",
    "        usup_loss2 = (mae(ul_pred2, Variable(ul_pred1, requires_grad=False)) + (1-ssim(ul_pred2, Variable(ul_pred1, requires_grad=False))))\n",
    "        \n",
    "\n",
    "        all_pred2 = model2(images.to(device).float())\n",
    "        all_c_map2 = critic2(all_pred2)\n",
    "        c_loss2 = bce(all_c_map2, all_one)\n",
    "#         print(c_loss2)\n",
    "\n",
    "        ul_c_map1 = critic1(ul_pred1)\n",
    "        gen_mask = (ul_c_map1 > T).float()\n",
    "        mask_loss2 = mae(ul_pred2, gen_mask*Variable(ul_pred1, requires_grad=False))\n",
    "        \n",
    "        loss2 = sup_loss2 + cw*(usup_loss2 + mu*c_loss2 + mask_loss2)\n",
    "        \n",
    "        optimizer2.zero_grad()\n",
    "        loss2.backward()\n",
    "        optimizer2.step()\n",
    "#         print(loss2)\n",
    "\n",
    "        del all_c_map1, all_c_map2\n",
    "        \n",
    "        l_one = torch.ones_like(lungs).to(device).float()\n",
    "        all_zero = torch.zeros_like(images).to(device).float()\n",
    "        l_c_val1 = critic1(lungs)\n",
    "        l_c_loss1 = bce(l_c_val1, l_one)\n",
    "        all_c_map1 = critic1(all_pred1)\n",
    "        ul_c_loss1 = bce(Variable(all_c_map1, requires_grad=True), all_zero)\n",
    "        c_loss1 = (1/2)*(l_c_loss1+ul_c_loss1)\n",
    "#         c_loss1 = c_loss1.clone().detach().requires_grad_(True)\n",
    "        \n",
    "        c_optimizer1.zero_grad()\n",
    "        c_loss1.backward()\n",
    "        c_optimizer1.step()\n",
    "#         print(c_loss1)\n",
    "        \n",
    "\n",
    "        l_c_val2 = critic2(lungs)\n",
    "        l_c_loss2 = bce(l_c_val2, l_one)\n",
    "        all_c_map2 = critic2(all_pred2)\n",
    "        ul_c_loss2 = bce(Variable(all_c_map2, requires_grad=True), all_zero)\n",
    "        c_loss2 = (1/2)*(l_c_loss2+ul_c_loss2)\n",
    "#         c_loss2 = c_loss2.clone().detach().requires_grad_(True)\n",
    "        \n",
    "        c_optimizer2.zero_grad()\n",
    "        c_loss2.backward()\n",
    "        c_optimizer2.step()\n",
    "#         print(c_loss2)\n",
    "\n",
    "        if scheduler1 is not None:\n",
    "            scheduler1.step()\n",
    "        if scheduler2 is not None:\n",
    "            scheduler2.step()\n",
    "\n",
    "        if c_scheduler1 is not None:\n",
    "            c_scheduler1.step()\n",
    "        if c_scheduler2 is not None:\n",
    "            c_scheduler2.step()\n",
    "            \n",
    "        ssim1 = ssim(l_pred1, lungs)\n",
    "        ssim2 = ssim(l_pred2, lungs)\n",
    "        psnr1 =  PSNR(lungs.cpu().detach().numpy(), l_pred1.cpu().detach().numpy())\n",
    "        psnr2 =  PSNR(lungs.cpu().detach().numpy(), l_pred2.cpu().detach().numpy())\n",
    "        \n",
    "        epoch_psnr1 += psnr1\n",
    "        epoch_psnr2 += psnr2\n",
    "        epoch_ssim1 += ssim1.item()\n",
    "        epoch_ssim2 += ssim2.item()\n",
    "        epoch_loss1 += loss1.item()\n",
    "        epoch_loss2 += loss2.item()\n",
    "        epoch_closs1 += c_loss1.item()\n",
    "        epoch_closs2 += c_loss2.item()\n",
    "        \n",
    "            \n",
    "        global_step +=1\n",
    "        count +=1\n",
    "        pbar.set_postfix({'epoch':epoch, 'psnr1': psnr1, 'B_PSNR': best_psnr_score1}) #'ssim1': ssim1.item(), 'loss-1': loss1.item(), 'closs-1': c_loss1.item(),\n",
    "        del sup_loss2, usup_loss2, l_pred2, ul_pred1, ul_pred2, ul_c_map1, mask_loss2, l_image, all_one, all_pred2, c_loss2, ul_image, sup_loss1, unsup_loss1, l_pred1, all_pred1, c_loss1, ul_c_map2, gen_mask, mask_loss1, l_one, all_zero, l_c_val1, l_c_loss1, ul_c_loss1, l_c_val2, l_c_loss2, ul_c_loss2, lungs, images\n",
    "        gc.collect()\n",
    "        torch.cuda.empty_cache()\n",
    "#         print(global_step)\n",
    "        division_step = (Total_datalength // (2 * BATCH_SIZE_TRAIN))\n",
    "        if division_step >0:\n",
    "            if global_step % division_step ==0:\n",
    "                psnr_score1, ssim_score1 = evaluate(model1, test_loader, device)\n",
    "                print('Model-1 | PSNR(dB): ' + str(round(psnr_score1,3)) + '| SSIM: ' + str(round(ssim_score1,3)))\n",
    "                if (psnr_score1 > best_psnr_score1):\n",
    "                    model1.psnr_score = psnr_score1\n",
    "                    torch.save(model1, 'model_weights/'+model_iter+'/model1.ckpt')\n",
    "                    torch.save(critic1, 'model_weights/'+model_iter+'/critic1.ckpt')\n",
    "                    best_psnr_score1 = psnr_score1\n",
    "                psnr_score2, ssim_score2 = evaluate(model2, test_loader, device)\n",
    "                print('Model-2 | PSNR(dB): ' + str(round(psnr_score2,3)) + '| SSIM: ' + str(round(ssim_score2,3)))\n",
    "                if psnr_score2 > best_psnr_score2:\n",
    "                    model2.psnr_score = psnr_score2\n",
    "                    torch.save(model2, 'model_weights/'+model_iter+'/model2.ckpt')\n",
    "                    torch.save(critic2, 'model_weights/'+model_iter+'/critic2.ckpt')\n",
    "                    best_psnr_score2 = psnr_score2\n",
    "                    \n",
    "    print('Epoch '+str(epoch))\n",
    "    print(' Psnr1: '+str(round(((epoch_psnr1)/count),3))+' Ssim1: '+str(round(((epoch_ssim1)/count),3))+' loss-1: '+str(round(((epoch_loss1)/count),3))+ ' closs-1: '+str(round(((epoch_closs1)/count),3)))\n",
    "    print(' Psnr2: ' + str(round(((epoch_psnr2)/count),3)) + ' Ssim2: '+str(round(((epoch_ssim2)/count),3))+' loss-2: ' + str(round(((epoch_loss2)/count),3))+' closs-2: '+str(round(((epoch_closs2)/count),3)))\n",
    "     "
   ]
  },
  {
   "cell_type": "code",
   "execution_count": null,
   "metadata": {},
   "outputs": [],
   "source": []
  },
  {
   "cell_type": "code",
   "execution_count": null,
   "metadata": {},
   "outputs": [],
   "source": [
    "\n",
    "\n",
    "\n",
    "\n"
   ]
  },
  {
   "cell_type": "code",
   "execution_count": null,
   "metadata": {},
   "outputs": [],
   "source": []
  }
 ],
 "metadata": {
  "kernelspec": {
   "display_name": "Python 3 (ipykernel)",
   "language": "python",
   "name": "python3"
  },
  "language_info": {
   "codemirror_mode": {
    "name": "ipython",
    "version": 3
   },
   "file_extension": ".py",
   "mimetype": "text/x-python",
   "name": "python",
   "nbconvert_exporter": "python",
   "pygments_lexer": "ipython3",
   "version": "3.9.13"
  }
 },
 "nbformat": 4,
 "nbformat_minor": 4
}
