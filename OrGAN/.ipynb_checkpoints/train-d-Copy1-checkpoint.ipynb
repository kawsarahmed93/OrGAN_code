{
 "cells": [
  {
   "cell_type": "markdown",
   "metadata": {},
   "source": [
    "# Import Modules "
   ]
  },
  {
   "cell_type": "code",
   "execution_count": 1,
   "metadata": {},
   "outputs": [],
   "source": [
    "from model.unet import UNet\n",
    "from model.dnn import DNN\n",
    "from utils.dataset import XrayDataset, TwoStreamBatchSampler, TXDataset\n",
    "from utils.evaluate_d import *\n",
    "from utils.ramps import *\n",
    "from torch.utils.data import DataLoader \n",
    "from torch.utils.data import random_split \n",
    "from tqdm import tqdm \n",
    "import torch\n",
    "import torch.nn as nn\n",
    "import torch.nn.functional as F \n",
    "import albumentations as A \n",
    "from albumentations.pytorch import ToTensorV2\n",
    "from torch.autograd import Variable\n",
    "from pytorch_msssim import ssim, ms_ssim, SSIM, MS_SSIM\n",
    "import os\n",
    "os.environ[\"CUDA_VISIBLE_DEVICES\"] = \"2, 3\"\n",
    "import numpy as np\n",
    "import math\n",
    "import cv2\n",
    "import matplotlib.pyplot as plt\n",
    "\n",
    "from torchinfo import summary"
   ]
  },
  {
   "cell_type": "markdown",
   "metadata": {},
   "source": [
    "# PSNR function"
   ]
  },
  {
   "cell_type": "code",
   "execution_count": 2,
   "metadata": {},
   "outputs": [],
   "source": [
    "def PSNR(original, pred):\n",
    "    mse = np.mean((original - pred) ** 2)\n",
    "    if mse == 0:\n",
    "        return 100\n",
    "    PIXEL_MAX = 1.0\n",
    "    PSNR = 20 * math.log10(PIXEL_MAX / math.sqrt(mse))\n",
    "    return PSNR\n",
    "\n",
    "def normalize(img):\n",
    "    eps=1e-8\n",
    "    mn = img.min()\n",
    "    mx = img.max()\n",
    "    img = (img-mn+eps)/(mx-mn+eps)\n",
    "    return img"
   ]
  },
  {
   "cell_type": "code",
   "execution_count": 3,
   "metadata": {},
   "outputs": [],
   "source": [
    "# def dice_loss(pred, target):\n",
    "#     \"\"\"This definition generalize to real valued pred and target vector.\n",
    "# This should be differentiable.\n",
    "#     pred: tensor with first dimension as batch\n",
    "#     target: tensor with first dimension as batch\n",
    "#     \"\"\"\n",
    "\n",
    "#     smooth = 1.\n",
    "\n",
    "#     # have to use contiguous since they may from a torch.view op\n",
    "#     iflat = pred.contiguous().view(-1)\n",
    "#     tflat = target.contiguous().view(-1)\n",
    "#     intersection = torch.sum(iflat * iflat)\n",
    "\n",
    "#     A_sum = torch.sum(tflat * iflat)\n",
    "#     B_sum = torch.sum(tflat * tflat)\n",
    "    \n",
    "#     return 1 - ((2. * intersection + smooth) / (A_sum + B_sum + smooth) )\n",
    "\n",
    "# #criterion = dice_loss()\n",
    "# y = (torch.rand(2, 1, 256, 256)>0.5)*1\n",
    "# ground_truth = (torch.rand(2, 1, 256, 256)>0.5)*1\n",
    "# print(y)\n",
    "# dice_loss(y, ground_truth)"
   ]
  },
  {
   "cell_type": "markdown",
   "metadata": {},
   "source": [
    "# Parameter Set"
   ]
  },
  {
   "cell_type": "code",
   "execution_count": 4,
   "metadata": {},
   "outputs": [],
   "source": [
    "BATCH_SIZE_TRAIN = 4\n",
    "L_BATCH_SIZE_TRAIN = 2\n",
    "BATCH_SIZE_TEST = 2\n",
    "learning_rate = 0.001\n",
    "epochs = 600\n",
    "model_iter = '5dth'\n",
    "os.makedirs('model_weights/'+model_iter, exist_ok=True)"
   ]
  },
  {
   "cell_type": "markdown",
   "metadata": {},
   "source": [
    "# DATASET Defining"
   ]
  },
  {
   "cell_type": "code",
   "execution_count": 5,
   "metadata": {},
   "outputs": [],
   "source": [
    "train_transforms = A.Compose(\n",
    "    [\n",
    "        A.RandomCrop(height=900, width=900, p=0.5),\n",
    "        A.ShiftScaleRotate(shift_limit=0.05, scale_limit=0.05, rotate_limit=0, border_mode=cv2.BORDER_CONSTANT, value=(0, 0, 0), p=0.5),\n",
    "        A.OneOf([\n",
    "            A.RandomGamma(gamma_limit=(80.0, 140.0), p=0.6),\n",
    "            A.RandomBrightnessContrast(brightness_limit=0.2, contrast_limit=0.2, p=0.3),\n",
    "            A.Blur(blur_limit=(3, 7), p=0.1),\n",
    "            A.Sharpen (alpha=(0.2, 0.5), lightness=(0.5, 1.0), p=0.1)\n",
    "        ], p = 0.6),\n",
    "        A.Resize(width=512, height=512, p=1.0)\n",
    "    ] \n",
    ")\n",
    "train_transforms_r = A.Compose(\n",
    "    [\n",
    "        A.RandomCrop(height=900, width=900, p=0.5),\n",
    "        A.ShiftScaleRotate(shift_limit=0.1, scale_limit=0.1, rotate_limit=0, border_mode=cv2.BORDER_CONSTANT, value=(0, 0, 0), p=0.5),\n",
    "        A.Resize(width=512, height=512, p=1.0)\n",
    "    ] \n",
    ")"
   ]
  },
  {
   "cell_type": "code",
   "execution_count": 6,
   "metadata": {
    "scrolled": true
   },
   "outputs": [
    {
     "name": "stdout",
     "output_type": "stream",
     "text": [
      "Xray_1.npy\n"
     ]
    }
   ],
   "source": [
    "train_xray_directory = 'data/Train/Xray'\n",
    "train_xray_filenames = sorted(os.listdir(train_xray_directory))\n",
    "l_id = 624+624\n",
    "label_idx = list(range(l_id))\n",
    "unlabel_idx = list(range(l_id,len(train_xray_filenames)))\n",
    "print(train_xray_filenames[l_id])"
   ]
  },
  {
   "cell_type": "code",
   "execution_count": 7,
   "metadata": {},
   "outputs": [],
   "source": [
    "train_xray_csv = 'data/n_Xray_real_train.csv'\n",
    "\n",
    "test_xray_directory = 'data/Test/Xray'\n",
    "test_xray_filenames = os.listdir(test_xray_directory)\n",
    "test_xray_csv = 'data/n_Xray_real_test.csv'\n",
    "\n",
    "dataset_train = XrayDataset(train_xray_filenames,train_xray_directory,train_xray_csv, l_id, transform=train_transforms, r_transform=train_transforms_r)\n",
    "#dataset_train = XrayDataset(train_xray_filenames,train_xray_directory,transform=train_transforms)\n",
    "dataset_test = TXDataset(test_xray_filenames,test_xray_directory,test_xray_csv,transform = train_transforms)"
   ]
  },
  {
   "cell_type": "code",
   "execution_count": 8,
   "metadata": {},
   "outputs": [],
   "source": [
    "batch_sampler = TwoStreamBatchSampler(label_idx, unlabel_idx, BATCH_SIZE_TRAIN, BATCH_SIZE_TRAIN - L_BATCH_SIZE_TRAIN)"
   ]
  },
  {
   "cell_type": "code",
   "execution_count": 9,
   "metadata": {},
   "outputs": [],
   "source": [
    "#dataset_train, dataset_test = random_split(dataset, [950, 50], generator = torch.Generator().manual_seed(0))\n",
    "#dataset_train.dataset.transforms= train_transforms\n",
    "Total_datalength = len(dataset_train)\n",
    "train_loader = DataLoader(dataset_train, batch_sampler=batch_sampler)\n",
    "test_loader = DataLoader(dataset_test, BATCH_SIZE_TEST, shuffle = False, drop_last=True)"
   ]
  },
  {
   "cell_type": "code",
   "execution_count": 10,
   "metadata": {},
   "outputs": [],
   "source": [
    "# model.train()\n",
    "# for images, masks  in train_loader:\n",
    "#     images = images.to(device).float()\n",
    "#     lungs = masks[0].to(device).float()\n",
    "#     soft = masks[1].to(device).float()\n",
    "    \n",
    "#     lungs = lungs.unsqueeze(1)\n",
    "#     soft = soft.unsqueeze(1)\n",
    "#     pred_masks = model(images)\n",
    "#     pred_xray = pred_masks + soft\n",
    "\n",
    "#     t_mask = (lungs>0)*1.0\n",
    "\n",
    "#     plt.imshow(t_mask.squeeze(0).squeeze(0).cpu().detach().numpy(), cmap=plt.cm.bone)\n",
    "#     plt.imshow(pred_masks.squeeze(0).squeeze(0).cpu().detach().numpy(),cmap=plt.cm.bone)\n",
    "#     break"
   ]
  },
  {
   "cell_type": "code",
   "execution_count": 11,
   "metadata": {},
   "outputs": [],
   "source": [
    "# #plt.imshow(t_mask.squeeze(0).squeeze(0).cpu().detach().numpy(), cmap=plt.cm.bone)\n",
    "# p_mask = (pred_masks>0.001)*1.0\n",
    "# plt.imshow(p_mask.squeeze(0).squeeze(0).cpu().detach().numpy(),cmap=plt.cm.bone)"
   ]
  },
  {
   "cell_type": "code",
   "execution_count": 12,
   "metadata": {},
   "outputs": [],
   "source": [
    "# # p_mask = (pred_masks>0.001)*1.0\n",
    "# # bce_loss = bce(p_mask.squeeze(1),t_mask.squeeze(1))\n",
    "# # bce_loss\n",
    "# p_mask = torch.zeros([1,2,1024,1024]).to(device)\n",
    "# p_mask[:,0,:,:]=1-pred_masks\n",
    "# p_mask[:,1,:,:]=pred_masks\n",
    "# bce = torch.nn.CrossEntropyLoss()\n",
    "# bce_loss = bce(p_mask,t_mask.squeeze(1))\n",
    "# bce_loss "
   ]
  },
  {
   "cell_type": "code",
   "execution_count": 13,
   "metadata": {},
   "outputs": [],
   "source": [
    "# device = 'cuda' if torch.cuda.is_available() else 'cpu'\n",
    "# critic = DNN()\n",
    "# critic.to(device)\n",
    "# summary(critic, (1, 1, 800, 800))"
   ]
  },
  {
   "cell_type": "markdown",
   "metadata": {},
   "source": [
    "# Model Creation"
   ]
  },
  {
   "cell_type": "code",
   "execution_count": 14,
   "metadata": {},
   "outputs": [],
   "source": [
    "model1 = UNet()\n",
    "# model2 = Unet()\n",
    "critic1 = DNN()\n",
    "# critic2 = DNN()\n",
    "# model = Unet()\n",
    "#model  = torch.load('best.ckpt')\n",
    "#print(model)"
   ]
  },
  {
   "cell_type": "markdown",
   "metadata": {},
   "source": [
    "# Training Phase"
   ]
  },
  {
   "cell_type": "code",
   "execution_count": 15,
   "metadata": {},
   "outputs": [
    {
     "name": "stdout",
     "output_type": "stream",
     "text": [
      "Adjusting learning rate of group 0 to 1.0000e-03.\n"
     ]
    }
   ],
   "source": [
    "#optimizer = torch.optim.RMSprop(model.parameters(), lr = learning_rate, weight_decay = 1e-5, momentum = 0.9)\n",
    "\n",
    "optimizer1 = torch.optim.AdamW(model1.parameters(), lr = learning_rate)\n",
    "# optimizer1 = torch.optim.SGD(model1.parameters(), lr = learning_rate, momentum=0.9, weight_decay = 0.0001)\n",
    "# optimizer2 = torch.optim.SGD(model2.parameters(), lr = learning_rate, momentum=0.9, weight_decay = 0.0001)\n",
    "# optimizer2 = torch.optim.AdamW(model2.parameters(), lr = learning_rate)\n",
    "c_optimizer1 = torch.optim.AdamW(critic1.parameters(), lr = learning_rate)\n",
    "# c_optimizer2 = torch.optim.AdamW(critic2.parameters(), lr = learning_rate)\n",
    "c_scheduler1 = torch.optim.lr_scheduler.ReduceLROnPlateau(c_optimizer1, 'min', factor=0.8, patience= 2, verbose=True)\n",
    "scheduler1 = torch.optim.lr_scheduler.CosineAnnealingLR(optimizer1, verbose=True, T_max=2*15)\n",
    "# scheduler2 = torch.optim.lr_scheduler.CosineAnnealingLR(optimizer2, verbose=True, T_max=epochs)\n",
    "# c_scheduler1 = torch.optim.lr_scheduler.CosineAnnealingLR(c_optimizer1, verbose=True, T_max=2*15)\n",
    "# c_scheduler2 = torch.optim.lr_scheduler.CosineAnnealingLR(c_optimizer2, verbose=True, T_max=3*10)\n",
    "\n",
    "mae = torch.nn.L1Loss()\n",
    "mse = torch.nn.MSELoss()\n",
    "bce = torch.nn.BCELoss()\n",
    "nll = torch.nn.NLLLoss()\n",
    "\n",
    "ssim = MS_SSIM(win_size=11, win_sigma=2, data_range=1, size_average=True, channel=1)"
   ]
  },
  {
   "cell_type": "code",
   "execution_count": 16,
   "metadata": {
    "scrolled": true
   },
   "outputs": [],
   "source": [
    "device = 'cuda' if torch.cuda.is_available() else 'cpu'\n",
    "#device = 'cpu'\n",
    "model1= nn.DataParallel(model1,device_ids = [0, 1])\n",
    "# model1= nn.DataParallel(model1,device_ids=[0, 1])\n",
    "model1 = model1.to(device)\n",
    "# model2= nn.DataParallel(model2,device_ids = [0, 1, 2, 3])\n",
    "# # model2= nn.DataParallel(model2,device_ids=[0, 1])\n",
    "# model2 = model2.to(device)\n",
    "critic1= nn.DataParallel(critic1,device_ids = [0, 1])\n",
    "# critic1= nn.DataParallel(critic1,device_ids=[0, 1])\n",
    "critic1 = critic1.to(device)\n",
    "# critic2= nn.DataParallel(critic2,device_ids = [0, 1, 2])\n",
    "# # critic2= nn.DataParallel(critic2,device_ids=[0, 1])\n",
    "# critic2 = critic2.to(device)\n",
    "\n",
    "# model1 = torch.load('model_weights/best_u24_1.ckpt')\n",
    "# model1 = torch.load('model_weights/'+model_iter+'/model1.ckpt')\n",
    "# critic1 = torch.load('model_weights/'+model_iter+'/critic1.ckpt')\n",
    "# critic2 = torch.load('model_weights/'+model_iter+'/critic2.ckpt')\n",
    "\n",
    "# summary(model, (1, 1, 1024, 1024))\n",
    "#summary(model, (1, 3, 1024, 1024))\n",
    "# for name, param in model2.named_parameters():\n",
    "#     if param.requires_grad:\n",
    "#         print(f\"Parameter '{name}' requires gradients.\")\n",
    "#     else:\n",
    "#         print(f\"Parameter '{name}' does not require gradients.\")"
   ]
  },
  {
   "cell_type": "code",
   "execution_count": 17,
   "metadata": {
    "scrolled": true
   },
   "outputs": [],
   "source": [
    "# # Assume `model` is your deep learning model\n",
    "\n",
    "# # Freeze layers up to a certain index\n",
    "# freeze_up_to_index = 3\n",
    "\n",
    "# # Freeze the layers by settinpg requires_grad to False\n",
    "# for idx, param in enumerate(model2.parameters()):\n",
    "# #     if idx < freeze_up_to_index:\n",
    "#     param.requires_grad = False\n",
    "# #     else:\n",
    "# #         param.requires_grad = True\n",
    "\n",
    "# # Verify the parameters and their requires_grad values\n",
    "# # for name, param in model2.named_parameters():\n",
    "# #     print(f\"{name}: requires_grad={param.requires_grad}\")\n",
    "\n",
    "# # Now you can train the model, and only the unfrozen layers will be updated\n"
   ]
  },
  {
   "cell_type": "code",
   "execution_count": 18,
   "metadata": {},
   "outputs": [],
   "source": [
    "import torch.backends.cudnn as cudnn\n",
    "import random\n",
    "import gc\n",
    "\n",
    "cudnn.benchmark = False\n",
    "cudnn.deterministic = True\n",
    "torch.manual_seed(0)\n",
    "torch.cuda.manual_seed(0)\n",
    "random.seed(0)\n",
    "np.random.seed(0) "
   ]
  },
  {
   "cell_type": "code",
   "execution_count": null,
   "metadata": {
    "scrolled": true
   },
   "outputs": [
    {
     "name": "stderr",
     "output_type": "stream",
     "text": [
      " 50%|█████████▉          | 311/624 [04:26<04:06,  1.27it/s, epoch=0, B_PSNR-1=0]"
     ]
    },
    {
     "name": "stdout",
     "output_type": "stream",
     "text": [
      "Adjusting learning rate of group 0 to 9.9726e-04.\n",
      "Model-1 | PSNR(dB): 24.349| SSIM: 0.819\n"
     ]
    },
    {
     "name": "stderr",
     "output_type": "stream",
     "text": [
      "100%|████████████████▉| 623/624 [08:41<00:00,  1.29it/s, epoch=0, B_PSNR-1=24.3]"
     ]
    },
    {
     "name": "stdout",
     "output_type": "stream",
     "text": [
      "Adjusting learning rate of group 0 to 9.8907e-04.\n",
      "Model-1 | PSNR(dB): 25.063| SSIM: 0.83\n"
     ]
    },
    {
     "name": "stderr",
     "output_type": "stream",
     "text": [
      "100%|█████████████████| 624/624 [08:57<00:00,  1.16it/s, epoch=0, B_PSNR-1=24.3]\n"
     ]
    },
    {
     "name": "stdout",
     "output_type": "stream",
     "text": [
      "Epoch 0 cw: 0.006737946999085467\n",
      " Psnr1: 22.314 Ssim1: 0.792 loss-1: 20.999 c_loss-1: 5.33 sup_loss-1: 0.286 l_nll_loss-1: 9.284 ul_nll_loss-1: 11.376\n"
     ]
    },
    {
     "name": "stderr",
     "output_type": "stream",
     "text": [
      " 50%|████████▍        | 311/624 [04:00<04:08,  1.26it/s, epoch=1, B_PSNR-1=25.1]"
     ]
    },
    {
     "name": "stdout",
     "output_type": "stream",
     "text": [
      "Adjusting learning rate of group 0 to 9.7553e-04.\n",
      "Model-1 | PSNR(dB): 25.187| SSIM: 0.845\n"
     ]
    },
    {
     "name": "stderr",
     "output_type": "stream",
     "text": [
      "100%|████████████████▉| 623/624 [08:21<00:00,  1.28it/s, epoch=1, B_PSNR-1=25.2]"
     ]
    },
    {
     "name": "stdout",
     "output_type": "stream",
     "text": [
      "Adjusting learning rate of group 0 to 9.5677e-04.\n",
      "Model-1 | PSNR(dB): 25.499| SSIM: 0.854\n"
     ]
    },
    {
     "name": "stderr",
     "output_type": "stream",
     "text": [
      "100%|█████████████████| 624/624 [08:37<00:00,  1.21it/s, epoch=1, B_PSNR-1=25.2]\n"
     ]
    },
    {
     "name": "stdout",
     "output_type": "stream",
     "text": [
      "Epoch 1 cw: 0.009971741861376466\n",
      " Psnr1: 24.746 Ssim1: 0.835 loss-1: 2.115 c_loss-1: 4.357 sup_loss-1: 0.211 l_nll_loss-1: 0.761 ul_nll_loss-1: 1.1\n"
     ]
    },
    {
     "name": "stderr",
     "output_type": "stream",
     "text": [
      " 50%|████████▍        | 311/624 [04:22<04:27,  1.17it/s, epoch=2, B_PSNR-1=25.5]"
     ]
    },
    {
     "name": "stdout",
     "output_type": "stream",
     "text": [
      "Adjusting learning rate of group 0 to 9.3301e-04.\n",
      "Model-1 | PSNR(dB): 25.615| SSIM: 0.853\n"
     ]
    },
    {
     "name": "stderr",
     "output_type": "stream",
     "text": [
      "100%|████████████████▉| 623/624 [08:59<00:00,  1.14it/s, epoch=2, B_PSNR-1=25.6]"
     ]
    },
    {
     "name": "stdout",
     "output_type": "stream",
     "text": [
      "Adjusting learning rate of group 0 to 9.0451e-04.\n",
      "Model-1 | PSNR(dB): 26.551| SSIM: 0.87\n"
     ]
    },
    {
     "name": "stderr",
     "output_type": "stream",
     "text": [
      "100%|█████████████████| 624/624 [09:15<00:00,  1.12it/s, epoch=2, B_PSNR-1=25.6]\n"
     ]
    },
    {
     "name": "stdout",
     "output_type": "stream",
     "text": [
      "Epoch 2 cw: 0.014523314852706888\n",
      " Psnr1: 25.483 Ssim1: 0.857 loss-1: 1.616 c_loss-1: 4.639 sup_loss-1: 0.183 l_nll_loss-1: 0.699 ul_nll_loss-1: 0.687\n"
     ]
    },
    {
     "name": "stderr",
     "output_type": "stream",
     "text": [
      " 50%|████████▍        | 311/624 [04:02<04:00,  1.30it/s, epoch=3, B_PSNR-1=26.6]"
     ]
    },
    {
     "name": "stdout",
     "output_type": "stream",
     "text": [
      "Adjusting learning rate of group 0 to 8.7157e-04.\n"
     ]
    },
    {
     "name": "stderr",
     "output_type": "stream",
     "text": [
      "\r",
      " 50%|████████▌        | 312/624 [04:16<26:13,  5.04s/it, epoch=3, B_PSNR-1=26.6]"
     ]
    },
    {
     "name": "stdout",
     "output_type": "stream",
     "text": [
      "Model-1 | PSNR(dB): 25.811| SSIM: 0.861\n"
     ]
    },
    {
     "name": "stderr",
     "output_type": "stream",
     "text": [
      "100%|████████████████▉| 623/624 [08:21<00:00,  1.31it/s, epoch=3, B_PSNR-1=26.6]"
     ]
    },
    {
     "name": "stdout",
     "output_type": "stream",
     "text": [
      "Adjusting learning rate of group 0 to 8.3457e-04.\n"
     ]
    },
    {
     "name": "stderr",
     "output_type": "stream",
     "text": [
      "100%|█████████████████| 624/624 [08:36<00:00,  1.21it/s, epoch=3, B_PSNR-1=26.6]\n"
     ]
    },
    {
     "name": "stdout",
     "output_type": "stream",
     "text": [
      "Model-1 | PSNR(dB): 26.212| SSIM: 0.868\n",
      "Epoch 3 cw: 0.020816694375305873\n",
      " Psnr1: 25.602 Ssim1: 0.86 loss-1: 1.632 c_loss-1: 6.615 sup_loss-1: 0.18 l_nll_loss-1: 0.693 ul_nll_loss-1: 0.693\n"
     ]
    },
    {
     "name": "stderr",
     "output_type": "stream",
     "text": [
      " 50%|████████▍        | 311/624 [04:07<03:59,  1.30it/s, epoch=4, B_PSNR-1=26.6]"
     ]
    },
    {
     "name": "stdout",
     "output_type": "stream",
     "text": [
      "Adjusting learning rate of group 0 to 7.9389e-04.\n"
     ]
    },
    {
     "name": "stderr",
     "output_type": "stream",
     "text": [
      "\r",
      " 50%|████████▌        | 312/624 [04:22<26:36,  5.12s/it, epoch=4, B_PSNR-1=26.6]"
     ]
    },
    {
     "name": "stdout",
     "output_type": "stream",
     "text": [
      "Model-1 | PSNR(dB): 26.11| SSIM: 0.861\n"
     ]
    },
    {
     "name": "stderr",
     "output_type": "stream",
     "text": [
      "100%|████████████████▉| 623/624 [08:22<00:00,  1.30it/s, epoch=4, B_PSNR-1=26.6]"
     ]
    },
    {
     "name": "stdout",
     "output_type": "stream",
     "text": [
      "Adjusting learning rate of group 0 to 7.5000e-04.\n"
     ]
    },
    {
     "name": "stderr",
     "output_type": "stream",
     "text": [
      "100%|█████████████████| 624/624 [08:36<00:00,  1.21it/s, epoch=4, B_PSNR-1=26.6]\n"
     ]
    },
    {
     "name": "stdout",
     "output_type": "stream",
     "text": [
      "Model-1 | PSNR(dB): 25.401| SSIM: 0.857\n",
      "Epoch 4 cw: 0.029363584347699333\n",
      " Psnr1: 25.716 Ssim1: 0.864 loss-1: 1.65 c_loss-1: 8.917 sup_loss-1: 0.175 l_nll_loss-1: 0.693 ul_nll_loss-1: 0.693\n"
     ]
    },
    {
     "name": "stderr",
     "output_type": "stream",
     "text": [
      " 50%|████████▍        | 311/624 [04:08<04:33,  1.14it/s, epoch=5, B_PSNR-1=26.6]"
     ]
    },
    {
     "name": "stdout",
     "output_type": "stream",
     "text": [
      "Adjusting learning rate of group 0 to 7.0337e-04.\n"
     ]
    },
    {
     "name": "stderr",
     "output_type": "stream",
     "text": [
      "\r",
      " 50%|████████▌        | 312/624 [04:23<27:21,  5.26s/it, epoch=5, B_PSNR-1=26.6]"
     ]
    },
    {
     "name": "stdout",
     "output_type": "stream",
     "text": [
      "Model-1 | PSNR(dB): 25.911| SSIM: 0.859\n"
     ]
    },
    {
     "name": "stderr",
     "output_type": "stream",
     "text": [
      "100%|████████████████▉| 623/624 [08:45<00:00,  1.17it/s, epoch=5, B_PSNR-1=26.6]"
     ]
    },
    {
     "name": "stdout",
     "output_type": "stream",
     "text": [
      "Adjusting learning rate of group 0 to 6.5451e-04.\n"
     ]
    },
    {
     "name": "stderr",
     "output_type": "stream",
     "text": [
      "100%|█████████████████| 624/624 [08:59<00:00,  1.16it/s, epoch=5, B_PSNR-1=26.6]\n"
     ]
    },
    {
     "name": "stdout",
     "output_type": "stream",
     "text": [
      "Model-1 | PSNR(dB): 26.247| SSIM: 0.87\n",
      "Epoch 00006: reducing learning rate of group 0 to 8.0000e-04.\n",
      "Epoch 5 cw: 0.040762203978366204\n",
      " Psnr1: 25.834 Ssim1: 0.866 loss-1: 1.664 c_loss-1: 10.456 sup_loss-1: 0.173 l_nll_loss-1: 0.693 ul_nll_loss-1: 0.693\n"
     ]
    },
    {
     "name": "stderr",
     "output_type": "stream",
     "text": [
      " 50%|████████▍        | 311/624 [04:03<03:58,  1.31it/s, epoch=6, B_PSNR-1=26.6]"
     ]
    },
    {
     "name": "stdout",
     "output_type": "stream",
     "text": [
      "Adjusting learning rate of group 0 to 6.0396e-04.\n"
     ]
    },
    {
     "name": "stderr",
     "output_type": "stream",
     "text": [
      "\r",
      " 50%|████████▌        | 312/624 [04:17<26:05,  5.02s/it, epoch=6, B_PSNR-1=26.6]"
     ]
    },
    {
     "name": "stdout",
     "output_type": "stream",
     "text": [
      "Model-1 | PSNR(dB): 25.687| SSIM: 0.858\n"
     ]
    },
    {
     "name": "stderr",
     "output_type": "stream",
     "text": [
      "100%|████████████████▉| 623/624 [08:19<00:00,  1.31it/s, epoch=6, B_PSNR-1=26.6]"
     ]
    },
    {
     "name": "stdout",
     "output_type": "stream",
     "text": [
      "Adjusting learning rate of group 0 to 5.5226e-04.\n"
     ]
    },
    {
     "name": "stderr",
     "output_type": "stream",
     "text": [
      "100%|█████████████████| 624/624 [08:33<00:00,  1.21it/s, epoch=6, B_PSNR-1=26.6]\n"
     ]
    },
    {
     "name": "stdout",
     "output_type": "stream",
     "text": [
      "Model-1 | PSNR(dB): 26.346| SSIM: 0.876\n",
      "Epoch 6 cw: 0.05568747626326995\n",
      " Psnr1: 25.904 Ssim1: 0.869 loss-1: 1.675 c_loss-1: 11.846 sup_loss-1: 0.17 l_nll_loss-1: 0.693 ul_nll_loss-1: 0.693\n"
     ]
    },
    {
     "name": "stderr",
     "output_type": "stream",
     "text": [
      " 50%|████████▍        | 311/624 [04:00<04:00,  1.30it/s, epoch=7, B_PSNR-1=26.6]"
     ]
    },
    {
     "name": "stdout",
     "output_type": "stream",
     "text": [
      "Adjusting learning rate of group 0 to 5.0000e-04.\n"
     ]
    },
    {
     "name": "stderr",
     "output_type": "stream",
     "text": [
      "\r",
      " 50%|████████▌        | 312/624 [04:15<26:30,  5.10s/it, epoch=7, B_PSNR-1=26.6]"
     ]
    },
    {
     "name": "stdout",
     "output_type": "stream",
     "text": [
      "Model-1 | PSNR(dB): 25.992| SSIM: 0.868\n"
     ]
    },
    {
     "name": "stderr",
     "output_type": "stream",
     "text": [
      "100%|████████████████▉| 623/624 [08:15<00:00,  1.29it/s, epoch=7, B_PSNR-1=26.6]"
     ]
    },
    {
     "name": "stdout",
     "output_type": "stream",
     "text": [
      "Adjusting learning rate of group 0 to 4.4774e-04.\n"
     ]
    },
    {
     "name": "stderr",
     "output_type": "stream",
     "text": [
      "100%|█████████████████| 624/624 [08:29<00:00,  1.23it/s, epoch=7, B_PSNR-1=26.6]\n"
     ]
    },
    {
     "name": "stdout",
     "output_type": "stream",
     "text": [
      "Model-1 | PSNR(dB): 26.515| SSIM: 0.868\n",
      "Epoch 7 cw: 0.07487014994525977\n",
      " Psnr1: 25.912 Ssim1: 0.869 loss-1: 1.686 c_loss-1: 13.029 sup_loss-1: 0.17 l_nll_loss-1: 0.693 ul_nll_loss-1: 0.693\n"
     ]
    },
    {
     "name": "stderr",
     "output_type": "stream",
     "text": [
      " 50%|████████▍        | 311/624 [03:57<03:57,  1.32it/s, epoch=8, B_PSNR-1=26.6]"
     ]
    },
    {
     "name": "stdout",
     "output_type": "stream",
     "text": [
      "Adjusting learning rate of group 0 to 3.9604e-04.\n"
     ]
    },
    {
     "name": "stderr",
     "output_type": "stream",
     "text": [
      "\r",
      " 50%|████████▌        | 312/624 [04:11<26:28,  5.09s/it, epoch=8, B_PSNR-1=26.6]"
     ]
    },
    {
     "name": "stdout",
     "output_type": "stream",
     "text": [
      "Model-1 | PSNR(dB): 26.36| SSIM: 0.869\n"
     ]
    },
    {
     "name": "stderr",
     "output_type": "stream",
     "text": [
      "100%|████████████████▉| 623/624 [08:09<00:00,  1.35it/s, epoch=8, B_PSNR-1=26.6]"
     ]
    },
    {
     "name": "stdout",
     "output_type": "stream",
     "text": [
      "Adjusting learning rate of group 0 to 3.4549e-04.\n"
     ]
    },
    {
     "name": "stderr",
     "output_type": "stream",
     "text": [
      "100%|█████████████████| 624/624 [08:23<00:00,  1.24it/s, epoch=8, B_PSNR-1=26.6]\n"
     ]
    },
    {
     "name": "stdout",
     "output_type": "stream",
     "text": [
      "Model-1 | PSNR(dB): 26.16| SSIM: 0.871\n",
      "Epoch 00009: reducing learning rate of group 0 to 6.4000e-04.\n",
      "Epoch 8 cw: 0.09906292744674736\n",
      " Psnr1: 25.905 Ssim1: 0.868 loss-1: 1.695 c_loss-1: 13.777 sup_loss-1: 0.171 l_nll_loss-1: 0.693 ul_nll_loss-1: 0.693\n"
     ]
    },
    {
     "name": "stderr",
     "output_type": "stream",
     "text": [
      " 50%|████████▍        | 311/624 [03:55<03:55,  1.33it/s, epoch=9, B_PSNR-1=26.6]"
     ]
    },
    {
     "name": "stdout",
     "output_type": "stream",
     "text": [
      "Adjusting learning rate of group 0 to 2.9663e-04.\n"
     ]
    },
    {
     "name": "stderr",
     "output_type": "stream",
     "text": [
      "\r",
      " 50%|████████▌        | 312/624 [04:10<25:55,  4.99s/it, epoch=9, B_PSNR-1=26.6]"
     ]
    },
    {
     "name": "stdout",
     "output_type": "stream",
     "text": [
      "Model-1 | PSNR(dB): 25.619| SSIM: 0.88\n"
     ]
    },
    {
     "name": "stderr",
     "output_type": "stream",
     "text": [
      "100%|████████████████▉| 623/624 [08:07<00:00,  1.32it/s, epoch=9, B_PSNR-1=26.6]"
     ]
    },
    {
     "name": "stdout",
     "output_type": "stream",
     "text": [
      "Adjusting learning rate of group 0 to 2.5000e-04.\n"
     ]
    },
    {
     "name": "stderr",
     "output_type": "stream",
     "text": [
      "100%|█████████████████| 624/624 [08:21<00:00,  1.24it/s, epoch=9, B_PSNR-1=26.6]\n"
     ]
    },
    {
     "name": "stdout",
     "output_type": "stream",
     "text": [
      "Model-1 | PSNR(dB): 26.237| SSIM: 0.874\n",
      "Epoch 9 cw: 0.1289926310365194\n",
      " Psnr1: 25.913 Ssim1: 0.874 loss-1: 1.699 c_loss-1: 14.831 sup_loss-1: 0.164 l_nll_loss-1: 0.693 ul_nll_loss-1: 0.693\n"
     ]
    },
    {
     "name": "stderr",
     "output_type": "stream",
     "text": [
      " 50%|███████▉        | 311/624 [03:58<03:56,  1.32it/s, epoch=10, B_PSNR-1=26.6]"
     ]
    },
    {
     "name": "stdout",
     "output_type": "stream",
     "text": [
      "Adjusting learning rate of group 0 to 2.0611e-04.\n",
      "Model-1 | PSNR(dB): 26.859| SSIM: 0.883\n"
     ]
    },
    {
     "name": "stderr",
     "output_type": "stream",
     "text": [
      "100%|███████████████▉| 623/624 [08:13<00:00,  1.28it/s, epoch=10, B_PSNR-1=26.9]"
     ]
    },
    {
     "name": "stdout",
     "output_type": "stream",
     "text": [
      "Adjusting learning rate of group 0 to 1.6543e-04.\n",
      "Model-1 | PSNR(dB): 26.963| SSIM: 0.88\n"
     ]
    },
    {
     "name": "stderr",
     "output_type": "stream",
     "text": [
      "100%|████████████████| 624/624 [08:29<00:00,  1.22it/s, epoch=10, B_PSNR-1=26.9]\n"
     ]
    },
    {
     "name": "stdout",
     "output_type": "stream",
     "text": [
      "Epoch 10 cw: 0.16529888822158656\n",
      " Psnr1: 26.274 Ssim1: 0.875 loss-1: 1.702 c_loss-1: 15.378 sup_loss-1: 0.162 l_nll_loss-1: 0.693 ul_nll_loss-1: 0.693\n"
     ]
    },
    {
     "name": "stderr",
     "output_type": "stream",
     "text": [
      " 50%|████████▉         | 311/624 [03:59<04:01,  1.30it/s, epoch=11, B_PSNR-1=27]"
     ]
    },
    {
     "name": "stdout",
     "output_type": "stream",
     "text": [
      "Adjusting learning rate of group 0 to 1.2843e-04.\n"
     ]
    },
    {
     "name": "stderr",
     "output_type": "stream",
     "text": [
      "\r",
      " 50%|█████████         | 312/624 [04:14<27:33,  5.30s/it, epoch=11, B_PSNR-1=27]"
     ]
    },
    {
     "name": "stdout",
     "output_type": "stream",
     "text": [
      "Model-1 | PSNR(dB): 26.621| SSIM: 0.881\n"
     ]
    },
    {
     "name": "stderr",
     "output_type": "stream",
     "text": [
      "100%|█████████████████▉| 623/624 [08:12<00:00,  1.29it/s, epoch=11, B_PSNR-1=27]"
     ]
    },
    {
     "name": "stdout",
     "output_type": "stream",
     "text": [
      "Adjusting learning rate of group 0 to 9.5492e-05.\n"
     ]
    },
    {
     "name": "stderr",
     "output_type": "stream",
     "text": [
      "100%|██████████████████| 624/624 [08:27<00:00,  1.23it/s, epoch=11, B_PSNR-1=27]\n"
     ]
    },
    {
     "name": "stdout",
     "output_type": "stream",
     "text": [
      "Model-1 | PSNR(dB): 26.461| SSIM: 0.877\n",
      "Epoch 00012: reducing learning rate of group 0 to 5.1200e-04.\n",
      "Epoch 11 cw: 0.2084616890896315\n",
      " Psnr1: 26.167 Ssim1: 0.877 loss-1: 1.705 c_loss-1: 15.684 sup_loss-1: 0.162 l_nll_loss-1: 0.693 ul_nll_loss-1: 0.693\n"
     ]
    },
    {
     "name": "stderr",
     "output_type": "stream",
     "text": [
      " 50%|████████▉         | 311/624 [03:58<03:56,  1.32it/s, epoch=12, B_PSNR-1=27]"
     ]
    },
    {
     "name": "stdout",
     "output_type": "stream",
     "text": [
      "Adjusting learning rate of group 0 to 6.6987e-05.\n"
     ]
    },
    {
     "name": "stderr",
     "output_type": "stream",
     "text": [
      "\r",
      " 50%|█████████         | 312/624 [04:13<27:04,  5.21s/it, epoch=12, B_PSNR-1=27]"
     ]
    },
    {
     "name": "stdout",
     "output_type": "stream",
     "text": [
      "Model-1 | PSNR(dB): 26.659| SSIM: 0.881\n"
     ]
    },
    {
     "name": "stderr",
     "output_type": "stream",
     "text": [
      "100%|█████████████████▉| 623/624 [08:08<00:00,  1.32it/s, epoch=12, B_PSNR-1=27]"
     ]
    },
    {
     "name": "stdout",
     "output_type": "stream",
     "text": [
      "Adjusting learning rate of group 0 to 4.3227e-05.\n"
     ]
    },
    {
     "name": "stderr",
     "output_type": "stream",
     "text": [
      "100%|██████████████████| 624/624 [08:23<00:00,  1.24it/s, epoch=12, B_PSNR-1=27]\n"
     ]
    },
    {
     "name": "stdout",
     "output_type": "stream",
     "text": [
      "Model-1 | PSNR(dB): 26.954| SSIM: 0.882\n",
      "Epoch 12 cw: 0.25872229825964005\n",
      " Psnr1: 26.331 Ssim1: 0.878 loss-1: 1.709 c_loss-1: 16.245 sup_loss-1: 0.16 l_nll_loss-1: 0.693 ul_nll_loss-1: 0.693\n"
     ]
    },
    {
     "name": "stderr",
     "output_type": "stream",
     "text": [
      " 50%|████████▉         | 311/624 [03:56<03:59,  1.31it/s, epoch=13, B_PSNR-1=27]"
     ]
    },
    {
     "name": "stdout",
     "output_type": "stream",
     "text": [
      "Adjusting learning rate of group 0 to 2.4472e-05.\n",
      "Model-1 | PSNR(dB): 27.045| SSIM: 0.886\n"
     ]
    },
    {
     "name": "stderr",
     "output_type": "stream",
     "text": [
      "100%|█████████████████▉| 623/624 [08:12<00:00,  1.31it/s, epoch=13, B_PSNR-1=27]"
     ]
    },
    {
     "name": "stdout",
     "output_type": "stream",
     "text": [
      "Adjusting learning rate of group 0 to 1.0926e-05.\n"
     ]
    },
    {
     "name": "stderr",
     "output_type": "stream",
     "text": [
      "100%|██████████████████| 624/624 [08:26<00:00,  1.23it/s, epoch=13, B_PSNR-1=27]\n"
     ]
    },
    {
     "name": "stdout",
     "output_type": "stream",
     "text": [
      "Model-1 | PSNR(dB): 26.923| SSIM: 0.882\n",
      "Epoch 13 cw: 0.31600412869186256\n",
      " Psnr1: 26.59 Ssim1: 0.881 loss-1: 1.715 c_loss-1: 17.365 sup_loss-1: 0.155 l_nll_loss-1: 0.693 ul_nll_loss-1: 0.693\n"
     ]
    },
    {
     "name": "stderr",
     "output_type": "stream",
     "text": [
      " 50%|████████▉         | 311/624 [03:58<03:58,  1.31it/s, epoch=14, B_PSNR-1=27]"
     ]
    },
    {
     "name": "stdout",
     "output_type": "stream",
     "text": [
      "Adjusting learning rate of group 0 to 2.7391e-06.\n"
     ]
    },
    {
     "name": "stderr",
     "output_type": "stream",
     "text": [
      "\r",
      " 50%|█████████         | 312/624 [04:13<26:18,  5.06s/it, epoch=14, B_PSNR-1=27]"
     ]
    },
    {
     "name": "stdout",
     "output_type": "stream",
     "text": [
      "Model-1 | PSNR(dB): 26.944| SSIM: 0.883\n"
     ]
    },
    {
     "name": "stderr",
     "output_type": "stream",
     "text": [
      "100%|█████████████████▉| 623/624 [08:11<00:00,  1.31it/s, epoch=14, B_PSNR-1=27]"
     ]
    },
    {
     "name": "stdout",
     "output_type": "stream",
     "text": [
      "Adjusting learning rate of group 0 to 0.0000e+00.\n",
      "Model-1 | PSNR(dB): 27.27| SSIM: 0.887\n"
     ]
    },
    {
     "name": "stderr",
     "output_type": "stream",
     "text": [
      "100%|██████████████████| 624/624 [08:27<00:00,  1.23it/s, epoch=14, B_PSNR-1=27]\n"
     ]
    },
    {
     "name": "stdout",
     "output_type": "stream",
     "text": [
      "Epoch 00015: reducing learning rate of group 0 to 4.0960e-04.\n",
      "Epoch 14 cw: 0.37984196285137883\n",
      " Psnr1: 26.357 Ssim1: 0.88 loss-1: 1.744 c_loss-1: 20.032 sup_loss-1: 0.157 l_nll_loss-1: 0.693 ul_nll_loss-1: 0.693\n"
     ]
    },
    {
     "name": "stderr",
     "output_type": "stream",
     "text": [
      " 50%|███████▉        | 311/624 [03:57<03:57,  1.32it/s, epoch=15, B_PSNR-1=27.3]"
     ]
    },
    {
     "name": "stdout",
     "output_type": "stream",
     "text": [
      "Adjusting learning rate of group 0 to 2.7391e-06.\n",
      "Model-1 | PSNR(dB): 27.346| SSIM: 0.89\n"
     ]
    },
    {
     "name": "stderr",
     "output_type": "stream",
     "text": [
      "100%|███████████████▉| 623/624 [08:14<00:00,  1.32it/s, epoch=15, B_PSNR-1=27.3]"
     ]
    },
    {
     "name": "stdout",
     "output_type": "stream",
     "text": [
      "Adjusting learning rate of group 0 to 1.0926e-05.\n"
     ]
    },
    {
     "name": "stderr",
     "output_type": "stream",
     "text": [
      "100%|████████████████| 624/624 [08:28<00:00,  1.23it/s, epoch=15, B_PSNR-1=27.3]\n"
     ]
    },
    {
     "name": "stdout",
     "output_type": "stream",
     "text": [
      "Model-1 | PSNR(dB): 26.844| SSIM: 0.886\n",
      "Epoch 15 cw: 0.44932896411722156\n",
      " Psnr1: 26.558 Ssim1: 0.884 loss-1: 1.762 c_loss-1: 22.275 sup_loss-1: 0.153 l_nll_loss-1: 0.693 ul_nll_loss-1: 0.693\n"
     ]
    },
    {
     "name": "stderr",
     "output_type": "stream",
     "text": [
      " 50%|███████▉        | 311/624 [03:56<04:00,  1.30it/s, epoch=16, B_PSNR-1=27.3]"
     ]
    },
    {
     "name": "stdout",
     "output_type": "stream",
     "text": [
      "Adjusting learning rate of group 0 to 2.4472e-05.\n"
     ]
    },
    {
     "name": "stderr",
     "output_type": "stream",
     "text": [
      "\r",
      " 50%|████████        | 312/624 [04:11<27:54,  5.37s/it, epoch=16, B_PSNR-1=27.3]"
     ]
    },
    {
     "name": "stdout",
     "output_type": "stream",
     "text": [
      "Model-1 | PSNR(dB): 26.626| SSIM: 0.88\n"
     ]
    },
    {
     "name": "stderr",
     "output_type": "stream",
     "text": [
      "100%|███████████████▉| 623/624 [08:08<00:00,  1.29it/s, epoch=16, B_PSNR-1=27.3]"
     ]
    },
    {
     "name": "stdout",
     "output_type": "stream",
     "text": [
      "Adjusting learning rate of group 0 to 4.3227e-05.\n"
     ]
    },
    {
     "name": "stderr",
     "output_type": "stream",
     "text": [
      "100%|████████████████| 624/624 [08:23<00:00,  1.24it/s, epoch=16, B_PSNR-1=27.3]\n"
     ]
    },
    {
     "name": "stdout",
     "output_type": "stream",
     "text": [
      "Model-1 | PSNR(dB): 26.871| SSIM: 0.883\n",
      "Epoch 16 cw: 0.5230909131025008\n",
      " Psnr1: 26.389 Ssim1: 0.879 loss-1: 1.748 c_loss-1: 20.435 sup_loss-1: 0.157 l_nll_loss-1: 0.693 ul_nll_loss-1: 0.693\n"
     ]
    },
    {
     "name": "stderr",
     "output_type": "stream",
     "text": [
      " 50%|███████▉        | 311/624 [03:58<04:00,  1.30it/s, epoch=17, B_PSNR-1=27.3]"
     ]
    },
    {
     "name": "stdout",
     "output_type": "stream",
     "text": [
      "Adjusting learning rate of group 0 to 6.6987e-05.\n"
     ]
    },
    {
     "name": "stderr",
     "output_type": "stream",
     "text": [
      "\r",
      " 50%|████████        | 312/624 [04:13<26:41,  5.13s/it, epoch=17, B_PSNR-1=27.3]"
     ]
    },
    {
     "name": "stdout",
     "output_type": "stream",
     "text": [
      "Model-1 | PSNR(dB): 27.1| SSIM: 0.886\n"
     ]
    },
    {
     "name": "stderr",
     "output_type": "stream",
     "text": [
      "100%|███████████████▉| 623/624 [08:11<00:00,  1.33it/s, epoch=17, B_PSNR-1=27.3]"
     ]
    },
    {
     "name": "stdout",
     "output_type": "stream",
     "text": [
      "Adjusting learning rate of group 0 to 9.5492e-05.\n"
     ]
    },
    {
     "name": "stderr",
     "output_type": "stream",
     "text": [
      "100%|████████████████| 624/624 [08:25<00:00,  1.23it/s, epoch=17, B_PSNR-1=27.3]\n"
     ]
    },
    {
     "name": "stdout",
     "output_type": "stream",
     "text": [
      "Model-1 | PSNR(dB): 26.67| SSIM: 0.88\n",
      "Epoch 00018: reducing learning rate of group 0 to 3.2768e-04.\n",
      "Epoch 17 cw: 0.5992957878455385\n",
      " Psnr1: 26.336 Ssim1: 0.882 loss-1: 1.754 c_loss-1: 21.213 sup_loss-1: 0.155 l_nll_loss-1: 0.693 ul_nll_loss-1: 0.693\n"
     ]
    },
    {
     "name": "stderr",
     "output_type": "stream",
     "text": [
      " 50%|███████▉        | 311/624 [03:58<03:59,  1.30it/s, epoch=18, B_PSNR-1=27.3]"
     ]
    },
    {
     "name": "stdout",
     "output_type": "stream",
     "text": [
      "Adjusting learning rate of group 0 to 1.2843e-04.\n"
     ]
    },
    {
     "name": "stderr",
     "output_type": "stream",
     "text": [
      "\r",
      " 50%|████████        | 312/624 [04:13<26:31,  5.10s/it, epoch=18, B_PSNR-1=27.3]"
     ]
    },
    {
     "name": "stdout",
     "output_type": "stream",
     "text": [
      "Model-1 | PSNR(dB): 26.3| SSIM: 0.875\n"
     ]
    },
    {
     "name": "stderr",
     "output_type": "stream",
     "text": [
      "100%|███████████████▉| 623/624 [08:10<00:00,  1.32it/s, epoch=18, B_PSNR-1=27.3]"
     ]
    },
    {
     "name": "stdout",
     "output_type": "stream",
     "text": [
      "Adjusting learning rate of group 0 to 1.6543e-04.\n"
     ]
    },
    {
     "name": "stderr",
     "output_type": "stream",
     "text": [
      "100%|████████████████| 624/624 [08:24<00:00,  1.24it/s, epoch=18, B_PSNR-1=27.3]\n"
     ]
    },
    {
     "name": "stdout",
     "output_type": "stream",
     "text": [
      "Model-1 | PSNR(dB): 26.942| SSIM: 0.885\n",
      "Epoch 18 cw: 0.675704113960626\n",
      " Psnr1: 26.272 Ssim1: 0.878 loss-1: 1.759 c_loss-1: 21.249 sup_loss-1: 0.16 l_nll_loss-1: 0.693 ul_nll_loss-1: 0.693\n"
     ]
    },
    {
     "name": "stderr",
     "output_type": "stream",
     "text": [
      " 50%|███████▉        | 311/624 [03:58<04:00,  1.30it/s, epoch=19, B_PSNR-1=27.3]"
     ]
    },
    {
     "name": "stdout",
     "output_type": "stream",
     "text": [
      "Adjusting learning rate of group 0 to 2.0611e-04.\n"
     ]
    },
    {
     "name": "stderr",
     "output_type": "stream",
     "text": [
      "\r",
      " 50%|████████        | 312/624 [04:13<26:30,  5.10s/it, epoch=19, B_PSNR-1=27.3]"
     ]
    },
    {
     "name": "stdout",
     "output_type": "stream",
     "text": [
      "Model-1 | PSNR(dB): 26.832| SSIM: 0.881\n"
     ]
    },
    {
     "name": "stderr",
     "output_type": "stream",
     "text": [
      "100%|███████████████▉| 623/624 [08:12<00:00,  1.32it/s, epoch=19, B_PSNR-1=27.3]"
     ]
    },
    {
     "name": "stdout",
     "output_type": "stream",
     "text": [
      "Adjusting learning rate of group 0 to 2.5000e-04.\n"
     ]
    },
    {
     "name": "stderr",
     "output_type": "stream",
     "text": [
      "100%|████████████████| 624/624 [08:27<00:00,  1.23it/s, epoch=19, B_PSNR-1=27.3]\n"
     ]
    },
    {
     "name": "stdout",
     "output_type": "stream",
     "text": [
      "Model-1 | PSNR(dB): 26.773| SSIM: 0.882\n",
      "Epoch 19 cw: 0.7497615922390414\n",
      " Psnr1: 26.421 Ssim1: 0.881 loss-1: 1.768 c_loss-1: 22.557 sup_loss-1: 0.156 l_nll_loss-1: 0.693 ul_nll_loss-1: 0.693\n"
     ]
    },
    {
     "name": "stderr",
     "output_type": "stream",
     "text": [
      " 50%|███████▉        | 311/624 [03:56<03:53,  1.34it/s, epoch=20, B_PSNR-1=27.3]"
     ]
    },
    {
     "name": "stdout",
     "output_type": "stream",
     "text": [
      "Adjusting learning rate of group 0 to 2.9663e-04.\n"
     ]
    },
    {
     "name": "stderr",
     "output_type": "stream",
     "text": [
      "\r",
      " 50%|████████        | 312/624 [04:11<26:19,  5.06s/it, epoch=20, B_PSNR-1=27.3]"
     ]
    },
    {
     "name": "stdout",
     "output_type": "stream",
     "text": [
      "Model-1 | PSNR(dB): 26.207| SSIM: 0.864\n"
     ]
    },
    {
     "name": "stderr",
     "output_type": "stream",
     "text": [
      "100%|███████████████▉| 623/624 [08:08<00:00,  1.31it/s, epoch=20, B_PSNR-1=27.3]"
     ]
    },
    {
     "name": "stdout",
     "output_type": "stream",
     "text": [
      "Adjusting learning rate of group 0 to 3.4549e-04.\n"
     ]
    },
    {
     "name": "stderr",
     "output_type": "stream",
     "text": [
      "100%|████████████████| 624/624 [08:23<00:00,  1.24it/s, epoch=20, B_PSNR-1=27.3]\n"
     ]
    },
    {
     "name": "stdout",
     "output_type": "stream",
     "text": [
      "Model-1 | PSNR(dB): 26.795| SSIM: 0.879\n",
      "Epoch 00021: reducing learning rate of group 0 to 2.6214e-04.\n",
      "Epoch 20 cw: 0.8187307530779819\n",
      " Psnr1: 26.245 Ssim1: 0.874 loss-1: 1.787 c_loss-1: 23.746 sup_loss-1: 0.164 l_nll_loss-1: 0.693 ul_nll_loss-1: 0.693\n"
     ]
    },
    {
     "name": "stderr",
     "output_type": "stream",
     "text": [
      " 50%|███████▉        | 311/624 [03:58<03:59,  1.31it/s, epoch=21, B_PSNR-1=27.3]"
     ]
    },
    {
     "name": "stdout",
     "output_type": "stream",
     "text": [
      "Adjusting learning rate of group 0 to 3.9604e-04.\n"
     ]
    },
    {
     "name": "stderr",
     "output_type": "stream",
     "text": [
      "\r",
      " 50%|████████        | 312/624 [04:13<26:35,  5.11s/it, epoch=21, B_PSNR-1=27.3]"
     ]
    },
    {
     "name": "stdout",
     "output_type": "stream",
     "text": [
      "Model-1 | PSNR(dB): 25.986| SSIM: 0.867\n"
     ]
    },
    {
     "name": "stderr",
     "output_type": "stream",
     "text": [
      "100%|███████████████▉| 623/624 [08:10<00:00,  1.27it/s, epoch=21, B_PSNR-1=27.3]"
     ]
    },
    {
     "name": "stdout",
     "output_type": "stream",
     "text": [
      "Adjusting learning rate of group 0 to 4.4774e-04.\n"
     ]
    },
    {
     "name": "stderr",
     "output_type": "stream",
     "text": [
      "100%|████████████████| 624/624 [08:25<00:00,  1.24it/s, epoch=21, B_PSNR-1=27.3]\n"
     ]
    },
    {
     "name": "stdout",
     "output_type": "stream",
     "text": [
      "Model-1 | PSNR(dB): 26.948| SSIM: 0.886\n",
      "Epoch 21 cw: 0.8798533791446438\n",
      " Psnr1: 25.861 Ssim1: 0.871 loss-1: 1.796 c_loss-1: 24.287 sup_loss-1: 0.167 l_nll_loss-1: 0.693 ul_nll_loss-1: 0.693\n"
     ]
    },
    {
     "name": "stderr",
     "output_type": "stream",
     "text": [
      " 50%|███████▉        | 311/624 [03:57<03:54,  1.33it/s, epoch=22, B_PSNR-1=27.3]"
     ]
    },
    {
     "name": "stdout",
     "output_type": "stream",
     "text": [
      "Adjusting learning rate of group 0 to 5.0000e-04.\n"
     ]
    },
    {
     "name": "stderr",
     "output_type": "stream",
     "text": [
      "\r",
      " 50%|████████        | 312/624 [04:12<26:42,  5.14s/it, epoch=22, B_PSNR-1=27.3]"
     ]
    },
    {
     "name": "stdout",
     "output_type": "stream",
     "text": [
      "Model-1 | PSNR(dB): 26.353| SSIM: 0.874\n"
     ]
    },
    {
     "name": "stderr",
     "output_type": "stream",
     "text": [
      "100%|███████████████▉| 623/624 [08:08<00:00,  1.30it/s, epoch=22, B_PSNR-1=27.3]"
     ]
    },
    {
     "name": "stdout",
     "output_type": "stream",
     "text": [
      "Adjusting learning rate of group 0 to 5.5226e-04.\n"
     ]
    },
    {
     "name": "stderr",
     "output_type": "stream",
     "text": [
      "100%|████████████████| 624/624 [08:23<00:00,  1.24it/s, epoch=22, B_PSNR-1=27.3]\n"
     ]
    },
    {
     "name": "stdout",
     "output_type": "stream",
     "text": [
      "Model-1 | PSNR(dB): 26.539| SSIM: 0.878\n",
      "Epoch 22 cw: 0.9305308958112057\n",
      " Psnr1: 25.917 Ssim1: 0.872 loss-1: 1.798 c_loss-1: 24.481 sup_loss-1: 0.167 l_nll_loss-1: 0.693 ul_nll_loss-1: 0.693\n"
     ]
    },
    {
     "name": "stderr",
     "output_type": "stream",
     "text": [
      " 50%|███████▉        | 311/624 [03:58<03:56,  1.32it/s, epoch=23, B_PSNR-1=27.3]"
     ]
    },
    {
     "name": "stdout",
     "output_type": "stream",
     "text": [
      "Adjusting learning rate of group 0 to 6.0396e-04.\n"
     ]
    },
    {
     "name": "stderr",
     "output_type": "stream",
     "text": [
      "\r",
      " 50%|████████        | 312/624 [04:12<26:18,  5.06s/it, epoch=23, B_PSNR-1=27.3]"
     ]
    },
    {
     "name": "stdout",
     "output_type": "stream",
     "text": [
      "Model-1 | PSNR(dB): 26.824| SSIM: 0.885\n"
     ]
    },
    {
     "name": "stderr",
     "output_type": "stream",
     "text": [
      "100%|███████████████▉| 623/624 [08:10<00:00,  1.29it/s, epoch=23, B_PSNR-1=27.3]"
     ]
    },
    {
     "name": "stdout",
     "output_type": "stream",
     "text": [
      "Adjusting learning rate of group 0 to 6.5451e-04.\n"
     ]
    },
    {
     "name": "stderr",
     "output_type": "stream",
     "text": [
      "100%|████████████████| 624/624 [08:25<00:00,  1.24it/s, epoch=23, B_PSNR-1=27.3]\n"
     ]
    },
    {
     "name": "stdout",
     "output_type": "stream",
     "text": [
      "Model-1 | PSNR(dB): 26.06| SSIM: 0.871\n",
      "Epoch 00024: reducing learning rate of group 0 to 2.0972e-04.\n",
      "Epoch 23 cw: 0.9685065820791977\n",
      " Psnr1: 25.891 Ssim1: 0.87 loss-1: 1.8 c_loss-1: 24.549 sup_loss-1: 0.168 l_nll_loss-1: 0.693 ul_nll_loss-1: 0.693\n"
     ]
    },
    {
     "name": "stderr",
     "output_type": "stream",
     "text": [
      " 50%|███████▉        | 311/624 [03:57<04:01,  1.30it/s, epoch=24, B_PSNR-1=27.3]"
     ]
    },
    {
     "name": "stdout",
     "output_type": "stream",
     "text": [
      "Adjusting learning rate of group 0 to 7.0337e-04.\n"
     ]
    },
    {
     "name": "stderr",
     "output_type": "stream",
     "text": [
      "\r",
      " 50%|████████        | 312/624 [04:11<25:57,  4.99s/it, epoch=24, B_PSNR-1=27.3]"
     ]
    },
    {
     "name": "stdout",
     "output_type": "stream",
     "text": [
      "Model-1 | PSNR(dB): 26.757| SSIM: 0.883\n"
     ]
    },
    {
     "name": "stderr",
     "output_type": "stream",
     "text": [
      "100%|███████████████▉| 623/624 [08:07<00:00,  1.33it/s, epoch=24, B_PSNR-1=27.3]"
     ]
    },
    {
     "name": "stdout",
     "output_type": "stream",
     "text": [
      "Adjusting learning rate of group 0 to 7.5000e-04.\n"
     ]
    },
    {
     "name": "stderr",
     "output_type": "stream",
     "text": [
      "100%|████████████████| 624/624 [08:21<00:00,  1.24it/s, epoch=24, B_PSNR-1=27.3]\n"
     ]
    },
    {
     "name": "stdout",
     "output_type": "stream",
     "text": [
      "Model-1 | PSNR(dB): 24.194| SSIM: 0.858\n",
      "Epoch 24 cw: 0.9920319148370607\n",
      " Psnr1: 25.697 Ssim1: 0.869 loss-1: 1.809 c_loss-1: 25.233 sup_loss-1: 0.171 l_nll_loss-1: 0.693 ul_nll_loss-1: 0.693\n"
     ]
    },
    {
     "name": "stderr",
     "output_type": "stream",
     "text": [
      " 50%|███████▉        | 311/624 [03:56<03:56,  1.32it/s, epoch=25, B_PSNR-1=27.3]"
     ]
    },
    {
     "name": "stdout",
     "output_type": "stream",
     "text": [
      "Adjusting learning rate of group 0 to 7.9389e-04.\n"
     ]
    },
    {
     "name": "stderr",
     "output_type": "stream",
     "text": [
      "\r",
      " 50%|████████        | 312/624 [04:10<25:41,  4.94s/it, epoch=25, B_PSNR-1=27.3]"
     ]
    },
    {
     "name": "stdout",
     "output_type": "stream",
     "text": [
      "Model-1 | PSNR(dB): 25.122| SSIM: 0.857\n"
     ]
    },
    {
     "name": "stderr",
     "output_type": "stream",
     "text": [
      "100%|███████████████▉| 623/624 [08:07<00:00,  1.32it/s, epoch=25, B_PSNR-1=27.3]"
     ]
    },
    {
     "name": "stdout",
     "output_type": "stream",
     "text": [
      "Adjusting learning rate of group 0 to 8.3457e-04.\n"
     ]
    },
    {
     "name": "stderr",
     "output_type": "stream",
     "text": [
      "100%|████████████████| 624/624 [08:22<00:00,  1.24it/s, epoch=25, B_PSNR-1=27.3]\n"
     ]
    },
    {
     "name": "stdout",
     "output_type": "stream",
     "text": [
      "Model-1 | PSNR(dB): 25.332| SSIM: 0.838\n",
      "Epoch 25 cw: 1.0\n",
      " Psnr1: 24.717 Ssim1: 0.848 loss-1: 1.776 c_loss-1: 19.38 sup_loss-1: 0.196 l_nll_loss-1: 0.693 ul_nll_loss-1: 0.693\n"
     ]
    },
    {
     "name": "stderr",
     "output_type": "stream",
     "text": [
      " 50%|███████▉        | 311/624 [03:58<03:56,  1.33it/s, epoch=26, B_PSNR-1=27.3]"
     ]
    },
    {
     "name": "stdout",
     "output_type": "stream",
     "text": [
      "Adjusting learning rate of group 0 to 8.7157e-04.\n"
     ]
    },
    {
     "name": "stderr",
     "output_type": "stream",
     "text": [
      "\r",
      " 50%|████████        | 312/624 [04:13<26:18,  5.06s/it, epoch=26, B_PSNR-1=27.3]"
     ]
    },
    {
     "name": "stdout",
     "output_type": "stream",
     "text": [
      "Model-1 | PSNR(dB): 24.143| SSIM: 0.808\n"
     ]
    },
    {
     "name": "stderr",
     "output_type": "stream",
     "text": [
      "100%|███████████████▉| 623/624 [08:12<00:00,  1.30it/s, epoch=26, B_PSNR-1=27.3]"
     ]
    },
    {
     "name": "stdout",
     "output_type": "stream",
     "text": [
      "Adjusting learning rate of group 0 to 9.0451e-04.\n"
     ]
    },
    {
     "name": "stderr",
     "output_type": "stream",
     "text": [
      "100%|████████████████| 624/624 [08:26<00:00,  1.23it/s, epoch=26, B_PSNR-1=27.3]\n"
     ]
    },
    {
     "name": "stdout",
     "output_type": "stream",
     "text": [
      "Model-1 | PSNR(dB): 26.166| SSIM: 0.871\n",
      "Epoch 00027: reducing learning rate of group 0 to 1.6777e-04.\n",
      "Epoch 26 cw: 1.0\n",
      " Psnr1: 24.818 Ssim1: 0.842 loss-1: 1.796 c_loss-1: 20.582 sup_loss-1: 0.204 l_nll_loss-1: 0.693 ul_nll_loss-1: 0.693\n"
     ]
    },
    {
     "name": "stderr",
     "output_type": "stream",
     "text": [
      " 50%|███████▉        | 311/624 [03:58<04:04,  1.28it/s, epoch=27, B_PSNR-1=27.3]"
     ]
    },
    {
     "name": "stdout",
     "output_type": "stream",
     "text": [
      "Adjusting learning rate of group 0 to 9.3301e-04.\n"
     ]
    },
    {
     "name": "stderr",
     "output_type": "stream",
     "text": [
      "\r",
      " 50%|████████        | 312/624 [04:12<25:46,  4.96s/it, epoch=27, B_PSNR-1=27.3]"
     ]
    },
    {
     "name": "stdout",
     "output_type": "stream",
     "text": [
      "Model-1 | PSNR(dB): 24.797| SSIM: 0.84\n"
     ]
    },
    {
     "name": "stderr",
     "output_type": "stream",
     "text": [
      "100%|███████████████▉| 623/624 [08:11<00:00,  1.34it/s, epoch=27, B_PSNR-1=27.3]"
     ]
    },
    {
     "name": "stdout",
     "output_type": "stream",
     "text": [
      "Adjusting learning rate of group 0 to 9.5677e-04.\n"
     ]
    },
    {
     "name": "stderr",
     "output_type": "stream",
     "text": [
      "100%|████████████████| 624/624 [08:25<00:00,  1.23it/s, epoch=27, B_PSNR-1=27.3]\n"
     ]
    },
    {
     "name": "stdout",
     "output_type": "stream",
     "text": [
      "Model-1 | PSNR(dB): 25.353| SSIM: 0.851\n",
      "Epoch 27 cw: 1.0\n",
      " Psnr1: 25.11 Ssim1: 0.85 loss-1: 1.781 c_loss-1: 20.221 sup_loss-1: 0.193 l_nll_loss-1: 0.693 ul_nll_loss-1: 0.693\n"
     ]
    },
    {
     "name": "stderr",
     "output_type": "stream",
     "text": [
      " 50%|███████▉        | 311/624 [03:55<03:56,  1.32it/s, epoch=28, B_PSNR-1=27.3]"
     ]
    },
    {
     "name": "stdout",
     "output_type": "stream",
     "text": [
      "Adjusting learning rate of group 0 to 9.7553e-04.\n"
     ]
    },
    {
     "name": "stderr",
     "output_type": "stream",
     "text": [
      "\r",
      " 50%|████████        | 312/624 [04:10<26:25,  5.08s/it, epoch=28, B_PSNR-1=27.3]"
     ]
    },
    {
     "name": "stdout",
     "output_type": "stream",
     "text": [
      "Model-1 | PSNR(dB): 25.674| SSIM: 0.848\n"
     ]
    },
    {
     "name": "stderr",
     "output_type": "stream",
     "text": [
      "100%|███████████████▉| 623/624 [08:09<00:00,  1.32it/s, epoch=28, B_PSNR-1=27.3]"
     ]
    },
    {
     "name": "stdout",
     "output_type": "stream",
     "text": [
      "Adjusting learning rate of group 0 to 9.8907e-04.\n"
     ]
    },
    {
     "name": "stderr",
     "output_type": "stream",
     "text": [
      "100%|████████████████| 624/624 [08:23<00:00,  1.24it/s, epoch=28, B_PSNR-1=27.3]\n"
     ]
    },
    {
     "name": "stdout",
     "output_type": "stream",
     "text": [
      "Model-1 | PSNR(dB): 25.742| SSIM: 0.866\n",
      "Epoch 28 cw: 1.0\n",
      " Psnr1: 25.67 Ssim1: 0.859 loss-1: 1.783 c_loss-1: 21.508 sup_loss-1: 0.181 l_nll_loss-1: 0.693 ul_nll_loss-1: 0.693\n"
     ]
    },
    {
     "name": "stderr",
     "output_type": "stream",
     "text": [
      " 50%|███████▉        | 311/624 [03:57<03:54,  1.33it/s, epoch=29, B_PSNR-1=27.3]"
     ]
    },
    {
     "name": "stdout",
     "output_type": "stream",
     "text": [
      "Adjusting learning rate of group 0 to 9.9726e-04.\n"
     ]
    },
    {
     "name": "stderr",
     "output_type": "stream",
     "text": [
      "\r",
      " 50%|████████        | 312/624 [04:11<26:11,  5.04s/it, epoch=29, B_PSNR-1=27.3]"
     ]
    },
    {
     "name": "stdout",
     "output_type": "stream",
     "text": [
      "Model-1 | PSNR(dB): 25.336| SSIM: 0.837\n"
     ]
    },
    {
     "name": "stderr",
     "output_type": "stream",
     "text": [
      "100%|███████████████▉| 623/624 [08:08<00:00,  1.31it/s, epoch=29, B_PSNR-1=27.3]"
     ]
    },
    {
     "name": "stdout",
     "output_type": "stream",
     "text": [
      "Adjusting learning rate of group 0 to 1.0000e-03.\n"
     ]
    },
    {
     "name": "stderr",
     "output_type": "stream",
     "text": [
      "100%|████████████████| 624/624 [08:22<00:00,  1.24it/s, epoch=29, B_PSNR-1=27.3]\n"
     ]
    },
    {
     "name": "stdout",
     "output_type": "stream",
     "text": [
      "Model-1 | PSNR(dB): 25.013| SSIM: 0.847\n",
      "Epoch 00030: reducing learning rate of group 0 to 1.3422e-04.\n",
      "Epoch 29 cw: 1.0\n",
      " Psnr1: 25.248 Ssim1: 0.855 loss-1: 1.777 c_loss-1: 20.276 sup_loss-1: 0.188 l_nll_loss-1: 0.693 ul_nll_loss-1: 0.693\n"
     ]
    },
    {
     "name": "stderr",
     "output_type": "stream",
     "text": [
      " 50%|███████▉        | 311/624 [03:55<03:59,  1.31it/s, epoch=30, B_PSNR-1=27.3]"
     ]
    },
    {
     "name": "stdout",
     "output_type": "stream",
     "text": [
      "Adjusting learning rate of group 0 to 9.9726e-04.\n"
     ]
    },
    {
     "name": "stderr",
     "output_type": "stream",
     "text": [
      "\r",
      " 50%|████████        | 312/624 [04:09<26:23,  5.08s/it, epoch=30, B_PSNR-1=27.3]"
     ]
    },
    {
     "name": "stdout",
     "output_type": "stream",
     "text": [
      "Model-1 | PSNR(dB): 25.467| SSIM: 0.849\n"
     ]
    },
    {
     "name": "stderr",
     "output_type": "stream",
     "text": [
      "100%|███████████████▉| 623/624 [08:07<00:00,  1.34it/s, epoch=30, B_PSNR-1=27.3]"
     ]
    },
    {
     "name": "stdout",
     "output_type": "stream",
     "text": [
      "Adjusting learning rate of group 0 to 9.8907e-04.\n"
     ]
    },
    {
     "name": "stderr",
     "output_type": "stream",
     "text": [
      "100%|████████████████| 624/624 [08:22<00:00,  1.24it/s, epoch=30, B_PSNR-1=27.3]\n"
     ]
    },
    {
     "name": "stdout",
     "output_type": "stream",
     "text": [
      "Model-1 | PSNR(dB): 25.89| SSIM: 0.864\n",
      "Epoch 30 cw: 1.0\n",
      " Psnr1: 25.086 Ssim1: 0.853 loss-1: 1.784 c_loss-1: 20.869 sup_loss-1: 0.189 l_nll_loss-1: 0.693 ul_nll_loss-1: 0.693\n"
     ]
    },
    {
     "name": "stderr",
     "output_type": "stream",
     "text": [
      " 50%|███████▉        | 311/624 [03:54<04:01,  1.30it/s, epoch=31, B_PSNR-1=27.3]"
     ]
    },
    {
     "name": "stdout",
     "output_type": "stream",
     "text": [
      "Adjusting learning rate of group 0 to 9.7553e-04.\n"
     ]
    },
    {
     "name": "stderr",
     "output_type": "stream",
     "text": [
      "\r",
      " 50%|████████        | 312/624 [04:09<26:09,  5.03s/it, epoch=31, B_PSNR-1=27.3]"
     ]
    },
    {
     "name": "stdout",
     "output_type": "stream",
     "text": [
      "Model-1 | PSNR(dB): 26.088| SSIM: 0.866\n"
     ]
    },
    {
     "name": "stderr",
     "output_type": "stream",
     "text": [
      "100%|███████████████▉| 623/624 [08:02<00:00,  1.32it/s, epoch=31, B_PSNR-1=27.3]"
     ]
    },
    {
     "name": "stdout",
     "output_type": "stream",
     "text": [
      "Adjusting learning rate of group 0 to 9.5677e-04.\n"
     ]
    },
    {
     "name": "stderr",
     "output_type": "stream",
     "text": [
      "100%|████████████████| 624/624 [08:16<00:00,  1.26it/s, epoch=31, B_PSNR-1=27.3]\n"
     ]
    },
    {
     "name": "stdout",
     "output_type": "stream",
     "text": [
      "Model-1 | PSNR(dB): 26.148| SSIM: 0.869\n",
      "Epoch 31 cw: 1.0\n",
      " Psnr1: 25.347 Ssim1: 0.855 loss-1: 1.763 c_loss-1: 18.969 sup_loss-1: 0.187 l_nll_loss-1: 0.693 ul_nll_loss-1: 0.693\n"
     ]
    },
    {
     "name": "stderr",
     "output_type": "stream",
     "text": [
      " 50%|███████▉        | 311/624 [03:58<03:59,  1.31it/s, epoch=32, B_PSNR-1=27.3]"
     ]
    },
    {
     "name": "stdout",
     "output_type": "stream",
     "text": [
      "Adjusting learning rate of group 0 to 9.3301e-04.\n"
     ]
    },
    {
     "name": "stderr",
     "output_type": "stream",
     "text": [
      "\r",
      " 50%|████████        | 312/624 [04:12<25:52,  4.97s/it, epoch=32, B_PSNR-1=27.3]"
     ]
    },
    {
     "name": "stdout",
     "output_type": "stream",
     "text": [
      "Model-1 | PSNR(dB): 26.104| SSIM: 0.866\n"
     ]
    },
    {
     "name": "stderr",
     "output_type": "stream",
     "text": [
      "100%|███████████████▉| 623/624 [08:12<00:00,  1.29it/s, epoch=32, B_PSNR-1=27.3]"
     ]
    },
    {
     "name": "stdout",
     "output_type": "stream",
     "text": [
      "Adjusting learning rate of group 0 to 9.0451e-04.\n"
     ]
    },
    {
     "name": "stderr",
     "output_type": "stream",
     "text": [
      "100%|████████████████| 624/624 [08:26<00:00,  1.23it/s, epoch=32, B_PSNR-1=27.3]\n"
     ]
    },
    {
     "name": "stdout",
     "output_type": "stream",
     "text": [
      "Model-1 | PSNR(dB): 25.864| SSIM: 0.853\n",
      "Epoch 00033: reducing learning rate of group 0 to 1.0737e-04.\n",
      "Epoch 32 cw: 1.0\n",
      " Psnr1: 25.718 Ssim1: 0.86 loss-1: 1.742 c_loss-1: 17.368 sup_loss-1: 0.182 l_nll_loss-1: 0.693 ul_nll_loss-1: 0.693\n"
     ]
    },
    {
     "name": "stderr",
     "output_type": "stream",
     "text": [
      " 50%|███████▉        | 311/624 [03:58<03:59,  1.31it/s, epoch=33, B_PSNR-1=27.3]"
     ]
    },
    {
     "name": "stdout",
     "output_type": "stream",
     "text": [
      "Adjusting learning rate of group 0 to 8.7157e-04.\n"
     ]
    },
    {
     "name": "stderr",
     "output_type": "stream",
     "text": [
      "\r",
      " 50%|████████        | 312/624 [04:12<26:11,  5.04s/it, epoch=33, B_PSNR-1=27.3]"
     ]
    },
    {
     "name": "stdout",
     "output_type": "stream",
     "text": [
      "Model-1 | PSNR(dB): 26.048| SSIM: 0.866\n"
     ]
    },
    {
     "name": "stderr",
     "output_type": "stream",
     "text": [
      "100%|███████████████▉| 623/624 [08:09<00:00,  1.33it/s, epoch=33, B_PSNR-1=27.3]"
     ]
    },
    {
     "name": "stdout",
     "output_type": "stream",
     "text": [
      "Adjusting learning rate of group 0 to 8.3457e-04.\n"
     ]
    },
    {
     "name": "stderr",
     "output_type": "stream",
     "text": [
      "100%|████████████████| 624/624 [08:23<00:00,  1.24it/s, epoch=33, B_PSNR-1=27.3]\n"
     ]
    },
    {
     "name": "stdout",
     "output_type": "stream",
     "text": [
      "Model-1 | PSNR(dB): 25.981| SSIM: 0.862\n",
      "Epoch 33 cw: 1.0\n",
      " Psnr1: 25.66 Ssim1: 0.859 loss-1: 1.736 c_loss-1: 16.795 sup_loss-1: 0.182 l_nll_loss-1: 0.693 ul_nll_loss-1: 0.693\n"
     ]
    },
    {
     "name": "stderr",
     "output_type": "stream",
     "text": [
      " 50%|███████▉        | 311/624 [03:53<03:53,  1.34it/s, epoch=34, B_PSNR-1=27.3]"
     ]
    },
    {
     "name": "stdout",
     "output_type": "stream",
     "text": [
      "Adjusting learning rate of group 0 to 7.9389e-04.\n"
     ]
    },
    {
     "name": "stderr",
     "output_type": "stream",
     "text": [
      "\r",
      " 50%|████████        | 312/624 [04:07<26:18,  5.06s/it, epoch=34, B_PSNR-1=27.3]"
     ]
    },
    {
     "name": "stdout",
     "output_type": "stream",
     "text": [
      "Model-1 | PSNR(dB): 24.483| SSIM: 0.834\n"
     ]
    },
    {
     "name": "stderr",
     "output_type": "stream",
     "text": [
      "100%|███████████████▉| 623/624 [08:05<00:00,  1.29it/s, epoch=34, B_PSNR-1=27.3]"
     ]
    },
    {
     "name": "stdout",
     "output_type": "stream",
     "text": [
      "Adjusting learning rate of group 0 to 7.5000e-04.\n"
     ]
    },
    {
     "name": "stderr",
     "output_type": "stream",
     "text": [
      "100%|████████████████| 624/624 [08:20<00:00,  1.25it/s, epoch=34, B_PSNR-1=27.3]\n"
     ]
    },
    {
     "name": "stdout",
     "output_type": "stream",
     "text": [
      "Model-1 | PSNR(dB): 25.063| SSIM: 0.839\n",
      "Epoch 34 cw: 1.0\n",
      " Psnr1: 24.812 Ssim1: 0.846 loss-1: 1.741 c_loss-1: 15.444 sup_loss-1: 0.2 l_nll_loss-1: 0.693 ul_nll_loss-1: 0.693\n"
     ]
    },
    {
     "name": "stderr",
     "output_type": "stream",
     "text": [
      " 50%|███████▉        | 311/624 [03:58<04:02,  1.29it/s, epoch=35, B_PSNR-1=27.3]"
     ]
    },
    {
     "name": "stdout",
     "output_type": "stream",
     "text": [
      "Adjusting learning rate of group 0 to 7.0337e-04.\n"
     ]
    },
    {
     "name": "stderr",
     "output_type": "stream",
     "text": [
      "\r",
      " 50%|████████        | 312/624 [04:13<26:50,  5.16s/it, epoch=35, B_PSNR-1=27.3]"
     ]
    },
    {
     "name": "stdout",
     "output_type": "stream",
     "text": [
      "Model-1 | PSNR(dB): 25.493| SSIM: 0.853\n"
     ]
    },
    {
     "name": "stderr",
     "output_type": "stream",
     "text": [
      "100%|███████████████▉| 623/624 [08:08<00:00,  1.35it/s, epoch=35, B_PSNR-1=27.3]"
     ]
    },
    {
     "name": "stdout",
     "output_type": "stream",
     "text": [
      "Adjusting learning rate of group 0 to 6.5451e-04.\n"
     ]
    },
    {
     "name": "stderr",
     "output_type": "stream",
     "text": [
      "100%|████████████████| 624/624 [08:22<00:00,  1.24it/s, epoch=35, B_PSNR-1=27.3]\n"
     ]
    },
    {
     "name": "stdout",
     "output_type": "stream",
     "text": [
      "Model-1 | PSNR(dB): 25.502| SSIM: 0.847\n",
      "Epoch 00036: reducing learning rate of group 0 to 8.5899e-05.\n",
      "Epoch 35 cw: 1.0\n",
      " Psnr1: 25.229 Ssim1: 0.853 loss-1: 1.736 c_loss-1: 16.085 sup_loss-1: 0.189 l_nll_loss-1: 0.693 ul_nll_loss-1: 0.693\n"
     ]
    },
    {
     "name": "stderr",
     "output_type": "stream",
     "text": [
      " 50%|███████▉        | 311/624 [03:55<04:01,  1.30it/s, epoch=36, B_PSNR-1=27.3]"
     ]
    },
    {
     "name": "stdout",
     "output_type": "stream",
     "text": [
      "Adjusting learning rate of group 0 to 6.0396e-04.\n"
     ]
    },
    {
     "name": "stderr",
     "output_type": "stream",
     "text": [
      "\r",
      " 50%|████████        | 312/624 [04:09<25:48,  4.96s/it, epoch=36, B_PSNR-1=27.3]"
     ]
    },
    {
     "name": "stdout",
     "output_type": "stream",
     "text": [
      "Model-1 | PSNR(dB): 25.921| SSIM: 0.854\n"
     ]
    },
    {
     "name": "stderr",
     "output_type": "stream",
     "text": [
      "100%|███████████████▉| 623/624 [08:04<00:00,  1.36it/s, epoch=36, B_PSNR-1=27.3]"
     ]
    },
    {
     "name": "stdout",
     "output_type": "stream",
     "text": [
      "Adjusting learning rate of group 0 to 5.5226e-04.\n"
     ]
    },
    {
     "name": "stderr",
     "output_type": "stream",
     "text": [
      "100%|████████████████| 624/624 [08:19<00:00,  1.25it/s, epoch=36, B_PSNR-1=27.3]\n"
     ]
    },
    {
     "name": "stdout",
     "output_type": "stream",
     "text": [
      "Model-1 | PSNR(dB): 25.849| SSIM: 0.865\n",
      "Epoch 36 cw: 1.0\n",
      " Psnr1: 25.418 Ssim1: 0.858 loss-1: 1.739 c_loss-1: 16.868 sup_loss-1: 0.184 l_nll_loss-1: 0.693 ul_nll_loss-1: 0.693\n"
     ]
    },
    {
     "name": "stderr",
     "output_type": "stream",
     "text": [
      " 50%|███████▉        | 311/624 [03:53<03:55,  1.33it/s, epoch=37, B_PSNR-1=27.3]"
     ]
    },
    {
     "name": "stdout",
     "output_type": "stream",
     "text": [
      "Adjusting learning rate of group 0 to 5.0000e-04.\n"
     ]
    },
    {
     "name": "stderr",
     "output_type": "stream",
     "text": [
      "\r",
      " 50%|████████        | 312/624 [04:08<27:22,  5.26s/it, epoch=37, B_PSNR-1=27.3]"
     ]
    },
    {
     "name": "stdout",
     "output_type": "stream",
     "text": [
      "Model-1 | PSNR(dB): 25.678| SSIM: 0.853\n"
     ]
    },
    {
     "name": "stderr",
     "output_type": "stream",
     "text": [
      "100%|███████████████▉| 623/624 [08:06<00:00,  1.27it/s, epoch=37, B_PSNR-1=27.3]"
     ]
    },
    {
     "name": "stdout",
     "output_type": "stream",
     "text": [
      "Adjusting learning rate of group 0 to 4.4774e-04.\n"
     ]
    },
    {
     "name": "stderr",
     "output_type": "stream",
     "text": [
      "100%|████████████████| 624/624 [08:21<00:00,  1.24it/s, epoch=37, B_PSNR-1=27.3]\n"
     ]
    },
    {
     "name": "stdout",
     "output_type": "stream",
     "text": [
      "Model-1 | PSNR(dB): 26.645| SSIM: 0.863\n",
      "Epoch 37 cw: 1.0\n",
      " Psnr1: 25.703 Ssim1: 0.86 loss-1: 1.724 c_loss-1: 15.724 sup_loss-1: 0.18 l_nll_loss-1: 0.693 ul_nll_loss-1: 0.693\n"
     ]
    },
    {
     "name": "stderr",
     "output_type": "stream",
     "text": [
      " 50%|███████▉        | 311/624 [03:59<03:57,  1.32it/s, epoch=38, B_PSNR-1=27.3]"
     ]
    },
    {
     "name": "stdout",
     "output_type": "stream",
     "text": [
      "Adjusting learning rate of group 0 to 3.9604e-04.\n"
     ]
    },
    {
     "name": "stderr",
     "output_type": "stream",
     "text": [
      "\r",
      " 50%|████████        | 312/624 [04:14<26:53,  5.17s/it, epoch=38, B_PSNR-1=27.3]"
     ]
    },
    {
     "name": "stdout",
     "output_type": "stream",
     "text": [
      "Model-1 | PSNR(dB): 26.219| SSIM: 0.866\n"
     ]
    },
    {
     "name": "stderr",
     "output_type": "stream",
     "text": [
      "100%|███████████████▉| 623/624 [08:07<00:00,  1.35it/s, epoch=38, B_PSNR-1=27.3]"
     ]
    },
    {
     "name": "stdout",
     "output_type": "stream",
     "text": [
      "Adjusting learning rate of group 0 to 3.4549e-04.\n"
     ]
    },
    {
     "name": "stderr",
     "output_type": "stream",
     "text": [
      "100%|████████████████| 624/624 [08:22<00:00,  1.24it/s, epoch=38, B_PSNR-1=27.3]\n"
     ]
    },
    {
     "name": "stdout",
     "output_type": "stream",
     "text": [
      "Model-1 | PSNR(dB): 25.668| SSIM: 0.854\n",
      "Epoch 00039: reducing learning rate of group 0 to 6.8719e-05.\n",
      "Epoch 38 cw: 1.0\n",
      " Psnr1: 25.707 Ssim1: 0.861 loss-1: 1.712 c_loss-1: 14.483 sup_loss-1: 0.181 l_nll_loss-1: 0.693 ul_nll_loss-1: 0.693\n"
     ]
    },
    {
     "name": "stderr",
     "output_type": "stream",
     "text": [
      " 50%|███████▉        | 311/624 [03:53<04:02,  1.29it/s, epoch=39, B_PSNR-1=27.3]"
     ]
    },
    {
     "name": "stdout",
     "output_type": "stream",
     "text": [
      "Adjusting learning rate of group 0 to 2.9663e-04.\n"
     ]
    },
    {
     "name": "stderr",
     "output_type": "stream",
     "text": [
      "\r",
      " 50%|████████        | 312/624 [04:08<26:20,  5.07s/it, epoch=39, B_PSNR-1=27.3]"
     ]
    },
    {
     "name": "stdout",
     "output_type": "stream",
     "text": [
      "Model-1 | PSNR(dB): 25.296| SSIM: 0.847\n"
     ]
    },
    {
     "name": "stderr",
     "output_type": "stream",
     "text": [
      "100%|███████████████▉| 623/624 [08:07<00:00,  1.30it/s, epoch=39, B_PSNR-1=27.3]"
     ]
    },
    {
     "name": "stdout",
     "output_type": "stream",
     "text": [
      "Adjusting learning rate of group 0 to 2.5000e-04.\n"
     ]
    },
    {
     "name": "stderr",
     "output_type": "stream",
     "text": [
      "100%|████████████████| 624/624 [08:22<00:00,  1.24it/s, epoch=39, B_PSNR-1=27.3]\n"
     ]
    },
    {
     "name": "stdout",
     "output_type": "stream",
     "text": [
      "Model-1 | PSNR(dB): 25.898| SSIM: 0.861\n",
      "Epoch 39 cw: 1.0\n",
      " Psnr1: 25.069 Ssim1: 0.849 loss-1: 1.697 c_loss-1: 11.521 sup_loss-1: 0.196 l_nll_loss-1: 0.693 ul_nll_loss-1: 0.693\n"
     ]
    },
    {
     "name": "stderr",
     "output_type": "stream",
     "text": [
      " 50%|███████▉        | 311/624 [03:58<03:55,  1.33it/s, epoch=40, B_PSNR-1=27.3]"
     ]
    },
    {
     "name": "stdout",
     "output_type": "stream",
     "text": [
      "Adjusting learning rate of group 0 to 2.0611e-04.\n"
     ]
    },
    {
     "name": "stderr",
     "output_type": "stream",
     "text": [
      "\r",
      " 50%|████████        | 312/624 [04:12<26:12,  5.04s/it, epoch=40, B_PSNR-1=27.3]"
     ]
    },
    {
     "name": "stdout",
     "output_type": "stream",
     "text": [
      "Model-1 | PSNR(dB): 25.54| SSIM: 0.858\n"
     ]
    },
    {
     "name": "stderr",
     "output_type": "stream",
     "text": [
      "100%|███████████████▉| 623/624 [08:10<00:00,  1.31it/s, epoch=40, B_PSNR-1=27.3]"
     ]
    },
    {
     "name": "stdout",
     "output_type": "stream",
     "text": [
      "Adjusting learning rate of group 0 to 1.6543e-04.\n"
     ]
    },
    {
     "name": "stderr",
     "output_type": "stream",
     "text": [
      "100%|████████████████| 624/624 [08:25<00:00,  1.24it/s, epoch=40, B_PSNR-1=27.3]\n"
     ]
    },
    {
     "name": "stdout",
     "output_type": "stream",
     "text": [
      "Model-1 | PSNR(dB): 25.508| SSIM: 0.856\n",
      "Epoch 40 cw: 1.0\n",
      " Psnr1: 25.469 Ssim1: 0.856 loss-1: 1.689 c_loss-1: 11.597 sup_loss-1: 0.187 l_nll_loss-1: 0.693 ul_nll_loss-1: 0.693\n"
     ]
    },
    {
     "name": "stderr",
     "output_type": "stream",
     "text": [
      " 50%|███████▉        | 311/624 [03:59<03:58,  1.31it/s, epoch=41, B_PSNR-1=27.3]"
     ]
    },
    {
     "name": "stdout",
     "output_type": "stream",
     "text": [
      "Adjusting learning rate of group 0 to 1.2843e-04.\n"
     ]
    },
    {
     "name": "stderr",
     "output_type": "stream",
     "text": [
      "\r",
      " 50%|████████        | 312/624 [04:14<27:18,  5.25s/it, epoch=41, B_PSNR-1=27.3]"
     ]
    },
    {
     "name": "stdout",
     "output_type": "stream",
     "text": [
      "Model-1 | PSNR(dB): 25.767| SSIM: 0.862\n"
     ]
    },
    {
     "name": "stderr",
     "output_type": "stream",
     "text": [
      "100%|███████████████▉| 623/624 [08:11<00:00,  1.32it/s, epoch=41, B_PSNR-1=27.3]"
     ]
    },
    {
     "name": "stdout",
     "output_type": "stream",
     "text": [
      "Adjusting learning rate of group 0 to 9.5492e-05.\n"
     ]
    },
    {
     "name": "stderr",
     "output_type": "stream",
     "text": [
      "100%|████████████████| 624/624 [08:25<00:00,  1.23it/s, epoch=41, B_PSNR-1=27.3]\n"
     ]
    },
    {
     "name": "stdout",
     "output_type": "stream",
     "text": [
      "Model-1 | PSNR(dB): 26.396| SSIM: 0.873\n",
      "Epoch 00042: reducing learning rate of group 0 to 5.4976e-05.\n",
      "Epoch 41 cw: 1.0\n",
      " Psnr1: 25.426 Ssim1: 0.86 loss-1: 1.683 c_loss-1: 11.444 sup_loss-1: 0.183 l_nll_loss-1: 0.693 ul_nll_loss-1: 0.693\n"
     ]
    },
    {
     "name": "stderr",
     "output_type": "stream",
     "text": [
      " 50%|███████▉        | 311/624 [03:53<03:59,  1.30it/s, epoch=42, B_PSNR-1=27.3]"
     ]
    },
    {
     "name": "stdout",
     "output_type": "stream",
     "text": [
      "Adjusting learning rate of group 0 to 6.6987e-05.\n"
     ]
    },
    {
     "name": "stderr",
     "output_type": "stream",
     "text": [
      "\r",
      " 50%|████████        | 312/624 [04:07<26:17,  5.06s/it, epoch=42, B_PSNR-1=27.3]"
     ]
    },
    {
     "name": "stdout",
     "output_type": "stream",
     "text": [
      "Model-1 | PSNR(dB): 26.526| SSIM: 0.875\n"
     ]
    },
    {
     "name": "stderr",
     "output_type": "stream",
     "text": [
      "100%|███████████████▉| 623/624 [08:07<00:00,  1.29it/s, epoch=42, B_PSNR-1=27.3]"
     ]
    },
    {
     "name": "stdout",
     "output_type": "stream",
     "text": [
      "Adjusting learning rate of group 0 to 4.3227e-05.\n"
     ]
    },
    {
     "name": "stderr",
     "output_type": "stream",
     "text": [
      "100%|████████████████| 624/624 [08:21<00:00,  1.24it/s, epoch=42, B_PSNR-1=27.3]\n"
     ]
    },
    {
     "name": "stdout",
     "output_type": "stream",
     "text": [
      "Model-1 | PSNR(dB): 26.078| SSIM: 0.868\n",
      "Epoch 42 cw: 1.0\n",
      " Psnr1: 25.897 Ssim1: 0.868 loss-1: 1.676 c_loss-1: 11.689 sup_loss-1: 0.172 l_nll_loss-1: 0.693 ul_nll_loss-1: 0.693\n"
     ]
    },
    {
     "name": "stderr",
     "output_type": "stream",
     "text": [
      " 50%|███████▉        | 311/624 [03:57<03:56,  1.32it/s, epoch=43, B_PSNR-1=27.3]"
     ]
    },
    {
     "name": "stdout",
     "output_type": "stream",
     "text": [
      "Adjusting learning rate of group 0 to 2.4472e-05.\n"
     ]
    },
    {
     "name": "stderr",
     "output_type": "stream",
     "text": [
      "\r",
      " 50%|████████        | 312/624 [04:11<25:13,  4.85s/it, epoch=43, B_PSNR-1=27.3]"
     ]
    },
    {
     "name": "stdout",
     "output_type": "stream",
     "text": [
      "Model-1 | PSNR(dB): 26.042| SSIM: 0.868\n"
     ]
    },
    {
     "name": "stderr",
     "output_type": "stream",
     "text": [
      "100%|███████████████▉| 623/624 [08:08<00:00,  1.32it/s, epoch=43, B_PSNR-1=27.3]"
     ]
    },
    {
     "name": "stdout",
     "output_type": "stream",
     "text": [
      "Adjusting learning rate of group 0 to 1.0926e-05.\n"
     ]
    },
    {
     "name": "stderr",
     "output_type": "stream",
     "text": [
      "100%|████████████████| 624/624 [08:23<00:00,  1.24it/s, epoch=43, B_PSNR-1=27.3]\n"
     ]
    },
    {
     "name": "stdout",
     "output_type": "stream",
     "text": [
      "Model-1 | PSNR(dB): 26.286| SSIM: 0.87\n",
      "Epoch 43 cw: 1.0\n",
      " Psnr1: 26.186 Ssim1: 0.871 loss-1: 1.668 c_loss-1: 11.364 sup_loss-1: 0.168 l_nll_loss-1: 0.693 ul_nll_loss-1: 0.693\n"
     ]
    },
    {
     "name": "stderr",
     "output_type": "stream",
     "text": [
      " 50%|███████▉        | 311/624 [03:56<03:59,  1.31it/s, epoch=44, B_PSNR-1=27.3]"
     ]
    },
    {
     "name": "stdout",
     "output_type": "stream",
     "text": [
      "Adjusting learning rate of group 0 to 2.7391e-06.\n"
     ]
    },
    {
     "name": "stderr",
     "output_type": "stream",
     "text": [
      "\r",
      " 50%|████████        | 312/624 [04:11<26:20,  5.07s/it, epoch=44, B_PSNR-1=27.3]"
     ]
    },
    {
     "name": "stdout",
     "output_type": "stream",
     "text": [
      "Model-1 | PSNR(dB): 26.473| SSIM: 0.876\n"
     ]
    },
    {
     "name": "stderr",
     "output_type": "stream",
     "text": [
      "100%|███████████████▉| 623/624 [08:09<00:00,  1.30it/s, epoch=44, B_PSNR-1=27.3]"
     ]
    },
    {
     "name": "stdout",
     "output_type": "stream",
     "text": [
      "Adjusting learning rate of group 0 to 0.0000e+00.\n"
     ]
    },
    {
     "name": "stderr",
     "output_type": "stream",
     "text": [
      "100%|████████████████| 624/624 [08:24<00:00,  1.24it/s, epoch=44, B_PSNR-1=27.3]\n"
     ]
    },
    {
     "name": "stdout",
     "output_type": "stream",
     "text": [
      "Model-1 | PSNR(dB): 26.662| SSIM: 0.875\n",
      "Epoch 00045: reducing learning rate of group 0 to 4.3980e-05.\n",
      "Epoch 44 cw: 1.0\n",
      " Psnr1: 26.086 Ssim1: 0.873 loss-1: 1.671 c_loss-1: 11.814 sup_loss-1: 0.167 l_nll_loss-1: 0.693 ul_nll_loss-1: 0.693\n"
     ]
    },
    {
     "name": "stderr",
     "output_type": "stream",
     "text": [
      " 50%|███████▉        | 311/624 [03:55<03:55,  1.33it/s, epoch=45, B_PSNR-1=27.3]"
     ]
    },
    {
     "name": "stdout",
     "output_type": "stream",
     "text": [
      "Adjusting learning rate of group 0 to 2.7391e-06.\n"
     ]
    },
    {
     "name": "stderr",
     "output_type": "stream",
     "text": [
      "\r",
      " 50%|████████        | 312/624 [04:09<25:39,  4.94s/it, epoch=45, B_PSNR-1=27.3]"
     ]
    },
    {
     "name": "stdout",
     "output_type": "stream",
     "text": [
      "Model-1 | PSNR(dB): 26.538| SSIM: 0.875\n"
     ]
    },
    {
     "name": "stderr",
     "output_type": "stream",
     "text": [
      "100%|███████████████▉| 623/624 [08:06<00:00,  1.33it/s, epoch=45, B_PSNR-1=27.3]"
     ]
    },
    {
     "name": "stdout",
     "output_type": "stream",
     "text": [
      "Adjusting learning rate of group 0 to 1.0926e-05.\n"
     ]
    },
    {
     "name": "stderr",
     "output_type": "stream",
     "text": [
      "100%|████████████████| 624/624 [08:20<00:00,  1.25it/s, epoch=45, B_PSNR-1=27.3]\n"
     ]
    },
    {
     "name": "stdout",
     "output_type": "stream",
     "text": [
      "Model-1 | PSNR(dB): 26.157| SSIM: 0.873\n",
      "Epoch 45 cw: 1.0\n",
      " Psnr1: 26.078 Ssim1: 0.874 loss-1: 1.676 c_loss-1: 12.369 sup_loss-1: 0.166 l_nll_loss-1: 0.693 ul_nll_loss-1: 0.693\n"
     ]
    },
    {
     "name": "stderr",
     "output_type": "stream",
     "text": [
      " 50%|███████▉        | 311/624 [03:59<04:00,  1.30it/s, epoch=46, B_PSNR-1=27.3]"
     ]
    },
    {
     "name": "stdout",
     "output_type": "stream",
     "text": [
      "Adjusting learning rate of group 0 to 2.4472e-05.\n"
     ]
    },
    {
     "name": "stderr",
     "output_type": "stream",
     "text": [
      "\r",
      " 50%|████████        | 312/624 [04:14<26:49,  5.16s/it, epoch=46, B_PSNR-1=27.3]"
     ]
    },
    {
     "name": "stdout",
     "output_type": "stream",
     "text": [
      "Model-1 | PSNR(dB): 26.375| SSIM: 0.873\n"
     ]
    },
    {
     "name": "stderr",
     "output_type": "stream",
     "text": [
      "100%|███████████████▉| 623/624 [08:11<00:00,  1.31it/s, epoch=46, B_PSNR-1=27.3]"
     ]
    },
    {
     "name": "stdout",
     "output_type": "stream",
     "text": [
      "Adjusting learning rate of group 0 to 4.3227e-05.\n"
     ]
    },
    {
     "name": "stderr",
     "output_type": "stream",
     "text": [
      "100%|████████████████| 624/624 [08:26<00:00,  1.23it/s, epoch=46, B_PSNR-1=27.3]\n"
     ]
    },
    {
     "name": "stdout",
     "output_type": "stream",
     "text": [
      "Model-1 | PSNR(dB): 26.538| SSIM: 0.875\n",
      "Epoch 46 cw: 1.0\n",
      " Psnr1: 25.765 Ssim1: 0.87 loss-1: 1.684 c_loss-1: 12.711 sup_loss-1: 0.171 l_nll_loss-1: 0.693 ul_nll_loss-1: 0.693\n"
     ]
    },
    {
     "name": "stderr",
     "output_type": "stream",
     "text": [
      " 50%|███████▉        | 311/624 [03:59<03:59,  1.31it/s, epoch=47, B_PSNR-1=27.3]"
     ]
    },
    {
     "name": "stdout",
     "output_type": "stream",
     "text": [
      "Adjusting learning rate of group 0 to 6.6987e-05.\n"
     ]
    },
    {
     "name": "stderr",
     "output_type": "stream",
     "text": [
      "\r",
      " 50%|████████        | 312/624 [04:13<26:09,  5.03s/it, epoch=47, B_PSNR-1=27.3]"
     ]
    },
    {
     "name": "stdout",
     "output_type": "stream",
     "text": [
      "Model-1 | PSNR(dB): 26.515| SSIM: 0.876\n"
     ]
    },
    {
     "name": "stderr",
     "output_type": "stream",
     "text": [
      "100%|███████████████▉| 623/624 [08:09<00:00,  1.31it/s, epoch=47, B_PSNR-1=27.3]"
     ]
    },
    {
     "name": "stdout",
     "output_type": "stream",
     "text": [
      "Adjusting learning rate of group 0 to 9.5492e-05.\n"
     ]
    },
    {
     "name": "stderr",
     "output_type": "stream",
     "text": [
      "100%|████████████████| 624/624 [08:24<00:00,  1.24it/s, epoch=47, B_PSNR-1=27.3]\n"
     ]
    },
    {
     "name": "stdout",
     "output_type": "stream",
     "text": [
      "Model-1 | PSNR(dB): 26.542| SSIM: 0.877\n",
      "Epoch 00048: reducing learning rate of group 0 to 3.5184e-05.\n",
      "Epoch 47 cw: 1.0\n",
      " Psnr1: 26.093 Ssim1: 0.873 loss-1: 1.681 c_loss-1: 12.795 sup_loss-1: 0.167 l_nll_loss-1: 0.693 ul_nll_loss-1: 0.693\n"
     ]
    },
    {
     "name": "stderr",
     "output_type": "stream",
     "text": [
      " 50%|███████▉        | 311/624 [03:58<03:57,  1.32it/s, epoch=48, B_PSNR-1=27.3]"
     ]
    },
    {
     "name": "stdout",
     "output_type": "stream",
     "text": [
      "Adjusting learning rate of group 0 to 1.2843e-04.\n"
     ]
    },
    {
     "name": "stderr",
     "output_type": "stream",
     "text": [
      "\r",
      " 50%|████████        | 312/624 [04:13<26:15,  5.05s/it, epoch=48, B_PSNR-1=27.3]"
     ]
    },
    {
     "name": "stdout",
     "output_type": "stream",
     "text": [
      "Model-1 | PSNR(dB): 26.486| SSIM: 0.877\n"
     ]
    },
    {
     "name": "stderr",
     "output_type": "stream",
     "text": [
      "100%|███████████████▉| 623/624 [08:11<00:00,  1.32it/s, epoch=48, B_PSNR-1=27.3]"
     ]
    },
    {
     "name": "stdout",
     "output_type": "stream",
     "text": [
      "Adjusting learning rate of group 0 to 1.6543e-04.\n"
     ]
    },
    {
     "name": "stderr",
     "output_type": "stream",
     "text": [
      "100%|████████████████| 624/624 [08:25<00:00,  1.23it/s, epoch=48, B_PSNR-1=27.3]\n"
     ]
    },
    {
     "name": "stdout",
     "output_type": "stream",
     "text": [
      "Model-1 | PSNR(dB): 26.184| SSIM: 0.873\n",
      "Epoch 48 cw: 1.0\n",
      " Psnr1: 25.851 Ssim1: 0.869 loss-1: 1.685 c_loss-1: 12.767 sup_loss-1: 0.171 l_nll_loss-1: 0.693 ul_nll_loss-1: 0.693\n"
     ]
    },
    {
     "name": "stderr",
     "output_type": "stream",
     "text": [
      " 50%|███████▉        | 311/624 [03:59<03:57,  1.32it/s, epoch=49, B_PSNR-1=27.3]"
     ]
    },
    {
     "name": "stdout",
     "output_type": "stream",
     "text": [
      "Adjusting learning rate of group 0 to 2.0611e-04.\n"
     ]
    },
    {
     "name": "stderr",
     "output_type": "stream",
     "text": [
      "\r",
      " 50%|████████        | 312/624 [04:14<26:33,  5.11s/it, epoch=49, B_PSNR-1=27.3]"
     ]
    },
    {
     "name": "stdout",
     "output_type": "stream",
     "text": [
      "Model-1 | PSNR(dB): 25.931| SSIM: 0.874\n"
     ]
    },
    {
     "name": "stderr",
     "output_type": "stream",
     "text": [
      "100%|███████████████▉| 623/624 [08:13<00:00,  1.29it/s, epoch=49, B_PSNR-1=27.3]"
     ]
    },
    {
     "name": "stdout",
     "output_type": "stream",
     "text": [
      "Adjusting learning rate of group 0 to 2.5000e-04.\n"
     ]
    },
    {
     "name": "stderr",
     "output_type": "stream",
     "text": [
      "100%|████████████████| 624/624 [08:28<00:00,  1.23it/s, epoch=49, B_PSNR-1=27.3]\n"
     ]
    },
    {
     "name": "stdout",
     "output_type": "stream",
     "text": [
      "Model-1 | PSNR(dB): 24.508| SSIM: 0.848\n",
      "Epoch 49 cw: 1.0\n",
      " Psnr1: 25.218 Ssim1: 0.862 loss-1: 1.69 c_loss-1: 12.053 sup_loss-1: 0.183 l_nll_loss-1: 0.693 ul_nll_loss-1: 0.693\n"
     ]
    },
    {
     "name": "stderr",
     "output_type": "stream",
     "text": [
      " 50%|███████▉        | 311/624 [03:59<03:53,  1.34it/s, epoch=50, B_PSNR-1=27.3]"
     ]
    },
    {
     "name": "stdout",
     "output_type": "stream",
     "text": [
      "Adjusting learning rate of group 0 to 2.9663e-04.\n"
     ]
    },
    {
     "name": "stderr",
     "output_type": "stream",
     "text": [
      "\r",
      " 50%|████████        | 312/624 [04:13<25:56,  4.99s/it, epoch=50, B_PSNR-1=27.3]"
     ]
    },
    {
     "name": "stdout",
     "output_type": "stream",
     "text": [
      "Model-1 | PSNR(dB): 25.371| SSIM: 0.868\n"
     ]
    },
    {
     "name": "stderr",
     "output_type": "stream",
     "text": [
      "100%|███████████████▉| 623/624 [08:09<00:00,  1.32it/s, epoch=50, B_PSNR-1=27.3]"
     ]
    },
    {
     "name": "stdout",
     "output_type": "stream",
     "text": [
      "Adjusting learning rate of group 0 to 3.4549e-04.\n"
     ]
    },
    {
     "name": "stderr",
     "output_type": "stream",
     "text": [
      "100%|████████████████| 624/624 [08:23<00:00,  1.24it/s, epoch=50, B_PSNR-1=27.3]\n"
     ]
    },
    {
     "name": "stdout",
     "output_type": "stream",
     "text": [
      "Model-1 | PSNR(dB): 26.341| SSIM: 0.877\n",
      "Epoch 00051: reducing learning rate of group 0 to 2.8147e-05.\n",
      "Epoch 50 cw: 1.0\n",
      " Psnr1: 24.921 Ssim1: 0.859 loss-1: 1.721 c_loss-1: 14.698 sup_loss-1: 0.188 l_nll_loss-1: 0.693 ul_nll_loss-1: 0.693\n"
     ]
    },
    {
     "name": "stderr",
     "output_type": "stream",
     "text": [
      " 50%|███████▉        | 311/624 [03:57<03:58,  1.31it/s, epoch=51, B_PSNR-1=27.3]"
     ]
    },
    {
     "name": "stdout",
     "output_type": "stream",
     "text": [
      "Adjusting learning rate of group 0 to 3.9604e-04.\n"
     ]
    },
    {
     "name": "stderr",
     "output_type": "stream",
     "text": [
      "\r",
      " 50%|████████        | 312/624 [04:12<26:40,  5.13s/it, epoch=51, B_PSNR-1=27.3]"
     ]
    },
    {
     "name": "stdout",
     "output_type": "stream",
     "text": [
      "Model-1 | PSNR(dB): 26.579| SSIM: 0.877\n"
     ]
    },
    {
     "name": "stderr",
     "output_type": "stream",
     "text": [
      "100%|███████████████▉| 623/624 [08:10<00:00,  1.33it/s, epoch=51, B_PSNR-1=27.3]"
     ]
    },
    {
     "name": "stdout",
     "output_type": "stream",
     "text": [
      "Adjusting learning rate of group 0 to 4.4774e-04.\n"
     ]
    },
    {
     "name": "stderr",
     "output_type": "stream",
     "text": [
      "100%|████████████████| 624/624 [08:25<00:00,  1.24it/s, epoch=51, B_PSNR-1=27.3]\n"
     ]
    },
    {
     "name": "stdout",
     "output_type": "stream",
     "text": [
      "Model-1 | PSNR(dB): 26.128| SSIM: 0.869\n",
      "Epoch 51 cw: 1.0\n",
      " Psnr1: 26.074 Ssim1: 0.877 loss-1: 1.707 c_loss-1: 15.748 sup_loss-1: 0.163 l_nll_loss-1: 0.693 ul_nll_loss-1: 0.693\n"
     ]
    },
    {
     "name": "stderr",
     "output_type": "stream",
     "text": [
      " 50%|███████▉        | 311/624 [03:57<04:00,  1.30it/s, epoch=52, B_PSNR-1=27.3]"
     ]
    },
    {
     "name": "stdout",
     "output_type": "stream",
     "text": [
      "Adjusting learning rate of group 0 to 5.0000e-04.\n"
     ]
    },
    {
     "name": "stderr",
     "output_type": "stream",
     "text": [
      "\r",
      " 50%|████████        | 312/624 [04:11<25:16,  4.86s/it, epoch=52, B_PSNR-1=27.3]"
     ]
    },
    {
     "name": "stdout",
     "output_type": "stream",
     "text": [
      "Model-1 | PSNR(dB): 26.686| SSIM: 0.879\n"
     ]
    },
    {
     "name": "stderr",
     "output_type": "stream",
     "text": [
      "100%|███████████████▉| 623/624 [08:11<00:00,  1.29it/s, epoch=52, B_PSNR-1=27.3]"
     ]
    },
    {
     "name": "stdout",
     "output_type": "stream",
     "text": [
      "Adjusting learning rate of group 0 to 5.5226e-04.\n"
     ]
    },
    {
     "name": "stderr",
     "output_type": "stream",
     "text": [
      "100%|████████████████| 624/624 [08:25<00:00,  1.23it/s, epoch=52, B_PSNR-1=27.3]\n"
     ]
    },
    {
     "name": "stdout",
     "output_type": "stream",
     "text": [
      "Model-1 | PSNR(dB): 27.039| SSIM: 0.881\n",
      "Epoch 52 cw: 1.0\n",
      " Psnr1: 26.148 Ssim1: 0.878 loss-1: 1.694 c_loss-1: 14.58 sup_loss-1: 0.162 l_nll_loss-1: 0.693 ul_nll_loss-1: 0.693\n"
     ]
    },
    {
     "name": "stderr",
     "output_type": "stream",
     "text": [
      " 50%|███████▉        | 311/624 [03:58<03:51,  1.35it/s, epoch=53, B_PSNR-1=27.3]"
     ]
    },
    {
     "name": "stdout",
     "output_type": "stream",
     "text": [
      "Adjusting learning rate of group 0 to 6.0396e-04.\n"
     ]
    },
    {
     "name": "stderr",
     "output_type": "stream",
     "text": [
      "\r",
      " 50%|████████        | 312/624 [04:12<26:10,  5.03s/it, epoch=53, B_PSNR-1=27.3]"
     ]
    },
    {
     "name": "stdout",
     "output_type": "stream",
     "text": [
      "Model-1 | PSNR(dB): 26.694| SSIM: 0.877\n"
     ]
    },
    {
     "name": "stderr",
     "output_type": "stream",
     "text": [
      "100%|███████████████▉| 623/624 [08:06<00:00,  1.31it/s, epoch=53, B_PSNR-1=27.3]"
     ]
    },
    {
     "name": "stdout",
     "output_type": "stream",
     "text": [
      "Adjusting learning rate of group 0 to 6.5451e-04.\n"
     ]
    },
    {
     "name": "stderr",
     "output_type": "stream",
     "text": [
      "100%|████████████████| 624/624 [08:21<00:00,  1.24it/s, epoch=53, B_PSNR-1=27.3]\n"
     ]
    },
    {
     "name": "stdout",
     "output_type": "stream",
     "text": [
      "Model-1 | PSNR(dB): 26.624| SSIM: 0.872\n",
      "Epoch 00054: reducing learning rate of group 0 to 2.2518e-05.\n",
      "Epoch 53 cw: 1.0\n",
      " Psnr1: 26.317 Ssim1: 0.878 loss-1: 1.69 c_loss-1: 14.163 sup_loss-1: 0.162 l_nll_loss-1: 0.693 ul_nll_loss-1: 0.693\n"
     ]
    },
    {
     "name": "stderr",
     "output_type": "stream",
     "text": [
      " 50%|███████▉        | 311/624 [03:56<03:50,  1.36it/s, epoch=54, B_PSNR-1=27.3]"
     ]
    },
    {
     "name": "stdout",
     "output_type": "stream",
     "text": [
      "Adjusting learning rate of group 0 to 7.0337e-04.\n"
     ]
    },
    {
     "name": "stderr",
     "output_type": "stream",
     "text": [
      "\r",
      " 50%|████████        | 312/624 [04:10<25:31,  4.91s/it, epoch=54, B_PSNR-1=27.3]"
     ]
    },
    {
     "name": "stdout",
     "output_type": "stream",
     "text": [
      "Model-1 | PSNR(dB): 25.45| SSIM: 0.835\n"
     ]
    },
    {
     "name": "stderr",
     "output_type": "stream",
     "text": [
      "100%|███████████████▉| 623/624 [08:05<00:00,  1.33it/s, epoch=54, B_PSNR-1=27.3]"
     ]
    },
    {
     "name": "stdout",
     "output_type": "stream",
     "text": [
      "Adjusting learning rate of group 0 to 7.5000e-04.\n"
     ]
    },
    {
     "name": "stderr",
     "output_type": "stream",
     "text": [
      "100%|████████████████| 624/624 [08:20<00:00,  1.25it/s, epoch=54, B_PSNR-1=27.3]\n"
     ]
    },
    {
     "name": "stdout",
     "output_type": "stream",
     "text": [
      "Model-1 | PSNR(dB): 26.82| SSIM: 0.884\n",
      "Epoch 54 cw: 1.0\n",
      " Psnr1: 26.229 Ssim1: 0.878 loss-1: 1.694 c_loss-1: 14.613 sup_loss-1: 0.161 l_nll_loss-1: 0.693 ul_nll_loss-1: 0.693\n"
     ]
    },
    {
     "name": "stderr",
     "output_type": "stream",
     "text": [
      " 50%|███████▉        | 311/624 [03:58<04:00,  1.30it/s, epoch=55, B_PSNR-1=27.3]"
     ]
    },
    {
     "name": "stdout",
     "output_type": "stream",
     "text": [
      "Adjusting learning rate of group 0 to 7.9389e-04.\n"
     ]
    },
    {
     "name": "stderr",
     "output_type": "stream",
     "text": [
      "\r",
      " 50%|████████        | 312/624 [04:12<26:22,  5.07s/it, epoch=55, B_PSNR-1=27.3]"
     ]
    },
    {
     "name": "stdout",
     "output_type": "stream",
     "text": [
      "Model-1 | PSNR(dB): 24.859| SSIM: 0.841\n"
     ]
    },
    {
     "name": "stderr",
     "output_type": "stream",
     "text": [
      "100%|███████████████▉| 623/624 [08:11<00:00,  1.30it/s, epoch=55, B_PSNR-1=27.3]"
     ]
    },
    {
     "name": "stdout",
     "output_type": "stream",
     "text": [
      "Adjusting learning rate of group 0 to 8.3457e-04.\n"
     ]
    },
    {
     "name": "stderr",
     "output_type": "stream",
     "text": [
      "100%|████████████████| 624/624 [08:26<00:00,  1.23it/s, epoch=55, B_PSNR-1=27.3]\n"
     ]
    },
    {
     "name": "stdout",
     "output_type": "stream",
     "text": [
      "Model-1 | PSNR(dB): 25.619| SSIM: 0.865\n",
      "Epoch 55 cw: 1.0\n",
      " Psnr1: 25.355 Ssim1: 0.859 loss-1: 1.7 c_loss-1: 13.131 sup_loss-1: 0.183 l_nll_loss-1: 0.693 ul_nll_loss-1: 0.693\n"
     ]
    },
    {
     "name": "stderr",
     "output_type": "stream",
     "text": [
      " 50%|███████▉        | 311/624 [03:57<04:02,  1.29it/s, epoch=56, B_PSNR-1=27.3]"
     ]
    },
    {
     "name": "stdout",
     "output_type": "stream",
     "text": [
      "Adjusting learning rate of group 0 to 8.7157e-04.\n"
     ]
    },
    {
     "name": "stderr",
     "output_type": "stream",
     "text": [
      "\r",
      " 50%|████████        | 312/624 [04:11<26:06,  5.02s/it, epoch=56, B_PSNR-1=27.3]"
     ]
    },
    {
     "name": "stdout",
     "output_type": "stream",
     "text": [
      "Model-1 | PSNR(dB): 26.841| SSIM: 0.877\n"
     ]
    },
    {
     "name": "stderr",
     "output_type": "stream",
     "text": [
      "100%|███████████████▉| 623/624 [08:09<00:00,  1.34it/s, epoch=56, B_PSNR-1=27.3]"
     ]
    },
    {
     "name": "stdout",
     "output_type": "stream",
     "text": [
      "Adjusting learning rate of group 0 to 9.0451e-04.\n"
     ]
    },
    {
     "name": "stderr",
     "output_type": "stream",
     "text": [
      "100%|████████████████| 624/624 [08:23<00:00,  1.24it/s, epoch=56, B_PSNR-1=27.3]\n"
     ]
    },
    {
     "name": "stdout",
     "output_type": "stream",
     "text": [
      "Model-1 | PSNR(dB): 26.495| SSIM: 0.874\n",
      "Epoch 00057: reducing learning rate of group 0 to 1.8014e-05.\n",
      "Epoch 56 cw: 1.0\n",
      " Psnr1: 25.699 Ssim1: 0.869 loss-1: 1.718 c_loss-1: 15.891 sup_loss-1: 0.172 l_nll_loss-1: 0.693 ul_nll_loss-1: 0.693\n"
     ]
    },
    {
     "name": "stderr",
     "output_type": "stream",
     "text": [
      " 50%|███████▉        | 311/624 [03:54<03:52,  1.35it/s, epoch=57, B_PSNR-1=27.3]"
     ]
    },
    {
     "name": "stdout",
     "output_type": "stream",
     "text": [
      "Adjusting learning rate of group 0 to 9.3301e-04.\n"
     ]
    },
    {
     "name": "stderr",
     "output_type": "stream",
     "text": [
      "\r",
      " 50%|████████        | 312/624 [04:08<26:04,  5.01s/it, epoch=57, B_PSNR-1=27.3]"
     ]
    },
    {
     "name": "stdout",
     "output_type": "stream",
     "text": [
      "Model-1 | PSNR(dB): 27.281| SSIM: 0.901\n"
     ]
    },
    {
     "name": "stderr",
     "output_type": "stream",
     "text": [
      "100%|███████████████▉| 623/624 [08:06<00:00,  1.28it/s, epoch=57, B_PSNR-1=27.3]"
     ]
    },
    {
     "name": "stdout",
     "output_type": "stream",
     "text": [
      "Adjusting learning rate of group 0 to 9.5677e-04.\n"
     ]
    },
    {
     "name": "stderr",
     "output_type": "stream",
     "text": [
      "100%|████████████████| 624/624 [08:21<00:00,  1.24it/s, epoch=57, B_PSNR-1=27.3]\n"
     ]
    },
    {
     "name": "stdout",
     "output_type": "stream",
     "text": [
      "Model-1 | PSNR(dB): 26.794| SSIM: 0.885\n",
      "Epoch 57 cw: 1.0\n",
      " Psnr1: 26.627 Ssim1: 0.891 loss-1: 1.865 c_loss-1: 33.341 sup_loss-1: 0.146 l_nll_loss-1: 0.693 ul_nll_loss-1: 0.693\n"
     ]
    },
    {
     "name": "stderr",
     "output_type": "stream",
     "text": [
      " 50%|███████▉        | 311/624 [03:54<03:56,  1.33it/s, epoch=58, B_PSNR-1=27.3]"
     ]
    },
    {
     "name": "stdout",
     "output_type": "stream",
     "text": [
      "Adjusting learning rate of group 0 to 9.7553e-04.\n"
     ]
    },
    {
     "name": "stderr",
     "output_type": "stream",
     "text": [
      "\r",
      " 50%|████████        | 312/624 [04:09<26:43,  5.14s/it, epoch=58, B_PSNR-1=27.3]"
     ]
    },
    {
     "name": "stdout",
     "output_type": "stream",
     "text": [
      "Model-1 | PSNR(dB): 27.217| SSIM: 0.894\n"
     ]
    },
    {
     "name": "stderr",
     "output_type": "stream",
     "text": [
      "100%|███████████████▉| 623/624 [08:03<00:00,  1.32it/s, epoch=58, B_PSNR-1=27.3]"
     ]
    },
    {
     "name": "stdout",
     "output_type": "stream",
     "text": [
      "Adjusting learning rate of group 0 to 9.8907e-04.\n"
     ]
    },
    {
     "name": "stderr",
     "output_type": "stream",
     "text": [
      "100%|████████████████| 624/624 [08:18<00:00,  1.25it/s, epoch=58, B_PSNR-1=27.3]\n"
     ]
    },
    {
     "name": "stdout",
     "output_type": "stream",
     "text": [
      "Model-1 | PSNR(dB): 27.152| SSIM: 0.893\n",
      "Epoch 58 cw: 1.0\n",
      " Psnr1: 26.306 Ssim1: 0.883 loss-1: 1.822 c_loss-1: 28.166 sup_loss-1: 0.154 l_nll_loss-1: 0.693 ul_nll_loss-1: 0.693\n"
     ]
    },
    {
     "name": "stderr",
     "output_type": "stream",
     "text": [
      " 50%|███████▉        | 311/624 [03:59<03:52,  1.35it/s, epoch=59, B_PSNR-1=27.3]"
     ]
    },
    {
     "name": "stdout",
     "output_type": "stream",
     "text": [
      "Adjusting learning rate of group 0 to 9.9726e-04.\n",
      "Model-1 | PSNR(dB): 27.512| SSIM: 0.899\n"
     ]
    },
    {
     "name": "stderr",
     "output_type": "stream",
     "text": [
      "100%|███████████████▉| 623/624 [08:09<00:00,  1.33it/s, epoch=59, B_PSNR-1=27.5]"
     ]
    },
    {
     "name": "stdout",
     "output_type": "stream",
     "text": [
      "Adjusting learning rate of group 0 to 1.0000e-03.\n"
     ]
    },
    {
     "name": "stderr",
     "output_type": "stream",
     "text": [
      "100%|████████████████| 624/624 [08:23<00:00,  1.24it/s, epoch=59, B_PSNR-1=27.5]\n"
     ]
    },
    {
     "name": "stdout",
     "output_type": "stream",
     "text": [
      "Model-1 | PSNR(dB): 27.039| SSIM: 0.892\n",
      "Epoch 00060: reducing learning rate of group 0 to 1.4412e-05.\n",
      "Epoch 59 cw: 1.0\n",
      " Psnr1: 26.342 Ssim1: 0.886 loss-1: 1.844 c_loss-1: 30.728 sup_loss-1: 0.151 l_nll_loss-1: 0.693 ul_nll_loss-1: 0.693\n"
     ]
    },
    {
     "name": "stderr",
     "output_type": "stream",
     "text": [
      " 50%|███████▉        | 311/624 [03:56<03:56,  1.33it/s, epoch=60, B_PSNR-1=27.5]"
     ]
    },
    {
     "name": "stdout",
     "output_type": "stream",
     "text": [
      "Adjusting learning rate of group 0 to 9.9726e-04.\n"
     ]
    },
    {
     "name": "stderr",
     "output_type": "stream",
     "text": [
      "\r",
      " 50%|████████        | 312/624 [04:10<26:30,  5.10s/it, epoch=60, B_PSNR-1=27.5]"
     ]
    },
    {
     "name": "stdout",
     "output_type": "stream",
     "text": [
      "Model-1 | PSNR(dB): 26.103| SSIM: 0.877\n"
     ]
    },
    {
     "name": "stderr",
     "output_type": "stream",
     "text": [
      "100%|███████████████▉| 623/624 [08:09<00:00,  1.33it/s, epoch=60, B_PSNR-1=27.5]"
     ]
    },
    {
     "name": "stdout",
     "output_type": "stream",
     "text": [
      "Adjusting learning rate of group 0 to 9.8907e-04.\n"
     ]
    },
    {
     "name": "stderr",
     "output_type": "stream",
     "text": [
      "100%|████████████████| 624/624 [08:24<00:00,  1.24it/s, epoch=60, B_PSNR-1=27.5]\n"
     ]
    },
    {
     "name": "stdout",
     "output_type": "stream",
     "text": [
      "Model-1 | PSNR(dB): 23.331| SSIM: 0.805\n",
      "Epoch 60 cw: 1.0\n",
      " Psnr1: 26.444 Ssim1: 0.883 loss-1: 1.744 c_loss-1: 20.408 sup_loss-1: 0.153 l_nll_loss-1: 0.693 ul_nll_loss-1: 0.693\n"
     ]
    },
    {
     "name": "stderr",
     "output_type": "stream",
     "text": [
      " 50%|███████▉        | 311/624 [03:57<03:57,  1.32it/s, epoch=61, B_PSNR-1=27.5]"
     ]
    },
    {
     "name": "stdout",
     "output_type": "stream",
     "text": [
      "Adjusting learning rate of group 0 to 9.7553e-04.\n"
     ]
    },
    {
     "name": "stderr",
     "output_type": "stream",
     "text": [
      "\r",
      " 50%|████████        | 312/624 [04:12<26:16,  5.05s/it, epoch=61, B_PSNR-1=27.5]"
     ]
    },
    {
     "name": "stdout",
     "output_type": "stream",
     "text": [
      "Model-1 | PSNR(dB): 25.109| SSIM: 0.864\n"
     ]
    },
    {
     "name": "stderr",
     "output_type": "stream",
     "text": [
      "100%|███████████████▉| 623/624 [08:08<00:00,  1.33it/s, epoch=61, B_PSNR-1=27.5]"
     ]
    },
    {
     "name": "stdout",
     "output_type": "stream",
     "text": [
      "Adjusting learning rate of group 0 to 9.5677e-04.\n"
     ]
    },
    {
     "name": "stderr",
     "output_type": "stream",
     "text": [
      "100%|████████████████| 624/624 [08:22<00:00,  1.24it/s, epoch=61, B_PSNR-1=27.5]\n"
     ]
    },
    {
     "name": "stdout",
     "output_type": "stream",
     "text": [
      "Model-1 | PSNR(dB): 26.188| SSIM: 0.878\n",
      "Epoch 61 cw: 1.0\n",
      " Psnr1: 25.079 Ssim1: 0.852 loss-1: 1.73 c_loss-1: 15.217 sup_loss-1: 0.191 l_nll_loss-1: 0.693 ul_nll_loss-1: 0.693\n"
     ]
    },
    {
     "name": "stderr",
     "output_type": "stream",
     "text": [
      " 50%|███████▉        | 311/624 [03:59<03:53,  1.34it/s, epoch=62, B_PSNR-1=27.5]"
     ]
    },
    {
     "name": "stdout",
     "output_type": "stream",
     "text": [
      "Adjusting learning rate of group 0 to 9.3301e-04.\n"
     ]
    },
    {
     "name": "stderr",
     "output_type": "stream",
     "text": [
      "\r",
      " 50%|████████        | 312/624 [04:13<26:09,  5.03s/it, epoch=62, B_PSNR-1=27.5]"
     ]
    },
    {
     "name": "stdout",
     "output_type": "stream",
     "text": [
      "Model-1 | PSNR(dB): 27.504| SSIM: 0.904\n"
     ]
    },
    {
     "name": "stderr",
     "output_type": "stream",
     "text": [
      "100%|███████████████▉| 623/624 [08:13<00:00,  1.28it/s, epoch=62, B_PSNR-1=27.5]"
     ]
    },
    {
     "name": "stdout",
     "output_type": "stream",
     "text": [
      "Adjusting learning rate of group 0 to 9.0451e-04.\n",
      "Model-1 | PSNR(dB): 27.848| SSIM: 0.905\n"
     ]
    },
    {
     "name": "stderr",
     "output_type": "stream",
     "text": [
      "100%|████████████████| 624/624 [08:29<00:00,  1.22it/s, epoch=62, B_PSNR-1=27.5]\n"
     ]
    },
    {
     "name": "stdout",
     "output_type": "stream",
     "text": [
      "Epoch 00063: reducing learning rate of group 0 to 1.1529e-05.\n",
      "Epoch 62 cw: 1.0\n",
      " Psnr1: 26.584 Ssim1: 0.894 loss-1: 1.765 c_loss-1: 23.671 sup_loss-1: 0.142 l_nll_loss-1: 0.693 ul_nll_loss-1: 0.693\n"
     ]
    },
    {
     "name": "stderr",
     "output_type": "stream",
     "text": [
      " 50%|███████▉        | 311/624 [03:57<03:54,  1.34it/s, epoch=63, B_PSNR-1=27.8]"
     ]
    },
    {
     "name": "stdout",
     "output_type": "stream",
     "text": [
      "Adjusting learning rate of group 0 to 8.7157e-04.\n"
     ]
    },
    {
     "name": "stderr",
     "output_type": "stream",
     "text": [
      "\r",
      " 50%|████████        | 312/624 [04:12<26:24,  5.08s/it, epoch=63, B_PSNR-1=27.8]"
     ]
    },
    {
     "name": "stdout",
     "output_type": "stream",
     "text": [
      "Model-1 | PSNR(dB): 27.158| SSIM: 0.9\n"
     ]
    },
    {
     "name": "stderr",
     "output_type": "stream",
     "text": [
      "100%|███████████████▉| 623/624 [08:09<00:00,  1.33it/s, epoch=63, B_PSNR-1=27.8]"
     ]
    },
    {
     "name": "stdout",
     "output_type": "stream",
     "text": [
      "Adjusting learning rate of group 0 to 8.3457e-04.\n"
     ]
    },
    {
     "name": "stderr",
     "output_type": "stream",
     "text": [
      "100%|████████████████| 624/624 [08:24<00:00,  1.24it/s, epoch=63, B_PSNR-1=27.8]\n"
     ]
    },
    {
     "name": "stdout",
     "output_type": "stream",
     "text": [
      "Model-1 | PSNR(dB): 27.473| SSIM: 0.906\n",
      "Epoch 63 cw: 1.0\n",
      " Psnr1: 26.579 Ssim1: 0.885 loss-1: 1.715 c_loss-1: 17.732 sup_loss-1: 0.151 l_nll_loss-1: 0.693 ul_nll_loss-1: 0.693\n"
     ]
    },
    {
     "name": "stderr",
     "output_type": "stream",
     "text": [
      " 50%|███████▉        | 311/624 [03:52<03:48,  1.37it/s, epoch=64, B_PSNR-1=27.8]"
     ]
    },
    {
     "name": "stdout",
     "output_type": "stream",
     "text": [
      "Adjusting learning rate of group 0 to 7.9389e-04.\n"
     ]
    },
    {
     "name": "stderr",
     "output_type": "stream",
     "text": [
      "\r",
      " 50%|████████        | 312/624 [04:06<25:20,  4.87s/it, epoch=64, B_PSNR-1=27.8]"
     ]
    },
    {
     "name": "stdout",
     "output_type": "stream",
     "text": [
      "Model-1 | PSNR(dB): 27.787| SSIM: 0.909\n"
     ]
    },
    {
     "name": "stderr",
     "output_type": "stream",
     "text": [
      "100%|███████████████▉| 623/624 [07:58<00:00,  1.34it/s, epoch=64, B_PSNR-1=27.8]"
     ]
    },
    {
     "name": "stdout",
     "output_type": "stream",
     "text": [
      "Adjusting learning rate of group 0 to 7.5000e-04.\n",
      "Model-1 | PSNR(dB): 27.902| SSIM: 0.909\n"
     ]
    },
    {
     "name": "stderr",
     "output_type": "stream",
     "text": [
      "100%|████████████████| 624/624 [08:14<00:00,  1.26it/s, epoch=64, B_PSNR-1=27.8]\n"
     ]
    },
    {
     "name": "stdout",
     "output_type": "stream",
     "text": [
      "Epoch 64 cw: 1.0\n",
      " Psnr1: 26.974 Ssim1: 0.898 loss-1: 1.681 c_loss-1: 15.791 sup_loss-1: 0.137 l_nll_loss-1: 0.693 ul_nll_loss-1: 0.693\n"
     ]
    },
    {
     "name": "stderr",
     "output_type": "stream",
     "text": [
      " 50%|███████▉        | 311/624 [03:57<04:02,  1.29it/s, epoch=65, B_PSNR-1=27.9]"
     ]
    },
    {
     "name": "stdout",
     "output_type": "stream",
     "text": [
      "Adjusting learning rate of group 0 to 7.0337e-04.\n",
      "Model-1 | PSNR(dB): 28.141| SSIM: 0.913\n"
     ]
    },
    {
     "name": "stderr",
     "output_type": "stream",
     "text": [
      "100%|███████████████▉| 623/624 [08:11<00:00,  1.31it/s, epoch=65, B_PSNR-1=28.1]"
     ]
    },
    {
     "name": "stdout",
     "output_type": "stream",
     "text": [
      "Adjusting learning rate of group 0 to 6.5451e-04.\n"
     ]
    },
    {
     "name": "stderr",
     "output_type": "stream",
     "text": [
      "100%|████████████████| 624/624 [08:26<00:00,  1.23it/s, epoch=65, B_PSNR-1=28.1]\n"
     ]
    },
    {
     "name": "stdout",
     "output_type": "stream",
     "text": [
      "Model-1 | PSNR(dB): 27.869| SSIM: 0.911\n",
      "Epoch 00066: reducing learning rate of group 0 to 9.2234e-06.\n",
      "Epoch 65 cw: 1.0\n",
      " Psnr1: 26.969 Ssim1: 0.899 loss-1: 1.688 c_loss-1: 16.593 sup_loss-1: 0.136 l_nll_loss-1: 0.693 ul_nll_loss-1: 0.693\n"
     ]
    },
    {
     "name": "stderr",
     "output_type": "stream",
     "text": [
      " 50%|███████▉        | 311/624 [03:58<03:58,  1.31it/s, epoch=66, B_PSNR-1=28.1]"
     ]
    },
    {
     "name": "stdout",
     "output_type": "stream",
     "text": [
      "Adjusting learning rate of group 0 to 6.0396e-04.\n"
     ]
    },
    {
     "name": "stderr",
     "output_type": "stream",
     "text": [
      "\r",
      " 50%|████████        | 312/624 [04:12<26:15,  5.05s/it, epoch=66, B_PSNR-1=28.1]"
     ]
    },
    {
     "name": "stdout",
     "output_type": "stream",
     "text": [
      "Model-1 | PSNR(dB): 27.288| SSIM: 0.903\n"
     ]
    },
    {
     "name": "stderr",
     "output_type": "stream",
     "text": [
      "100%|███████████████▉| 623/624 [08:11<00:00,  1.30it/s, epoch=66, B_PSNR-1=28.1]"
     ]
    },
    {
     "name": "stdout",
     "output_type": "stream",
     "text": [
      "Adjusting learning rate of group 0 to 5.5226e-04.\n"
     ]
    },
    {
     "name": "stderr",
     "output_type": "stream",
     "text": [
      "100%|████████████████| 624/624 [08:26<00:00,  1.23it/s, epoch=66, B_PSNR-1=28.1]\n"
     ]
    },
    {
     "name": "stdout",
     "output_type": "stream",
     "text": [
      "Model-1 | PSNR(dB): 27.859| SSIM: 0.906\n",
      "Epoch 66 cw: 1.0\n",
      " Psnr1: 26.955 Ssim1: 0.886 loss-1: 1.69 c_loss-1: 15.494 sup_loss-1: 0.148 l_nll_loss-1: 0.693 ul_nll_loss-1: 0.693\n"
     ]
    },
    {
     "name": "stderr",
     "output_type": "stream",
     "text": [
      " 50%|███████▉        | 311/624 [03:58<03:59,  1.31it/s, epoch=67, B_PSNR-1=28.1]"
     ]
    },
    {
     "name": "stdout",
     "output_type": "stream",
     "text": [
      "Adjusting learning rate of group 0 to 5.0000e-04.\n"
     ]
    },
    {
     "name": "stderr",
     "output_type": "stream",
     "text": [
      "\r",
      " 50%|████████        | 312/624 [04:13<26:25,  5.08s/it, epoch=67, B_PSNR-1=28.1]"
     ]
    },
    {
     "name": "stdout",
     "output_type": "stream",
     "text": [
      "Model-1 | PSNR(dB): 27.783| SSIM: 0.901\n"
     ]
    },
    {
     "name": "stderr",
     "output_type": "stream",
     "text": [
      "100%|███████████████▉| 623/624 [08:12<00:00,  1.30it/s, epoch=67, B_PSNR-1=28.1]"
     ]
    },
    {
     "name": "stdout",
     "output_type": "stream",
     "text": [
      "Adjusting learning rate of group 0 to 4.4774e-04.\n",
      "Model-1 | PSNR(dB): 28.199| SSIM: 0.913\n"
     ]
    },
    {
     "name": "stderr",
     "output_type": "stream",
     "text": [
      "100%|████████████████| 624/624 [08:29<00:00,  1.23it/s, epoch=67, B_PSNR-1=28.1]\n"
     ]
    },
    {
     "name": "stdout",
     "output_type": "stream",
     "text": [
      "Epoch 67 cw: 1.0\n",
      " Psnr1: 27.257 Ssim1: 0.898 loss-1: 1.665 c_loss-1: 14.253 sup_loss-1: 0.136 l_nll_loss-1: 0.693 ul_nll_loss-1: 0.693\n"
     ]
    },
    {
     "name": "stderr",
     "output_type": "stream",
     "text": [
      " 50%|███████▉        | 311/624 [04:00<04:02,  1.29it/s, epoch=68, B_PSNR-1=28.2]"
     ]
    },
    {
     "name": "stdout",
     "output_type": "stream",
     "text": [
      "Adjusting learning rate of group 0 to 3.9604e-04.\n"
     ]
    },
    {
     "name": "stderr",
     "output_type": "stream",
     "text": [
      "\r",
      " 50%|████████        | 312/624 [04:15<26:49,  5.16s/it, epoch=68, B_PSNR-1=28.2]"
     ]
    },
    {
     "name": "stdout",
     "output_type": "stream",
     "text": [
      "Model-1 | PSNR(dB): 27.886| SSIM: 0.91\n"
     ]
    },
    {
     "name": "stderr",
     "output_type": "stream",
     "text": [
      "100%|███████████████▉| 623/624 [08:12<00:00,  1.33it/s, epoch=68, B_PSNR-1=28.2]"
     ]
    },
    {
     "name": "stdout",
     "output_type": "stream",
     "text": [
      "Adjusting learning rate of group 0 to 3.4549e-04.\n"
     ]
    },
    {
     "name": "stderr",
     "output_type": "stream",
     "text": [
      "100%|████████████████| 624/624 [08:26<00:00,  1.23it/s, epoch=68, B_PSNR-1=28.2]\n"
     ]
    },
    {
     "name": "stdout",
     "output_type": "stream",
     "text": [
      "Model-1 | PSNR(dB): 27.83| SSIM: 0.909\n",
      "Epoch 00069: reducing learning rate of group 0 to 7.3787e-06.\n",
      "Epoch 68 cw: 1.0\n",
      " Psnr1: 27.435 Ssim1: 0.902 loss-1: 1.654 c_loss-1: 13.694 sup_loss-1: 0.131 l_nll_loss-1: 0.693 ul_nll_loss-1: 0.693\n"
     ]
    },
    {
     "name": "stderr",
     "output_type": "stream",
     "text": [
      " 50%|███████▉        | 311/624 [03:56<03:58,  1.31it/s, epoch=69, B_PSNR-1=28.2]"
     ]
    },
    {
     "name": "stdout",
     "output_type": "stream",
     "text": [
      "Adjusting learning rate of group 0 to 2.9663e-04.\n"
     ]
    },
    {
     "name": "stderr",
     "output_type": "stream",
     "text": [
      "\r",
      " 50%|████████        | 312/624 [04:11<27:28,  5.28s/it, epoch=69, B_PSNR-1=28.2]"
     ]
    },
    {
     "name": "stdout",
     "output_type": "stream",
     "text": [
      "Model-1 | PSNR(dB): 28.082| SSIM: 0.91\n"
     ]
    },
    {
     "name": "stderr",
     "output_type": "stream",
     "text": [
      "100%|███████████████▉| 623/624 [08:09<00:00,  1.33it/s, epoch=69, B_PSNR-1=28.2]"
     ]
    },
    {
     "name": "stdout",
     "output_type": "stream",
     "text": [
      "Adjusting learning rate of group 0 to 2.5000e-04.\n",
      "Model-1 | PSNR(dB): 28.67| SSIM: 0.918\n"
     ]
    },
    {
     "name": "stderr",
     "output_type": "stream",
     "text": [
      "100%|████████████████| 624/624 [08:25<00:00,  1.24it/s, epoch=69, B_PSNR-1=28.2]\n"
     ]
    },
    {
     "name": "stdout",
     "output_type": "stream",
     "text": [
      "Epoch 69 cw: 1.0\n",
      " Psnr1: 27.317 Ssim1: 0.906 loss-1: 1.628 c_loss-1: 11.448 sup_loss-1: 0.128 l_nll_loss-1: 0.693 ul_nll_loss-1: 0.693\n"
     ]
    },
    {
     "name": "stderr",
     "output_type": "stream",
     "text": [
      " 50%|███████▉        | 311/624 [03:54<04:03,  1.28it/s, epoch=70, B_PSNR-1=28.7]"
     ]
    },
    {
     "name": "stdout",
     "output_type": "stream",
     "text": [
      "Adjusting learning rate of group 0 to 2.0611e-04.\n"
     ]
    },
    {
     "name": "stderr",
     "output_type": "stream",
     "text": [
      "\r",
      " 50%|████████        | 312/624 [04:09<26:46,  5.15s/it, epoch=70, B_PSNR-1=28.7]"
     ]
    },
    {
     "name": "stdout",
     "output_type": "stream",
     "text": [
      "Model-1 | PSNR(dB): 28.225| SSIM: 0.912\n"
     ]
    },
    {
     "name": "stderr",
     "output_type": "stream",
     "text": [
      "100%|███████████████▉| 623/624 [08:04<00:00,  1.35it/s, epoch=70, B_PSNR-1=28.7]"
     ]
    },
    {
     "name": "stdout",
     "output_type": "stream",
     "text": [
      "Adjusting learning rate of group 0 to 1.6543e-04.\n"
     ]
    },
    {
     "name": "stderr",
     "output_type": "stream",
     "text": [
      "100%|████████████████| 624/624 [08:19<00:00,  1.25it/s, epoch=70, B_PSNR-1=28.7]\n"
     ]
    },
    {
     "name": "stdout",
     "output_type": "stream",
     "text": [
      "Model-1 | PSNR(dB): 28.583| SSIM: 0.92\n",
      "Epoch 70 cw: 1.0\n",
      " Psnr1: 27.64 Ssim1: 0.903 loss-1: 1.617 c_loss-1: 10.037 sup_loss-1: 0.13 l_nll_loss-1: 0.693 ul_nll_loss-1: 0.693\n"
     ]
    },
    {
     "name": "stderr",
     "output_type": "stream",
     "text": [
      " 50%|███████▉        | 311/624 [03:55<03:56,  1.32it/s, epoch=71, B_PSNR-1=28.7]"
     ]
    },
    {
     "name": "stdout",
     "output_type": "stream",
     "text": [
      "Adjusting learning rate of group 0 to 1.2843e-04.\n"
     ]
    },
    {
     "name": "stderr",
     "output_type": "stream",
     "text": [
      "\r",
      " 50%|████████        | 312/624 [04:09<26:07,  5.02s/it, epoch=71, B_PSNR-1=28.7]"
     ]
    },
    {
     "name": "stdout",
     "output_type": "stream",
     "text": [
      "Model-1 | PSNR(dB): 28.613| SSIM: 0.918\n"
     ]
    },
    {
     "name": "stderr",
     "output_type": "stream",
     "text": [
      "100%|███████████████▉| 623/624 [08:05<00:00,  1.34it/s, epoch=71, B_PSNR-1=28.7]"
     ]
    },
    {
     "name": "stdout",
     "output_type": "stream",
     "text": [
      "Adjusting learning rate of group 0 to 9.5492e-05.\n"
     ]
    },
    {
     "name": "stderr",
     "output_type": "stream",
     "text": [
      "100%|████████████████| 624/624 [08:19<00:00,  1.25it/s, epoch=71, B_PSNR-1=28.7]\n"
     ]
    },
    {
     "name": "stdout",
     "output_type": "stream",
     "text": [
      "Model-1 | PSNR(dB): 28.492| SSIM: 0.92\n",
      "Epoch 00072: reducing learning rate of group 0 to 5.9030e-06.\n",
      "Epoch 71 cw: 1.0\n",
      " Psnr1: 27.929 Ssim1: 0.914 loss-1: 1.604 c_loss-1: 9.931 sup_loss-1: 0.118 l_nll_loss-1: 0.693 ul_nll_loss-1: 0.693\n"
     ]
    },
    {
     "name": "stderr",
     "output_type": "stream",
     "text": [
      " 50%|███████▉        | 311/624 [03:54<03:57,  1.32it/s, epoch=72, B_PSNR-1=28.7]"
     ]
    },
    {
     "name": "stdout",
     "output_type": "stream",
     "text": [
      "Adjusting learning rate of group 0 to 6.6987e-05.\n"
     ]
    },
    {
     "name": "stderr",
     "output_type": "stream",
     "text": [
      "\r",
      " 50%|████████        | 312/624 [04:08<25:47,  4.96s/it, epoch=72, B_PSNR-1=28.7]"
     ]
    },
    {
     "name": "stdout",
     "output_type": "stream",
     "text": [
      "Model-1 | PSNR(dB): 28.183| SSIM: 0.912\n"
     ]
    },
    {
     "name": "stderr",
     "output_type": "stream",
     "text": [
      "100%|███████████████▉| 623/624 [08:08<00:00,  1.32it/s, epoch=72, B_PSNR-1=28.7]"
     ]
    },
    {
     "name": "stdout",
     "output_type": "stream",
     "text": [
      "Adjusting learning rate of group 0 to 4.3227e-05.\n"
     ]
    },
    {
     "name": "stderr",
     "output_type": "stream",
     "text": [
      "100%|████████████████| 624/624 [08:23<00:00,  1.24it/s, epoch=72, B_PSNR-1=28.7]\n"
     ]
    },
    {
     "name": "stdout",
     "output_type": "stream",
     "text": [
      "Model-1 | PSNR(dB): 28.435| SSIM: 0.913\n",
      "Epoch 72 cw: 1.0\n",
      " Psnr1: 27.675 Ssim1: 0.908 loss-1: 1.592 c_loss-1: 8.137 sup_loss-1: 0.125 l_nll_loss-1: 0.693 ul_nll_loss-1: 0.693\n"
     ]
    },
    {
     "name": "stderr",
     "output_type": "stream",
     "text": [
      " 50%|███████▉        | 311/624 [03:57<04:03,  1.29it/s, epoch=73, B_PSNR-1=28.7]"
     ]
    },
    {
     "name": "stdout",
     "output_type": "stream",
     "text": [
      "Adjusting learning rate of group 0 to 2.4472e-05.\n"
     ]
    },
    {
     "name": "stderr",
     "output_type": "stream",
     "text": [
      "\r",
      " 50%|████████        | 312/624 [04:11<25:57,  4.99s/it, epoch=73, B_PSNR-1=28.7]"
     ]
    },
    {
     "name": "stdout",
     "output_type": "stream",
     "text": [
      "Model-1 | PSNR(dB): 28.241| SSIM: 0.914\n"
     ]
    },
    {
     "name": "stderr",
     "output_type": "stream",
     "text": [
      "100%|███████████████▉| 623/624 [08:08<00:00,  1.28it/s, epoch=73, B_PSNR-1=28.7]"
     ]
    },
    {
     "name": "stdout",
     "output_type": "stream",
     "text": [
      "Adjusting learning rate of group 0 to 1.0926e-05.\n"
     ]
    },
    {
     "name": "stderr",
     "output_type": "stream",
     "text": [
      "100%|████████████████| 624/624 [08:23<00:00,  1.24it/s, epoch=73, B_PSNR-1=28.7]\n"
     ]
    },
    {
     "name": "stdout",
     "output_type": "stream",
     "text": [
      "Model-1 | PSNR(dB): 28.338| SSIM: 0.916\n",
      "Epoch 73 cw: 1.0\n",
      " Psnr1: 28.064 Ssim1: 0.916 loss-1: 1.598 c_loss-1: 9.644 sup_loss-1: 0.115 l_nll_loss-1: 0.693 ul_nll_loss-1: 0.693\n"
     ]
    },
    {
     "name": "stderr",
     "output_type": "stream",
     "text": [
      " 50%|███████▉        | 311/624 [04:00<03:53,  1.34it/s, epoch=74, B_PSNR-1=28.7]"
     ]
    },
    {
     "name": "stdout",
     "output_type": "stream",
     "text": [
      "Adjusting learning rate of group 0 to 2.7391e-06.\n",
      "Model-1 | PSNR(dB): 28.72| SSIM: 0.92\n"
     ]
    },
    {
     "name": "stderr",
     "output_type": "stream",
     "text": [
      "100%|███████████████▉| 623/624 [08:15<00:00,  1.30it/s, epoch=74, B_PSNR-1=28.7]"
     ]
    },
    {
     "name": "stdout",
     "output_type": "stream",
     "text": [
      "Adjusting learning rate of group 0 to 0.0000e+00.\n",
      "Model-1 | PSNR(dB): 29.101| SSIM: 0.922\n"
     ]
    },
    {
     "name": "stderr",
     "output_type": "stream",
     "text": [
      "100%|████████████████| 624/624 [08:31<00:00,  1.22it/s, epoch=74, B_PSNR-1=28.7]\n"
     ]
    },
    {
     "name": "stdout",
     "output_type": "stream",
     "text": [
      "Epoch 00075: reducing learning rate of group 0 to 4.7224e-06.\n",
      "Epoch 74 cw: 1.0\n",
      " Psnr1: 28.021 Ssim1: 0.915 loss-1: 1.604 c_loss-1: 10.134 sup_loss-1: 0.116 l_nll_loss-1: 0.693 ul_nll_loss-1: 0.693\n"
     ]
    },
    {
     "name": "stderr",
     "output_type": "stream",
     "text": [
      " 50%|███████▉        | 311/624 [03:58<04:01,  1.30it/s, epoch=75, B_PSNR-1=29.1]"
     ]
    },
    {
     "name": "stdout",
     "output_type": "stream",
     "text": [
      "Adjusting learning rate of group 0 to 2.7391e-06.\n"
     ]
    },
    {
     "name": "stderr",
     "output_type": "stream",
     "text": [
      "\r",
      " 50%|████████        | 312/624 [04:12<26:35,  5.11s/it, epoch=75, B_PSNR-1=29.1]"
     ]
    },
    {
     "name": "stdout",
     "output_type": "stream",
     "text": [
      "Model-1 | PSNR(dB): 28.6| SSIM: 0.917\n"
     ]
    },
    {
     "name": "stderr",
     "output_type": "stream",
     "text": [
      "100%|███████████████▉| 623/624 [08:11<00:00,  1.34it/s, epoch=75, B_PSNR-1=29.1]"
     ]
    },
    {
     "name": "stdout",
     "output_type": "stream",
     "text": [
      "Adjusting learning rate of group 0 to 1.0926e-05.\n"
     ]
    },
    {
     "name": "stderr",
     "output_type": "stream",
     "text": [
      "100%|████████████████| 624/624 [08:25<00:00,  1.23it/s, epoch=75, B_PSNR-1=29.1]\n"
     ]
    },
    {
     "name": "stdout",
     "output_type": "stream",
     "text": [
      "Model-1 | PSNR(dB): 28.323| SSIM: 0.915\n",
      "Epoch 75 cw: 1.0\n",
      " Psnr1: 28.088 Ssim1: 0.917 loss-1: 1.608 c_loss-1: 10.778 sup_loss-1: 0.114 l_nll_loss-1: 0.693 ul_nll_loss-1: 0.693\n"
     ]
    },
    {
     "name": "stderr",
     "output_type": "stream",
     "text": [
      " 50%|███████▉        | 311/624 [03:58<03:58,  1.31it/s, epoch=76, B_PSNR-1=29.1]"
     ]
    },
    {
     "name": "stdout",
     "output_type": "stream",
     "text": [
      "Adjusting learning rate of group 0 to 2.4472e-05.\n"
     ]
    },
    {
     "name": "stderr",
     "output_type": "stream",
     "text": [
      "\r",
      " 50%|████████        | 312/624 [04:12<26:11,  5.04s/it, epoch=76, B_PSNR-1=29.1]"
     ]
    },
    {
     "name": "stdout",
     "output_type": "stream",
     "text": [
      "Model-1 | PSNR(dB): 28.465| SSIM: 0.917\n"
     ]
    },
    {
     "name": "stderr",
     "output_type": "stream",
     "text": [
      "100%|███████████████▉| 623/624 [08:09<00:00,  1.33it/s, epoch=76, B_PSNR-1=29.1]"
     ]
    },
    {
     "name": "stdout",
     "output_type": "stream",
     "text": [
      "Adjusting learning rate of group 0 to 4.3227e-05.\n"
     ]
    },
    {
     "name": "stderr",
     "output_type": "stream",
     "text": [
      "100%|████████████████| 624/624 [08:24<00:00,  1.24it/s, epoch=76, B_PSNR-1=29.1]\n"
     ]
    },
    {
     "name": "stdout",
     "output_type": "stream",
     "text": [
      "Model-1 | PSNR(dB): 28.215| SSIM: 0.908\n",
      "Epoch 76 cw: 1.0\n",
      " Psnr1: 28.15 Ssim1: 0.915 loss-1: 1.6 c_loss-1: 9.755 sup_loss-1: 0.116 l_nll_loss-1: 0.693 ul_nll_loss-1: 0.693\n"
     ]
    },
    {
     "name": "stderr",
     "output_type": "stream",
     "text": [
      " 50%|███████▉        | 311/624 [03:57<03:55,  1.33it/s, epoch=77, B_PSNR-1=29.1]"
     ]
    },
    {
     "name": "stdout",
     "output_type": "stream",
     "text": [
      "Adjusting learning rate of group 0 to 6.6987e-05.\n"
     ]
    },
    {
     "name": "stderr",
     "output_type": "stream",
     "text": [
      "\r",
      " 50%|████████        | 312/624 [04:11<25:36,  4.92s/it, epoch=77, B_PSNR-1=29.1]"
     ]
    },
    {
     "name": "stdout",
     "output_type": "stream",
     "text": [
      "Model-1 | PSNR(dB): 28.218| SSIM: 0.907\n"
     ]
    },
    {
     "name": "stderr",
     "output_type": "stream",
     "text": [
      "100%|███████████████▉| 623/624 [08:05<00:00,  1.31it/s, epoch=77, B_PSNR-1=29.1]"
     ]
    },
    {
     "name": "stdout",
     "output_type": "stream",
     "text": [
      "Adjusting learning rate of group 0 to 9.5492e-05.\n"
     ]
    },
    {
     "name": "stderr",
     "output_type": "stream",
     "text": [
      "100%|████████████████| 624/624 [08:19<00:00,  1.25it/s, epoch=77, B_PSNR-1=29.1]\n"
     ]
    },
    {
     "name": "stdout",
     "output_type": "stream",
     "text": [
      "Model-1 | PSNR(dB): 27.878| SSIM: 0.901\n",
      "Epoch 00078: reducing learning rate of group 0 to 3.7779e-06.\n",
      "Epoch 77 cw: 1.0\n",
      " Psnr1: 27.922 Ssim1: 0.912 loss-1: 1.602 c_loss-1: 9.518 sup_loss-1: 0.12 l_nll_loss-1: 0.693 ul_nll_loss-1: 0.693\n"
     ]
    },
    {
     "name": "stderr",
     "output_type": "stream",
     "text": [
      " 50%|███████▉        | 311/624 [03:58<04:05,  1.28it/s, epoch=78, B_PSNR-1=29.1]"
     ]
    },
    {
     "name": "stdout",
     "output_type": "stream",
     "text": [
      "Adjusting learning rate of group 0 to 1.2843e-04.\n"
     ]
    },
    {
     "name": "stderr",
     "output_type": "stream",
     "text": [
      "\r",
      " 50%|████████        | 312/624 [04:12<26:27,  5.09s/it, epoch=78, B_PSNR-1=29.1]"
     ]
    },
    {
     "name": "stdout",
     "output_type": "stream",
     "text": [
      "Model-1 | PSNR(dB): 28.246| SSIM: 0.914\n"
     ]
    },
    {
     "name": "stderr",
     "output_type": "stream",
     "text": [
      "100%|███████████████▉| 623/624 [08:07<00:00,  1.35it/s, epoch=78, B_PSNR-1=29.1]"
     ]
    },
    {
     "name": "stdout",
     "output_type": "stream",
     "text": [
      "Adjusting learning rate of group 0 to 1.6543e-04.\n"
     ]
    },
    {
     "name": "stderr",
     "output_type": "stream",
     "text": [
      "100%|████████████████| 624/624 [08:21<00:00,  1.24it/s, epoch=78, B_PSNR-1=29.1]\n"
     ]
    },
    {
     "name": "stdout",
     "output_type": "stream",
     "text": [
      "Model-1 | PSNR(dB): 28.798| SSIM: 0.919\n",
      "Epoch 78 cw: 1.0\n",
      " Psnr1: 27.921 Ssim1: 0.911 loss-1: 1.601 c_loss-1: 9.38 sup_loss-1: 0.121 l_nll_loss-1: 0.693 ul_nll_loss-1: 0.693\n"
     ]
    },
    {
     "name": "stderr",
     "output_type": "stream",
     "text": [
      " 50%|███████▉        | 311/624 [03:56<03:54,  1.34it/s, epoch=79, B_PSNR-1=29.1]"
     ]
    },
    {
     "name": "stdout",
     "output_type": "stream",
     "text": [
      "Adjusting learning rate of group 0 to 2.0611e-04.\n"
     ]
    },
    {
     "name": "stderr",
     "output_type": "stream",
     "text": [
      "\r",
      " 50%|████████        | 312/624 [04:10<25:24,  4.89s/it, epoch=79, B_PSNR-1=29.1]"
     ]
    },
    {
     "name": "stdout",
     "output_type": "stream",
     "text": [
      "Model-1 | PSNR(dB): 28.268| SSIM: 0.915\n"
     ]
    },
    {
     "name": "stderr",
     "output_type": "stream",
     "text": [
      "100%|███████████████▉| 623/624 [08:04<00:00,  1.31it/s, epoch=79, B_PSNR-1=29.1]"
     ]
    },
    {
     "name": "stdout",
     "output_type": "stream",
     "text": [
      "Adjusting learning rate of group 0 to 2.5000e-04.\n"
     ]
    },
    {
     "name": "stderr",
     "output_type": "stream",
     "text": [
      "100%|████████████████| 624/624 [08:18<00:00,  1.25it/s, epoch=79, B_PSNR-1=29.1]\n"
     ]
    },
    {
     "name": "stdout",
     "output_type": "stream",
     "text": [
      "Model-1 | PSNR(dB): 28.025| SSIM: 0.909\n",
      "Epoch 79 cw: 1.0\n",
      " Psnr1: 27.717 Ssim1: 0.909 loss-1: 1.602 c_loss-1: 9.29 sup_loss-1: 0.122 l_nll_loss-1: 0.693 ul_nll_loss-1: 0.693\n"
     ]
    },
    {
     "name": "stderr",
     "output_type": "stream",
     "text": [
      " 50%|███████▉        | 311/624 [03:56<03:54,  1.34it/s, epoch=80, B_PSNR-1=29.1]"
     ]
    },
    {
     "name": "stdout",
     "output_type": "stream",
     "text": [
      "Adjusting learning rate of group 0 to 2.9663e-04.\n"
     ]
    },
    {
     "name": "stderr",
     "output_type": "stream",
     "text": [
      "\r",
      " 50%|████████        | 312/624 [04:11<26:31,  5.10s/it, epoch=80, B_PSNR-1=29.1]"
     ]
    },
    {
     "name": "stdout",
     "output_type": "stream",
     "text": [
      "Model-1 | PSNR(dB): 28.329| SSIM: 0.91\n"
     ]
    },
    {
     "name": "stderr",
     "output_type": "stream",
     "text": [
      "100%|███████████████▉| 623/624 [08:09<00:00,  1.31it/s, epoch=80, B_PSNR-1=29.1]"
     ]
    },
    {
     "name": "stdout",
     "output_type": "stream",
     "text": [
      "Adjusting learning rate of group 0 to 3.4549e-04.\n"
     ]
    },
    {
     "name": "stderr",
     "output_type": "stream",
     "text": [
      "100%|████████████████| 624/624 [08:23<00:00,  1.24it/s, epoch=80, B_PSNR-1=29.1]\n"
     ]
    },
    {
     "name": "stdout",
     "output_type": "stream",
     "text": [
      "Model-1 | PSNR(dB): 28.277| SSIM: 0.916\n",
      "Epoch 00081: reducing learning rate of group 0 to 3.0223e-06.\n",
      "Epoch 80 cw: 1.0\n",
      " Psnr1: 27.779 Ssim1: 0.91 loss-1: 1.606 c_loss-1: 9.79 sup_loss-1: 0.122 l_nll_loss-1: 0.693 ul_nll_loss-1: 0.693\n"
     ]
    },
    {
     "name": "stderr",
     "output_type": "stream",
     "text": [
      " 50%|███████▉        | 311/624 [03:55<03:59,  1.31it/s, epoch=81, B_PSNR-1=29.1]"
     ]
    },
    {
     "name": "stdout",
     "output_type": "stream",
     "text": [
      "Adjusting learning rate of group 0 to 3.9604e-04.\n"
     ]
    },
    {
     "name": "stderr",
     "output_type": "stream",
     "text": [
      "\r",
      " 50%|████████        | 312/624 [04:10<26:56,  5.18s/it, epoch=81, B_PSNR-1=29.1]"
     ]
    },
    {
     "name": "stdout",
     "output_type": "stream",
     "text": [
      "Model-1 | PSNR(dB): 28.442| SSIM: 0.92\n"
     ]
    },
    {
     "name": "stderr",
     "output_type": "stream",
     "text": [
      "100%|███████████████▉| 623/624 [08:10<00:00,  1.28it/s, epoch=81, B_PSNR-1=29.1]"
     ]
    },
    {
     "name": "stdout",
     "output_type": "stream",
     "text": [
      "Adjusting learning rate of group 0 to 4.4774e-04.\n"
     ]
    },
    {
     "name": "stderr",
     "output_type": "stream",
     "text": [
      "100%|████████████████| 624/624 [08:25<00:00,  1.23it/s, epoch=81, B_PSNR-1=29.1]\n"
     ]
    },
    {
     "name": "stdout",
     "output_type": "stream",
     "text": [
      "Model-1 | PSNR(dB): 27.658| SSIM: 0.896\n",
      "Epoch 81 cw: 1.0\n",
      " Psnr1: 27.729 Ssim1: 0.907 loss-1: 1.616 c_loss-1: 10.53 sup_loss-1: 0.125 l_nll_loss-1: 0.693 ul_nll_loss-1: 0.693\n"
     ]
    },
    {
     "name": "stderr",
     "output_type": "stream",
     "text": [
      " 50%|███████▉        | 311/624 [03:55<03:51,  1.35it/s, epoch=82, B_PSNR-1=29.1]"
     ]
    },
    {
     "name": "stdout",
     "output_type": "stream",
     "text": [
      "Adjusting learning rate of group 0 to 5.0000e-04.\n"
     ]
    },
    {
     "name": "stderr",
     "output_type": "stream",
     "text": [
      "\r",
      " 50%|████████        | 312/624 [04:09<26:04,  5.02s/it, epoch=82, B_PSNR-1=29.1]"
     ]
    },
    {
     "name": "stdout",
     "output_type": "stream",
     "text": [
      "Model-1 | PSNR(dB): 28.235| SSIM: 0.916\n"
     ]
    },
    {
     "name": "stderr",
     "output_type": "stream",
     "text": [
      "100%|███████████████▉| 623/624 [08:06<00:00,  1.30it/s, epoch=82, B_PSNR-1=29.1]"
     ]
    },
    {
     "name": "stdout",
     "output_type": "stream",
     "text": [
      "Adjusting learning rate of group 0 to 5.5226e-04.\n"
     ]
    },
    {
     "name": "stderr",
     "output_type": "stream",
     "text": [
      "100%|████████████████| 624/624 [08:20<00:00,  1.25it/s, epoch=82, B_PSNR-1=29.1]\n"
     ]
    },
    {
     "name": "stdout",
     "output_type": "stream",
     "text": [
      "Model-1 | PSNR(dB): 26.442| SSIM: 0.849\n",
      "Epoch 82 cw: 1.0\n",
      " Psnr1: 27.471 Ssim1: 0.901 loss-1: 1.613 c_loss-1: 9.438 sup_loss-1: 0.132 l_nll_loss-1: 0.693 ul_nll_loss-1: 0.693\n"
     ]
    },
    {
     "name": "stderr",
     "output_type": "stream",
     "text": [
      " 50%|███████▉        | 311/624 [03:58<03:57,  1.32it/s, epoch=83, B_PSNR-1=29.1]"
     ]
    },
    {
     "name": "stdout",
     "output_type": "stream",
     "text": [
      "Adjusting learning rate of group 0 to 6.0396e-04.\n"
     ]
    },
    {
     "name": "stderr",
     "output_type": "stream",
     "text": [
      "\r",
      " 50%|████████        | 312/624 [04:11<25:24,  4.89s/it, epoch=83, B_PSNR-1=29.1]"
     ]
    },
    {
     "name": "stdout",
     "output_type": "stream",
     "text": [
      "Model-1 | PSNR(dB): 28.017| SSIM: 0.914\n"
     ]
    },
    {
     "name": "stderr",
     "output_type": "stream",
     "text": [
      "100%|███████████████▉| 623/624 [08:06<00:00,  1.29it/s, epoch=83, B_PSNR-1=29.1]"
     ]
    },
    {
     "name": "stdout",
     "output_type": "stream",
     "text": [
      "Adjusting learning rate of group 0 to 6.5451e-04.\n"
     ]
    },
    {
     "name": "stderr",
     "output_type": "stream",
     "text": [
      "100%|████████████████| 624/624 [08:21<00:00,  1.24it/s, epoch=83, B_PSNR-1=29.1]\n"
     ]
    },
    {
     "name": "stdout",
     "output_type": "stream",
     "text": [
      "Model-1 | PSNR(dB): 28.594| SSIM: 0.918\n",
      "Epoch 00084: reducing learning rate of group 0 to 2.4179e-06.\n",
      "Epoch 83 cw: 1.0\n",
      " Psnr1: 27.504 Ssim1: 0.901 loss-1: 1.617 c_loss-1: 9.758 sup_loss-1: 0.133 l_nll_loss-1: 0.693 ul_nll_loss-1: 0.693\n"
     ]
    },
    {
     "name": "stderr",
     "output_type": "stream",
     "text": [
      " 50%|███████▉        | 311/624 [03:56<03:51,  1.35it/s, epoch=84, B_PSNR-1=29.1]"
     ]
    },
    {
     "name": "stdout",
     "output_type": "stream",
     "text": [
      "Adjusting learning rate of group 0 to 7.0337e-04.\n"
     ]
    },
    {
     "name": "stderr",
     "output_type": "stream",
     "text": [
      "\r",
      " 50%|████████        | 312/624 [04:10<26:01,  5.01s/it, epoch=84, B_PSNR-1=29.1]"
     ]
    },
    {
     "name": "stdout",
     "output_type": "stream",
     "text": [
      "Model-1 | PSNR(dB): 27.9| SSIM: 0.902\n"
     ]
    },
    {
     "name": "stderr",
     "output_type": "stream",
     "text": [
      "100%|███████████████▉| 623/624 [08:09<00:00,  1.32it/s, epoch=84, B_PSNR-1=29.1]"
     ]
    },
    {
     "name": "stdout",
     "output_type": "stream",
     "text": [
      "Adjusting learning rate of group 0 to 7.5000e-04.\n"
     ]
    },
    {
     "name": "stderr",
     "output_type": "stream",
     "text": [
      "100%|████████████████| 624/624 [08:24<00:00,  1.24it/s, epoch=84, B_PSNR-1=29.1]\n"
     ]
    },
    {
     "name": "stdout",
     "output_type": "stream",
     "text": [
      "Model-1 | PSNR(dB): 26.466| SSIM: 0.864\n",
      "Epoch 84 cw: 1.0\n",
      " Psnr1: 26.538 Ssim1: 0.861 loss-1: 1.661 c_loss-1: 9.733 sup_loss-1: 0.177 l_nll_loss-1: 0.693 ul_nll_loss-1: 0.693\n"
     ]
    },
    {
     "name": "stderr",
     "output_type": "stream",
     "text": [
      " 50%|███████▉        | 311/624 [04:00<04:06,  1.27it/s, epoch=85, B_PSNR-1=29.1]"
     ]
    },
    {
     "name": "stdout",
     "output_type": "stream",
     "text": [
      "Adjusting learning rate of group 0 to 7.9389e-04.\n"
     ]
    },
    {
     "name": "stderr",
     "output_type": "stream",
     "text": [
      "\r",
      " 50%|████████        | 312/624 [04:14<26:50,  5.16s/it, epoch=85, B_PSNR-1=29.1]"
     ]
    },
    {
     "name": "stdout",
     "output_type": "stream",
     "text": [
      "Model-1 | PSNR(dB): 28.659| SSIM: 0.917\n"
     ]
    },
    {
     "name": "stderr",
     "output_type": "stream",
     "text": [
      "100%|███████████████▉| 623/624 [08:15<00:00,  1.31it/s, epoch=85, B_PSNR-1=29.1]"
     ]
    },
    {
     "name": "stdout",
     "output_type": "stream",
     "text": [
      "Adjusting learning rate of group 0 to 8.3457e-04.\n"
     ]
    },
    {
     "name": "stderr",
     "output_type": "stream",
     "text": [
      "100%|████████████████| 624/624 [08:29<00:00,  1.22it/s, epoch=85, B_PSNR-1=29.1]\n"
     ]
    },
    {
     "name": "stdout",
     "output_type": "stream",
     "text": [
      "Model-1 | PSNR(dB): 27.211| SSIM: 0.89\n",
      "Epoch 85 cw: 1.0\n",
      " Psnr1: 26.909 Ssim1: 0.882 loss-1: 1.639 c_loss-1: 9.899 sup_loss-1: 0.153 l_nll_loss-1: 0.693 ul_nll_loss-1: 0.693\n"
     ]
    },
    {
     "name": "stderr",
     "output_type": "stream",
     "text": [
      " 50%|███████▉        | 311/624 [03:57<03:53,  1.34it/s, epoch=86, B_PSNR-1=29.1]"
     ]
    },
    {
     "name": "stdout",
     "output_type": "stream",
     "text": [
      "Adjusting learning rate of group 0 to 8.7157e-04.\n"
     ]
    },
    {
     "name": "stderr",
     "output_type": "stream",
     "text": [
      "\r",
      " 50%|████████        | 312/624 [04:11<25:41,  4.94s/it, epoch=86, B_PSNR-1=29.1]"
     ]
    },
    {
     "name": "stdout",
     "output_type": "stream",
     "text": [
      "Model-1 | PSNR(dB): 28.036| SSIM: 0.912\n"
     ]
    },
    {
     "name": "stderr",
     "output_type": "stream",
     "text": [
      "100%|███████████████▉| 623/624 [08:09<00:00,  1.31it/s, epoch=86, B_PSNR-1=29.1]"
     ]
    },
    {
     "name": "stdout",
     "output_type": "stream",
     "text": [
      "Adjusting learning rate of group 0 to 9.0451e-04.\n"
     ]
    },
    {
     "name": "stderr",
     "output_type": "stream",
     "text": [
      "100%|████████████████| 624/624 [08:24<00:00,  1.24it/s, epoch=86, B_PSNR-1=29.1]\n"
     ]
    },
    {
     "name": "stdout",
     "output_type": "stream",
     "text": [
      "Model-1 | PSNR(dB): 28.044| SSIM: 0.905\n",
      "Epoch 00087: reducing learning rate of group 0 to 1.9343e-06.\n",
      "Epoch 86 cw: 1.0\n",
      " Psnr1: 27.388 Ssim1: 0.903 loss-1: 1.639 c_loss-1: 12.196 sup_loss-1: 0.13 l_nll_loss-1: 0.693 ul_nll_loss-1: 0.693\n"
     ]
    },
    {
     "name": "stderr",
     "output_type": "stream",
     "text": [
      " 50%|███████▉        | 311/624 [04:00<04:00,  1.30it/s, epoch=87, B_PSNR-1=29.1]"
     ]
    },
    {
     "name": "stdout",
     "output_type": "stream",
     "text": [
      "Adjusting learning rate of group 0 to 9.3301e-04.\n"
     ]
    },
    {
     "name": "stderr",
     "output_type": "stream",
     "text": [
      "\r",
      " 50%|████████        | 312/624 [04:14<26:10,  5.03s/it, epoch=87, B_PSNR-1=29.1]"
     ]
    },
    {
     "name": "stdout",
     "output_type": "stream",
     "text": [
      "Model-1 | PSNR(dB): 20.552| SSIM: 0.61\n"
     ]
    },
    {
     "name": "stderr",
     "output_type": "stream",
     "text": [
      "100%|███████████████▉| 623/624 [08:14<00:00,  1.29it/s, epoch=87, B_PSNR-1=29.1]"
     ]
    },
    {
     "name": "stdout",
     "output_type": "stream",
     "text": [
      "Adjusting learning rate of group 0 to 9.5677e-04.\n"
     ]
    },
    {
     "name": "stderr",
     "output_type": "stream",
     "text": [
      "100%|████████████████| 624/624 [08:29<00:00,  1.22it/s, epoch=87, B_PSNR-1=29.1]\n"
     ]
    },
    {
     "name": "stdout",
     "output_type": "stream",
     "text": [
      "Model-1 | PSNR(dB): 21.341| SSIM: 0.648\n",
      "Epoch 87 cw: 1.0\n",
      " Psnr1: 20.924 Ssim1: 0.63 loss-1: 1.904 c_loss-1: 8.024 sup_loss-1: 0.437 l_nll_loss-1: 0.693 ul_nll_loss-1: 0.693\n"
     ]
    },
    {
     "name": "stderr",
     "output_type": "stream",
     "text": [
      " 50%|███████▉        | 311/624 [03:58<03:52,  1.34it/s, epoch=88, B_PSNR-1=29.1]"
     ]
    },
    {
     "name": "stdout",
     "output_type": "stream",
     "text": [
      "Adjusting learning rate of group 0 to 9.7553e-04.\n"
     ]
    },
    {
     "name": "stderr",
     "output_type": "stream",
     "text": [
      "\r",
      " 50%|████████        | 312/624 [04:13<26:32,  5.11s/it, epoch=88, B_PSNR-1=29.1]"
     ]
    },
    {
     "name": "stdout",
     "output_type": "stream",
     "text": [
      "Model-1 | PSNR(dB): 25.547| SSIM: 0.85\n"
     ]
    },
    {
     "name": "stderr",
     "output_type": "stream",
     "text": [
      "100%|███████████████▉| 623/624 [08:07<00:00,  1.32it/s, epoch=88, B_PSNR-1=29.1]"
     ]
    },
    {
     "name": "stdout",
     "output_type": "stream",
     "text": [
      "Adjusting learning rate of group 0 to 9.8907e-04.\n"
     ]
    },
    {
     "name": "stderr",
     "output_type": "stream",
     "text": [
      "100%|████████████████| 624/624 [08:22<00:00,  1.24it/s, epoch=88, B_PSNR-1=29.1]\n"
     ]
    },
    {
     "name": "stdout",
     "output_type": "stream",
     "text": [
      "Model-1 | PSNR(dB): 27.081| SSIM: 0.898\n",
      "Epoch 88 cw: 1.0\n",
      " Psnr1: 23.289 Ssim1: 0.758 loss-1: 1.763 c_loss-1: 8.034 sup_loss-1: 0.296 l_nll_loss-1: 0.693 ul_nll_loss-1: 0.693\n"
     ]
    },
    {
     "name": "stderr",
     "output_type": "stream",
     "text": [
      " 50%|███████▉        | 311/624 [03:55<03:53,  1.34it/s, epoch=89, B_PSNR-1=29.1]"
     ]
    },
    {
     "name": "stdout",
     "output_type": "stream",
     "text": [
      "Adjusting learning rate of group 0 to 9.9726e-04.\n"
     ]
    },
    {
     "name": "stderr",
     "output_type": "stream",
     "text": [
      "\r",
      " 50%|████████        | 312/624 [04:09<25:44,  4.95s/it, epoch=89, B_PSNR-1=29.1]"
     ]
    },
    {
     "name": "stdout",
     "output_type": "stream",
     "text": [
      "Model-1 | PSNR(dB): 27.962| SSIM: 0.909\n"
     ]
    },
    {
     "name": "stderr",
     "output_type": "stream",
     "text": [
      "100%|███████████████▉| 623/624 [08:09<00:00,  1.30it/s, epoch=89, B_PSNR-1=29.1]"
     ]
    },
    {
     "name": "stdout",
     "output_type": "stream",
     "text": [
      "Adjusting learning rate of group 0 to 1.0000e-03.\n"
     ]
    },
    {
     "name": "stderr",
     "output_type": "stream",
     "text": [
      "100%|████████████████| 624/624 [08:24<00:00,  1.24it/s, epoch=89, B_PSNR-1=29.1]\n"
     ]
    },
    {
     "name": "stdout",
     "output_type": "stream",
     "text": [
      "Model-1 | PSNR(dB): 27.761| SSIM: 0.912\n",
      "Epoch 00090: reducing learning rate of group 0 to 1.5474e-06.\n",
      "Epoch 89 cw: 1.0\n",
      " Psnr1: 26.369 Ssim1: 0.869 loss-1: 1.653 c_loss-1: 9.777 sup_loss-1: 0.169 l_nll_loss-1: 0.693 ul_nll_loss-1: 0.693\n"
     ]
    },
    {
     "name": "stderr",
     "output_type": "stream",
     "text": [
      " 50%|███████▉        | 311/624 [03:58<04:02,  1.29it/s, epoch=90, B_PSNR-1=29.1]"
     ]
    },
    {
     "name": "stdout",
     "output_type": "stream",
     "text": [
      "Adjusting learning rate of group 0 to 9.9726e-04.\n"
     ]
    },
    {
     "name": "stderr",
     "output_type": "stream",
     "text": [
      "\r",
      " 50%|████████        | 312/624 [04:12<26:08,  5.03s/it, epoch=90, B_PSNR-1=29.1]"
     ]
    },
    {
     "name": "stdout",
     "output_type": "stream",
     "text": [
      "Model-1 | PSNR(dB): 28.1| SSIM: 0.912\n"
     ]
    },
    {
     "name": "stderr",
     "output_type": "stream",
     "text": [
      "100%|███████████████▉| 623/624 [08:09<00:00,  1.33it/s, epoch=90, B_PSNR-1=29.1]"
     ]
    },
    {
     "name": "stdout",
     "output_type": "stream",
     "text": [
      "Adjusting learning rate of group 0 to 9.8907e-04.\n"
     ]
    },
    {
     "name": "stderr",
     "output_type": "stream",
     "text": [
      "100%|████████████████| 624/624 [08:23<00:00,  1.24it/s, epoch=90, B_PSNR-1=29.1]\n"
     ]
    },
    {
     "name": "stdout",
     "output_type": "stream",
     "text": [
      "Model-1 | PSNR(dB): 27.975| SSIM: 0.909\n",
      "Epoch 90 cw: 1.0\n",
      " Psnr1: 26.359 Ssim1: 0.872 loss-1: 1.681 c_loss-1: 12.866 sup_loss-1: 0.166 l_nll_loss-1: 0.693 ul_nll_loss-1: 0.693\n"
     ]
    },
    {
     "name": "stderr",
     "output_type": "stream",
     "text": [
      " 50%|███████▉        | 311/624 [03:56<03:59,  1.31it/s, epoch=91, B_PSNR-1=29.1]"
     ]
    },
    {
     "name": "stdout",
     "output_type": "stream",
     "text": [
      "Adjusting learning rate of group 0 to 9.7553e-04.\n"
     ]
    },
    {
     "name": "stderr",
     "output_type": "stream",
     "text": [
      "\r",
      " 50%|████████        | 312/624 [04:11<26:55,  5.18s/it, epoch=91, B_PSNR-1=29.1]"
     ]
    },
    {
     "name": "stdout",
     "output_type": "stream",
     "text": [
      "Model-1 | PSNR(dB): 28.875| SSIM: 0.916\n"
     ]
    },
    {
     "name": "stderr",
     "output_type": "stream",
     "text": [
      "100%|███████████████▉| 623/624 [08:05<00:00,  1.35it/s, epoch=91, B_PSNR-1=29.1]"
     ]
    },
    {
     "name": "stdout",
     "output_type": "stream",
     "text": [
      "Adjusting learning rate of group 0 to 9.5677e-04.\n"
     ]
    },
    {
     "name": "stderr",
     "output_type": "stream",
     "text": [
      "100%|████████████████| 624/624 [08:20<00:00,  1.25it/s, epoch=91, B_PSNR-1=29.1]\n"
     ]
    },
    {
     "name": "stdout",
     "output_type": "stream",
     "text": [
      "Model-1 | PSNR(dB): 21.0| SSIM: 0.632\n",
      "Epoch 91 cw: 1.0\n",
      " Psnr1: 26.189 Ssim1: 0.852 loss-1: 1.657 c_loss-1: 8.382 sup_loss-1: 0.187 l_nll_loss-1: 0.693 ul_nll_loss-1: 0.693\n"
     ]
    },
    {
     "name": "stderr",
     "output_type": "stream",
     "text": [
      " 50%|███████▉        | 311/624 [03:59<03:57,  1.32it/s, epoch=92, B_PSNR-1=29.1]"
     ]
    },
    {
     "name": "stdout",
     "output_type": "stream",
     "text": [
      "Adjusting learning rate of group 0 to 9.3301e-04.\n"
     ]
    },
    {
     "name": "stderr",
     "output_type": "stream",
     "text": [
      "\r",
      " 50%|████████        | 312/624 [04:14<26:29,  5.10s/it, epoch=92, B_PSNR-1=29.1]"
     ]
    },
    {
     "name": "stdout",
     "output_type": "stream",
     "text": [
      "Model-1 | PSNR(dB): 27.866| SSIM: 0.906\n"
     ]
    },
    {
     "name": "stderr",
     "output_type": "stream",
     "text": [
      "100%|███████████████▉| 623/624 [08:13<00:00,  1.28it/s, epoch=92, B_PSNR-1=29.1]"
     ]
    },
    {
     "name": "stdout",
     "output_type": "stream",
     "text": [
      "Adjusting learning rate of group 0 to 9.0451e-04.\n"
     ]
    },
    {
     "name": "stderr",
     "output_type": "stream",
     "text": [
      "100%|████████████████| 624/624 [08:27<00:00,  1.23it/s, epoch=92, B_PSNR-1=29.1]\n"
     ]
    },
    {
     "name": "stdout",
     "output_type": "stream",
     "text": [
      "Model-1 | PSNR(dB): 27.442| SSIM: 0.892\n",
      "Epoch 00093: reducing learning rate of group 0 to 1.2379e-06.\n",
      "Epoch 92 cw: 1.0\n",
      " Psnr1: 24.997 Ssim1: 0.81 loss-1: 1.696 c_loss-1: 7.289 sup_loss-1: 0.236 l_nll_loss-1: 0.693 ul_nll_loss-1: 0.693\n"
     ]
    },
    {
     "name": "stderr",
     "output_type": "stream",
     "text": [
      " 50%|███████▉        | 311/624 [03:56<03:56,  1.32it/s, epoch=93, B_PSNR-1=29.1]"
     ]
    },
    {
     "name": "stdout",
     "output_type": "stream",
     "text": [
      "Adjusting learning rate of group 0 to 8.7157e-04.\n"
     ]
    },
    {
     "name": "stderr",
     "output_type": "stream",
     "text": [
      "\r",
      " 50%|████████        | 312/624 [04:11<26:10,  5.03s/it, epoch=93, B_PSNR-1=29.1]"
     ]
    },
    {
     "name": "stdout",
     "output_type": "stream",
     "text": [
      "Model-1 | PSNR(dB): 25.032| SSIM: 0.816\n"
     ]
    },
    {
     "name": "stderr",
     "output_type": "stream",
     "text": [
      "100%|███████████████▉| 623/624 [08:05<00:00,  1.32it/s, epoch=93, B_PSNR-1=29.1]"
     ]
    },
    {
     "name": "stdout",
     "output_type": "stream",
     "text": [
      "Adjusting learning rate of group 0 to 8.3457e-04.\n"
     ]
    },
    {
     "name": "stderr",
     "output_type": "stream",
     "text": [
      "100%|████████████████| 624/624 [08:19<00:00,  1.25it/s, epoch=93, B_PSNR-1=29.1]\n"
     ]
    },
    {
     "name": "stdout",
     "output_type": "stream",
     "text": [
      "Model-1 | PSNR(dB): 27.606| SSIM: 0.905\n",
      "Epoch 93 cw: 1.0\n",
      " Psnr1: 26.476 Ssim1: 0.879 loss-1: 1.614 c_loss-1: 6.929 sup_loss-1: 0.158 l_nll_loss-1: 0.693 ul_nll_loss-1: 0.693\n"
     ]
    },
    {
     "name": "stderr",
     "output_type": "stream",
     "text": [
      " 50%|███████▉        | 311/624 [03:56<04:02,  1.29it/s, epoch=94, B_PSNR-1=29.1]"
     ]
    },
    {
     "name": "stdout",
     "output_type": "stream",
     "text": [
      "Adjusting learning rate of group 0 to 7.9389e-04.\n"
     ]
    },
    {
     "name": "stderr",
     "output_type": "stream",
     "text": [
      "\r",
      " 50%|████████        | 312/624 [04:10<25:59,  5.00s/it, epoch=94, B_PSNR-1=29.1]"
     ]
    },
    {
     "name": "stdout",
     "output_type": "stream",
     "text": [
      "Model-1 | PSNR(dB): 28.874| SSIM: 0.921\n"
     ]
    },
    {
     "name": "stderr",
     "output_type": "stream",
     "text": [
      "100%|███████████████▉| 623/624 [08:07<00:00,  1.31it/s, epoch=94, B_PSNR-1=29.1]"
     ]
    },
    {
     "name": "stdout",
     "output_type": "stream",
     "text": [
      "Adjusting learning rate of group 0 to 7.5000e-04.\n"
     ]
    },
    {
     "name": "stderr",
     "output_type": "stream",
     "text": [
      "100%|████████████████| 624/624 [08:22<00:00,  1.24it/s, epoch=94, B_PSNR-1=29.1]\n"
     ]
    },
    {
     "name": "stdout",
     "output_type": "stream",
     "text": [
      "Model-1 | PSNR(dB): 27.19| SSIM: 0.879\n",
      "Epoch 94 cw: 1.0\n",
      " Psnr1: 27.461 Ssim1: 0.904 loss-1: 1.6 c_loss-1: 8.516 sup_loss-1: 0.129 l_nll_loss-1: 0.693 ul_nll_loss-1: 0.693\n"
     ]
    },
    {
     "name": "stderr",
     "output_type": "stream",
     "text": [
      " 50%|███████▉        | 311/624 [03:58<03:54,  1.33it/s, epoch=95, B_PSNR-1=29.1]"
     ]
    },
    {
     "name": "stdout",
     "output_type": "stream",
     "text": [
      "Adjusting learning rate of group 0 to 7.0337e-04.\n"
     ]
    },
    {
     "name": "stderr",
     "output_type": "stream",
     "text": [
      "\r",
      " 50%|████████        | 312/624 [04:12<26:44,  5.14s/it, epoch=95, B_PSNR-1=29.1]"
     ]
    },
    {
     "name": "stdout",
     "output_type": "stream",
     "text": [
      "Model-1 | PSNR(dB): 28.452| SSIM: 0.911\n"
     ]
    },
    {
     "name": "stderr",
     "output_type": "stream",
     "text": [
      "100%|███████████████▉| 623/624 [08:21<00:00,  1.13it/s, epoch=95, B_PSNR-1=29.1]"
     ]
    },
    {
     "name": "stdout",
     "output_type": "stream",
     "text": [
      "Adjusting learning rate of group 0 to 6.5451e-04.\n"
     ]
    },
    {
     "name": "stderr",
     "output_type": "stream",
     "text": [
      "100%|████████████████| 624/624 [08:36<00:00,  1.21it/s, epoch=95, B_PSNR-1=29.1]\n"
     ]
    },
    {
     "name": "stdout",
     "output_type": "stream",
     "text": [
      "Model-1 | PSNR(dB): 26.663| SSIM: 0.862\n",
      "Epoch 00096: reducing learning rate of group 0 to 9.9035e-07.\n",
      "Epoch 95 cw: 1.0\n",
      " Psnr1: 27.772 Ssim1: 0.901 loss-1: 1.591 c_loss-1: 7.33 sup_loss-1: 0.132 l_nll_loss-1: 0.693 ul_nll_loss-1: 0.693\n"
     ]
    },
    {
     "name": "stderr",
     "output_type": "stream",
     "text": [
      " 50%|███████▉        | 311/624 [04:24<04:13,  1.24it/s, epoch=96, B_PSNR-1=29.1]"
     ]
    },
    {
     "name": "stdout",
     "output_type": "stream",
     "text": [
      "Adjusting learning rate of group 0 to 6.0396e-04.\n"
     ]
    },
    {
     "name": "stderr",
     "output_type": "stream",
     "text": [
      "\r",
      " 50%|████████        | 312/624 [04:39<27:14,  5.24s/it, epoch=96, B_PSNR-1=29.1]"
     ]
    },
    {
     "name": "stdout",
     "output_type": "stream",
     "text": [
      "Model-1 | PSNR(dB): 24.668| SSIM: 0.781\n"
     ]
    },
    {
     "name": "stderr",
     "output_type": "stream",
     "text": [
      "100%|███████████████▉| 623/624 [08:55<00:00,  1.29it/s, epoch=96, B_PSNR-1=29.1]"
     ]
    },
    {
     "name": "stdout",
     "output_type": "stream",
     "text": [
      "Adjusting learning rate of group 0 to 5.5226e-04.\n"
     ]
    },
    {
     "name": "stderr",
     "output_type": "stream",
     "text": [
      "100%|████████████████| 624/624 [09:09<00:00,  1.14it/s, epoch=96, B_PSNR-1=29.1]\n"
     ]
    },
    {
     "name": "stdout",
     "output_type": "stream",
     "text": [
      "Model-1 | PSNR(dB): 28.969| SSIM: 0.915\n",
      "Epoch 96 cw: 1.0\n",
      " Psnr1: 27.519 Ssim1: 0.894 loss-1: 1.583 c_loss-1: 5.717 sup_loss-1: 0.14 l_nll_loss-1: 0.693 ul_nll_loss-1: 0.693\n"
     ]
    },
    {
     "name": "stderr",
     "output_type": "stream",
     "text": [
      " 50%|███████▉        | 311/624 [04:19<04:12,  1.24it/s, epoch=97, B_PSNR-1=29.1]"
     ]
    },
    {
     "name": "stdout",
     "output_type": "stream",
     "text": [
      "Adjusting learning rate of group 0 to 5.0000e-04.\n"
     ]
    },
    {
     "name": "stderr",
     "output_type": "stream",
     "text": [
      "\r",
      " 50%|████████        | 312/624 [04:33<26:43,  5.14s/it, epoch=97, B_PSNR-1=29.1]"
     ]
    },
    {
     "name": "stdout",
     "output_type": "stream",
     "text": [
      "Model-1 | PSNR(dB): 28.593| SSIM: 0.921\n"
     ]
    },
    {
     "name": "stderr",
     "output_type": "stream",
     "text": [
      " 57%|█████████       | 355/624 [05:08<03:53,  1.15it/s, epoch=97, B_PSNR-1=29.1]"
     ]
    }
   ],
   "source": [
    "global_step = 0\n",
    "best_psnr_score1 = 0\n",
    "best_closs1 = 100.0\n",
    "T = 0.3\n",
    "tt=0.05\n",
    "cw_rampup = 25\n",
    "mu=0.001\n",
    "ld=1.0\n",
    "for epoch in range(epochs):\n",
    "#     model1.train()\n",
    "#     model2.train()\n",
    "#     critic1.train()\n",
    "#     critic2.train()\n",
    "    cw = 1.0 * sigmoid_rampup(epoch, cw_rampup)\n",
    "    epoch_loss1 = 0\n",
    "    epoch_sup_loss1 = 0\n",
    "    epoch_l_nll = 0\n",
    "    epoch_ul_nll = 0\n",
    "    epoch_closs1 = 0\n",
    "    epoch_psnr1 = 0\n",
    "    epoch_psnr2 = 0\n",
    "    epoch_ssim1 = 0\n",
    "    epoch_ssim2 = 0\n",
    "    count = 0\n",
    "    pbar = tqdm(train_loader, dynamic_ncols=True)\n",
    "    for batch, (images, masks) in enumerate(pbar):\n",
    "        \n",
    "        lungs = masks[:L_BATCH_SIZE_TRAIN]\n",
    "    \n",
    "        lungs = lungs.unsqueeze(1).to(device).float()\n",
    "        l_image = images[:L_BATCH_SIZE_TRAIN].to(device).float()\n",
    "        ul_image = images[L_BATCH_SIZE_TRAIN:].to(device).float()\n",
    "#         print(l_image.shape)\n",
    "#         print(ul_image.shape)\n",
    "        \n",
    "#         critic1.zero_grad()\n",
    "#         ul_pred1, _ = model1(ul_image)\n",
    "        ul_pred1, _ = model1(images.to(device).float())\n",
    "#         print(ul_pred1[:][0].unsqueeze(1).shape)\n",
    "        ul_c1 = critic1(ul_pred1.detach()).view(-1)\n",
    "        ul_zero1 = torch.zeros_like(ul_c1).float()\n",
    "        ul_closs1 = bce(ul_c1, ul_zero1)\n",
    "        \n",
    "#         l_pred1, _ = model1(l_image)\n",
    "#         l_c1 = critic1(l_pred1.detach()).view(-1)\n",
    "        l_c1 = critic1(lungs).view(-1)\n",
    "        l_one1 = torch.ones_like(l_c1).float()\n",
    "        l_closs1 = bce(l_c1, l_one1)\n",
    "        \n",
    "        closs1 = 0.5*ul_closs1 + 0.5*l_closs1\n",
    "#         print(all_c1)\n",
    "#         print(all_zero1)\n",
    "#         print(l_c1)\n",
    "#         print(l_one1)\n",
    "        c_optimizer1.zero_grad()\n",
    "        closs1.backward()\n",
    "        c_optimizer1.step()\n",
    "#         print(c_loss1)\n",
    "        del ul_pred1, ul_zero1, ul_c1, ul_closs1, l_c1, l_one1, l_closs1\n",
    "\n",
    "#         critic2.zero_grad()\n",
    "#         l_pred2 = model1(l_image)\n",
    "#         l_c2 = critic2(l_pred2.detach()).view(-1)\n",
    "#         l_zero2 = torch.zeros_like(l_c2).float()\n",
    "#         l_closs2 = bce(l_c2, l_zero2)\n",
    "        \n",
    "#         r_c2 = critic2(lungs).view(-1)\n",
    "#         r_one2 = torch.ones_like(r_c2).float()\n",
    "#         r_closs2 = bce(r_c2, r_one2)\n",
    "        \n",
    "#         closs2 = 0.5*r_closs2 + 0.5*l_closs2\n",
    "        \n",
    "#         c_optimizer2.zero_grad()\n",
    "#         closs2.backward()\n",
    "#         c_optimizer2.step()\n",
    "# #         print(c_loss1)\n",
    "#         del l_pred2, l_zero2, l_c2, l_closs2, r_c2, r_one2, r_closs2\n",
    "        \n",
    "#         model1.zero_grad()\n",
    "        l_pred1, l_log = model1(l_image)\n",
    "        _, ul_log = model1(ul_image)\n",
    "        all_pred1, _ = model1(images.to(device).float())\n",
    "        \n",
    "        l_domain = torch.zeros(L_BATCH_SIZE_TRAIN)\n",
    "        l_domain = l_domain.to(device).long()\n",
    "        \n",
    "        ul_domain = torch.ones(BATCH_SIZE_TRAIN-L_BATCH_SIZE_TRAIN)\n",
    "        ul_domain = ul_domain.to(device).long()\n",
    "        \n",
    "        l_nll_loss = nll(l_log, l_domain)\n",
    "        ul_nll_loss = nll(ul_log, ul_domain)\n",
    "        \n",
    "        \n",
    "#             \n",
    "        sup_loss1 = (mae(l_pred1, lungs) + (1-ssim(l_pred1, lungs)))\n",
    "        \n",
    "        ul_c1 = critic1(all_pred1).view(-1)\n",
    "        ul_one1 = torch.ones_like(ul_c1).float()\n",
    "#         print(ul_one1)\n",
    "#         l_c2 = critic2(l_pred1)\n",
    "#         l_one2 = torch.ones_like(l_c2).float()\n",
    "        c_loss1 = bce(ul_c1, ul_one1)\n",
    "#         c_loss2 = bce(l_c2, l_one2)\n",
    "#         print(c_loss1)\n",
    " \n",
    "        loss1 = sup_loss1 + 0.01*(c_loss1) + l_nll_loss + ul_nll_loss\n",
    "        \n",
    "        optimizer1.zero_grad()\n",
    "        loss1.backward()\n",
    "        optimizer1.step()\n",
    "#         print(loss1)\n",
    "        del ul_c1,ul_one1\n",
    "        \n",
    "\n",
    "            \n",
    "        ssim1 = ssim(l_pred1, lungs)\n",
    "        psnr1 =  PSNR(lungs.cpu().detach().numpy(), l_pred1.cpu().detach().numpy())\n",
    "        \n",
    "        epoch_psnr1 += psnr1\n",
    "        epoch_ssim1 += ssim1.item()\n",
    "        epoch_loss1 += loss1.item()\n",
    "        epoch_sup_loss1 += sup_loss1.item()\n",
    "        epoch_closs1 += c_loss1.item()\n",
    "        epoch_l_nll += l_nll_loss.item()\n",
    "        epoch_ul_nll += ul_nll_loss.item()\n",
    "#         epoch_closs2 += closs2.item()\n",
    "        \n",
    "            \n",
    "        global_step +=1\n",
    "        count +=1\n",
    "        pbar.set_postfix({'epoch':epoch, 'B_PSNR-1': best_psnr_score1}) #'ssim1': ssim1.item(), 'loss-1': loss1.item(), 'closs-1': c_loss1.item(),\n",
    "        del ul_image, l_image, l_pred1, lungs, images, loss1, ssim1\n",
    "        gc.collect()\n",
    "        torch.cuda.empty_cache()\n",
    "#         print(global_step)\n",
    "        division_step = (624 // (2))\n",
    "        if division_step >0:\n",
    "            if global_step % division_step ==0:\n",
    "                if scheduler1 is not None:\n",
    "                    scheduler1.step()\n",
    "#                 if c_scheduler2 is not None:\n",
    "#                     c_scheduler2.step()\n",
    "                \n",
    "                psnr_score1, ssim_score1 = evaluate(model1, test_loader, device)\n",
    "                print('Model-1 | PSNR(dB): ' + str(round(psnr_score1,3)) + '| SSIM: ' + str(round(ssim_score1,3)))\n",
    "                \n",
    "#                 torch.save(critic2, 'model_weights/'+model_iter+'/rcritic2.ckpt')\n",
    "                if (psnr_score1 > best_psnr_score1):\n",
    "                    model1.psnr_score = psnr_score1\n",
    "                    torch.save(model1, 'model_weights/'+model_iter+'/model1.ckpt')\n",
    "                    torch.save(critic1, 'model_weights/'+model_iter+'/critic1.ckpt')\n",
    "#                     torch.save(critic2, 'model_weights/'+model_iter+'/critic2.ckpt')\n",
    "                    best_psnr_score1 = psnr_score1\n",
    "                    \n",
    "\n",
    "    temp_closs1 = round(((epoch_closs1)/count),3)\n",
    "    if c_scheduler1 is not None:\n",
    "        c_scheduler1.step(best_closs1)\n",
    "    if (best_closs1 > temp_closs1):\n",
    "        best_closs1 = temp_closs1\n",
    "        torch.save(model1, 'model_weights/'+model_iter+'/rmodel1.ckpt')\n",
    "        torch.save(critic1, 'model_weights/'+model_iter+'/rcritic1.ckpt')\n",
    "    torch.save(model1, 'model_weights/'+model_iter+'/r2model1.ckpt')\n",
    "    torch.save(critic1, 'model_weights/'+model_iter+'/r2critic1.ckpt')\n",
    "    print('Epoch '+str(epoch)+' cw: '+ str(cw))\n",
    "    print(' Psnr1: '+str(round(((epoch_psnr1)/count),3))+' Ssim1: '+str(round(((epoch_ssim1)/count),3))+' loss-1: '+str(round(((epoch_loss1)/count),3))+ ' c_loss-1: '+str(round(((epoch_closs1)/count),3))+ ' sup_loss-1: '+str(round(((epoch_sup_loss1)/count),3))+ ' l_nll_loss-1: '+str(round(((epoch_l_nll)/count),3))+ ' ul_nll_loss-1: '+str(round(((epoch_ul_nll)/count),3)))"
   ]
  },
  {
   "cell_type": "code",
   "execution_count": null,
   "metadata": {},
   "outputs": [],
   "source": [
    "len(image)"
   ]
  },
  {
   "cell_type": "code",
   "execution_count": null,
   "metadata": {},
   "outputs": [],
   "source": [
    "\n"
   ]
  },
  {
   "cell_type": "code",
   "execution_count": null,
   "metadata": {},
   "outputs": [],
   "source": []
  },
  {
   "cell_type": "code",
   "execution_count": null,
   "metadata": {},
   "outputs": [],
   "source": []
  }
 ],
 "metadata": {
  "kernelspec": {
   "display_name": "Python 3 (ipykernel)",
   "language": "python",
   "name": "python3"
  },
  "language_info": {
   "codemirror_mode": {
    "name": "ipython",
    "version": 3
   },
   "file_extension": ".py",
   "mimetype": "text/x-python",
   "name": "python",
   "nbconvert_exporter": "python",
   "pygments_lexer": "ipython3",
   "version": "3.9.13"
  }
 },
 "nbformat": 4,
 "nbformat_minor": 4
}
