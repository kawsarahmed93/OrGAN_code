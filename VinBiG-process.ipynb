{
 "cells": [
  {
   "cell_type": "code",
   "execution_count": 1,
   "id": "2cd2a87d",
   "metadata": {},
   "outputs": [],
   "source": [
    "import pydicom as di\n",
    "import numpy as np\n",
    "\n",
    "\n",
    "from scipy import ndimage\n",
    "\n",
    "import sys\n",
    "import glob"
   ]
  },
  {
   "cell_type": "code",
   "execution_count": 2,
   "id": "7182c676",
   "metadata": {},
   "outputs": [],
   "source": [
    "def resize_images(img,desired_width,desired_height,current_width,current_height): # img is 1024*1024\n",
    "    \n",
    "    width_index=current_width/desired_width\n",
    "    height_index=current_height/desired_height\n",
    "\n",
    "    width_factor=1/width_index\n",
    "    height_factor=1/height_index\n",
    "    \n",
    "    img=ndimage.zoom(img,(width_factor,height_factor),order=2)\n",
    "    \n",
    "    return img"
   ]
  },
  {
   "cell_type": "markdown",
   "id": "a8771904",
   "metadata": {},
   "source": [
    "# VINBIGDATA"
   ]
  },
  {
   "cell_type": "code",
   "execution_count": 3,
   "id": "ad94d7be",
   "metadata": {
    "scrolled": true
   },
   "outputs": [
    {
     "name": "stderr",
     "output_type": "stream",
     "text": [
      "/home/m-health/anaconda3/envs/pythonK/lib/python3.9/site-packages/pydicom/pixel_data_handlers/pillow_handler.py:176: UserWarning: The (0028,0101) 'Bits Stored' value (12-bit) doesn't match the JPEG 2000 data (16-bit). It's recommended that you change the 'Bits Stored' value\n",
      "  warnings.warn(\n"
     ]
    },
    {
     "name": "stdout",
     "output_type": "stream",
     "text": [
      "Saving: 1 - ./vinbigdata/train/0a0ac65c40a9ac441651e4bfbde03c4e.dicom\n",
      "Failed: 0\n",
      "Success: 1\n"
     ]
    }
   ],
   "source": [
    "X_mean = []\n",
    "X_std = []\n",
    "X_name = []\n",
    "X =[]\n",
    "VINBIGDATA_path = \"./vinbigdata/train/*.dicom\"\n",
    "i=0\n",
    "f=0\n",
    "for name in glob.glob(VINBIGDATA_path):\n",
    "    Xray = di.dcmread(name)\n",
    "    try:\n",
    "        Xray_img = Xray.pixel_array\n",
    "        if Xray.PhotometricInterpretation == 'MONOCHROME1':\n",
    "            Xray_img = np.amax(Xray_img) - Xray_img\n",
    "        Xray_img=resize_images(Xray_img,1024,1024,Xray_img.shape[0],Xray_img.shape[1])\n",
    "        Xray_img = Xray_img/Xray_img.max()\n",
    "\n",
    "        i = i+1\n",
    "        np.save('./vinbigdata/Xray/Xray_n_'+str(i),Xray_img)\n",
    "        print(\"Saving: {} - {}\".format(i,  name))\n",
    "    except:\n",
    "        f = f+1\n",
    "        \n",
    "print('Failed: '+str(f))\n",
    "print('Success: '+str(i))"
   ]
  },
  {
   "cell_type": "code",
   "execution_count": null,
   "id": "8e60bd72",
   "metadata": {},
   "outputs": [],
   "source": []
  }
 ],
 "metadata": {
  "kernelspec": {
   "display_name": "Python 3 (ipykernel)",
   "language": "python",
   "name": "python3"
  },
  "language_info": {
   "codemirror_mode": {
    "name": "ipython",
    "version": 3
   },
   "file_extension": ".py",
   "mimetype": "text/x-python",
   "name": "python",
   "nbconvert_exporter": "python",
   "pygments_lexer": "ipython3",
   "version": "3.9.13"
  }
 },
 "nbformat": 4,
 "nbformat_minor": 5
}
